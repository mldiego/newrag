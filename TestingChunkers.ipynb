{
 "cells": [
  {
   "cell_type": "markdown",
   "id": "134fb15f-1444-4348-a9a0-7fd6e4194ec0",
   "metadata": {},
   "source": [
    "## Chunking methods"
   ]
  },
  {
   "cell_type": "markdown",
   "id": "955b5957-694b-4703-abca-8560cb3bdd72",
   "metadata": {},
   "source": [
    "Load document first"
   ]
  },
  {
   "cell_type": "code",
   "execution_count": 1,
   "id": "e598fc27-cdd2-455a-a68b-11796e14cafa",
   "metadata": {},
   "outputs": [
    {
     "name": "stdout",
     "output_type": "stream",
     "text": [
      "[Document(metadata={'producer': 'Acrobat Distiller 4.05 for Windows', 'creator': 'DVIPSONE 2.2.1  http://www.YandY.com', 'creationdate': 'D:20020429195111', 'title': \"LNCS/LNAI Authors' Instructions\", 'author': 'Springer-Verlag Heidelberg', 'subject': 'TeX output 2002.04.29:1951', 'moddate': '2002-04-29T20:05:47+02:00', 'source': 'data/LNCS.pdf', 'total_pages': 9, 'page': 0, 'page_label': '1'}, page_content='Lecture Notes in Computer Science:\\nAuthors’ Instructions for the Preparation\\nof Camera-Ready Contributions\\nto LNCS/LNAI Proceedings\\nAlfred Hofmann1, Ingrid Beyer1, Anna Kramer1, Erika Siebert-Cole1,\\nAngelika Bernauer-Budiman2, Martina Wiese2, and Anita B¨urk3\\n1 Springer-Verlag, Computer Science Editorial III, Postfach 10 52 80,\\n69042 Heidelberg, Germany\\n{Hofmann, Beyer, Kramer, Erika.Siebert-Cole, LNCS}@Springer.de\\nhttp://www.springer.de/comp/lncs/index.html\\n2 Springer-Verlag, Computer Science Production, Postfach 10 52 80,\\n69042 Heidelberg, Germany\\n{Bernauer, Wiese}@Springer.de\\n3 Springer-Verlag, Marketing Management, Postfach 10 52 80,\\n69042 Heidelberg, Germany\\nBuerk@Springer.de\\nAbstract. The abstract should summarize the contents of the paper\\nand should contain at least 70 and at most 150 words. It should be set\\nin 9-point font size and should be inset 1.0 cm from the right and left\\nmargins. There should be two blank (10-point) lines before and after the\\nabstract. ...\\n1 Introduction\\nThe preparation of manuscripts which are to be reproduced by photo-oﬀset re-\\nquires special care. Papers submitted in a technically unsuitable form will be\\nreturned for retyping, or canceled if the volume cannot otherwise be ﬁnished on\\ntime.\\n1.1 LNCS Online\\nSpringer-Verlag now provides the full-text version of the LNCS and LNAI pro-\\nceedings online. Therefore please submit to the volume editors (and not to\\nSpringer-Verlag), together with your own single-sided printout of the ﬁnal ver-\\nsionofyourcontribution(whichcannotbemodiﬁedatalaterstage),yoursource\\n(input) ﬁles, e.g. TEX ﬁles for the text and PS or EPS ﬁles for ﬁgures, the ﬁnal\\nDVI ﬁle (for papers prepared using L\\nATEXo rTEX), the ﬁnal PS ﬁle4, and, if pos-\\nsible, a PDF ﬁle of the ﬁnal version of your contribution. If you have prepared\\nyour paper using a text processing system other than L\\nATEXo rTEX, please also\\nsubmit RTF ﬁles. Make sure that the text isidentical in all cases.\\n4 When generating the PS ﬁle please avoid using the option “reverse order”.'), Document(metadata={'producer': 'Acrobat Distiller 4.05 for Windows', 'creator': 'DVIPSONE 2.2.1  http://www.YandY.com', 'creationdate': 'D:20020429195111', 'title': \"LNCS/LNAI Authors' Instructions\", 'author': 'Springer-Verlag Heidelberg', 'subject': 'TeX output 2002.04.29:1951', 'moddate': '2002-04-29T20:05:47+02:00', 'source': 'data/LNCS.pdf', 'total_pages': 9, 'page': 1, 'page_label': '2'}, page_content='2 Alfred Hofmann et al.\\n2Manuscript Preparation\\nYou are strongly encouraged to use LATEX2ε for the preparation of your camera-\\nready manuscript together with the corresponding Springer class ﬁlellncs.cls;\\nsee Sect. 3. Only if you use LATEX2ε can hyperlinks be generated in the online\\nversion of your manuscript.\\nIf you are unable to use LATEX, you may use MS Word together with the\\ntemplate sv-lncs.dot (see Sect. 4) or any other text processing system. In the\\nlatter case, please follow these instructions closely in order to make the volume\\nlook as uniform as possible.\\nWe would like to stress that the class/style ﬁles and the template should not\\nbe manipulated and that the guidelines regarding font sizes and format should\\nbe adhered to. This is to ensure that the end product is as homogeneous as\\npossible.\\n2.1 Printing Area\\nThe printing area is 122 mm× 193 mm. The text should be justiﬁed to occupy\\nthefulllinewidth,sothattherightmarginisnotragged,withwordshyphenated\\nas appropriate. Please ﬁll pages so that the length of the text is no less than\\n180 mm.\\n2.2 Layout, Typeface, Font Sizes, and Numbering\\nUse 10-point type for the name(s) of the author(s) and 9-point type for the\\naddress(es) and the abstract. For the main text, please use 10-point type and\\nsingle-line spacing. We recommend using Computer Modern Roman (CM) fonts,\\nTimes,oroneofthesimilartypefaceswidelyusedinphoto-typesetting.(Inthese\\ntypefaces the letters have serifs, i.e., short endstrokes at the head and the foot\\nof letters.) Italic type may be used to emphasize words in running text. Bold\\ntype and underlining should be avoided. With these sizes, the interline distance\\nshould be set so that some 45 lines occur on a full-text page.\\nHeadings. Headings should be capitalized (i.e., nouns, verbs, and all other\\nwordsexceptarticles,prepositions,andconjunctionsshouldbesetwithaninitial\\ncapital) and should, with the exception of the title, be aligned to the left. Words\\njoined by a hyphen are subject to a special rule. If the ﬁrst word can stand alone,\\nthe second word should be capitalized. The font sizes are given in Table 1.\\nHere are some examples of headings: “Criteria to Disprove Context-Freeness\\nofCollageLanguages”,“OnCorrectingtheIntrusionofTracingNon-deterministic\\nPrograms by Software”, “A User-Friendly and Extendable Data Distribution\\nSystem”, “Multi-ﬂip Networks: Parallelizing GenSAT”, “Self-determinations of\\nMan”.'), Document(metadata={'producer': 'Acrobat Distiller 4.05 for Windows', 'creator': 'DVIPSONE 2.2.1  http://www.YandY.com', 'creationdate': 'D:20020429195111', 'title': \"LNCS/LNAI Authors' Instructions\", 'author': 'Springer-Verlag Heidelberg', 'subject': 'TeX output 2002.04.29:1951', 'moddate': '2002-04-29T20:05:47+02:00', 'source': 'data/LNCS.pdf', 'total_pages': 9, 'page': 2, 'page_label': '3'}, page_content='Lecture Notes in Computer Science 3\\nTable 1.Font sizes of headings. Table captions should always be positionedabove the\\ntables. The ﬁnal sentence of a table caption should end without a period\\nHeading level Example Font size and style\\nTitle (centered) Lecture Notes ... 14 point, bold\\n1st-level heading 1 Introduction 12 point, bold\\n2nd-level heading 2.1 Printing Area 10 point, bold\\n3rd-level heading Headings. Text follows ... 10 point, bold\\n4th-level heading Remark. Text follows ... 10 point, italic\\nLemmas, Propositions, and Theorems.The numbers accorded to lemmas,\\npropositions,andtheoremsetc.shouldappearinconsecutiveorder,startingwith\\nthe number 1, and not, for example, with the number 11.\\n2.3 Figures and Photographs\\nPlease produce your ﬁgures electronically, if possible, and integrate them into\\nyour text ﬁle. For L\\nATEX users we recommend using the style ﬁlespsfig or epsf\\n(see Sect. 3).\\nCheck that in line drawings, lines are not interrupted and have constant\\nwidth. Grids and details within the ﬁgures must be clearly readable and may\\nnot be written one on top of the other. Line drawings should have a resolution\\nof at least 800 dpi (preferably 1200 dpi). For digital halftones 300 dpi is usually\\nsuﬃcient. The lettering in ﬁgures should have a height of 2 mm (10-point type).\\nFigures should be scaled up or down accordingly. Please do not use any absolute\\ncoordinates in ﬁgures. If possible, the ﬁles of ﬁgures (e.g. PS ﬁles) should not\\ncontain binary data, but be saved in ASCII format.\\nIf you cannot provide your ﬁgures electronically, paste originals into the\\nmanuscript and center them between the margins. For halftone ﬁgures (pho-\\ntos), please forward high-contrast glossy prints and mark the space in the text\\nas well as the back of the photos clearly, so that there can be no doubt about\\nwhere or which way up they should be placed.\\nFigures should be numbered and should have a caption which should always\\nbe positionedunder the ﬁgures, in contrast to the caption belonging to a table,\\nwhich should always appearabove the table. Please center the captions between\\nthemarginsandsetthemin9-pointtype(Fig.1showsanexample).Thedistance\\nbetween text and ﬁgure should be about 8 mm, the distance between ﬁgure and\\ncaption about 5 mm.\\nIf possible (e.g. if you use L\\nATEX) please deﬁne ﬁgures as ﬂoating objects.\\nLATEX users, please avoid using the location parameter “h” for “here”. If you\\nhave to insert a pagebreak before a ﬁgure, please ensure that the previous page\\nis completely ﬁlled.'), Document(metadata={'producer': 'Acrobat Distiller 4.05 for Windows', 'creator': 'DVIPSONE 2.2.1  http://www.YandY.com', 'creationdate': 'D:20020429195111', 'title': \"LNCS/LNAI Authors' Instructions\", 'author': 'Springer-Verlag Heidelberg', 'subject': 'TeX output 2002.04.29:1951', 'moddate': '2002-04-29T20:05:47+02:00', 'source': 'data/LNCS.pdf', 'total_pages': 9, 'page': 3, 'page_label': '4'}, page_content='4 Alfred Hofmann et al.\\n−25 −20 −15 −10 −5 0 5 10\\n0\\n0.005\\n0.01\\n0.015\\n0.02\\n0.025\\nXi XsXj\\nFig. 1.One kernel atxs (dotted kernel) or two kernels atxi and xj (left and right)\\nlead to the same summed estimate atxs. This shows a ﬁgure consisting of diﬀerent\\ntypes of lines. Elements of the ﬁgure described in the caption should be set in italics,\\nin parentheses, as shown in this sample caption. The last sentence of a ﬁgure caption\\nshould generally end without a period\\nRemark 1. In the printed volumes, illustrations are generally black and white\\n(halftones), and only in exceptional cases, and if the author is prepared to cover\\ntheextracostforcolorreproduction,arecolorpicturesaccepted.Ifcolorillustra-\\ntions are necessary, please send us color-separated ﬁles if possible. Color pictures\\nare welcome in the electronic version at no additional cost.\\nRemark 2. To ensure that the reproduction of your illustrations is of reason-\\nable quality we advise against the use of shading. The contrast should be as\\npronounced as possible. This particularly applies for screenshots.\\n2.4 Formulas\\nDisplayed equations or formulas are centered and set on a separate line (withan\\nextra line or halﬂine space above and below). Displayed expressions should be\\nnumbered for reference. The numbers should be consecutive within each section\\nor within the contribution, with numbers enclosed in parentheses and set on the\\nright margin. For example,\\nψ(u)=\\n∫\\nT\\no\\n[ 1\\n2\\n(\\nΛ−1\\no u, u\\n)\\n+N∗(−u)\\n]\\ndt . (1)\\nPlease punctuate a displayed equation in the same way as ordinary text\\nbut witha small space before th e end punctuation. LATEX users can ﬁnd more\\nexamples of how to typeset equations in the ﬁlellncs.dem (see Sect. 3).'), Document(metadata={'producer': 'Acrobat Distiller 4.05 for Windows', 'creator': 'DVIPSONE 2.2.1  http://www.YandY.com', 'creationdate': 'D:20020429195111', 'title': \"LNCS/LNAI Authors' Instructions\", 'author': 'Springer-Verlag Heidelberg', 'subject': 'TeX output 2002.04.29:1951', 'moddate': '2002-04-29T20:05:47+02:00', 'source': 'data/LNCS.pdf', 'total_pages': 9, 'page': 4, 'page_label': '5'}, page_content='Lecture Notes in Computer Science 5\\n2.5 Program Code\\nProgramlistingsorprogramcommandsinthetextarenormallysetintypewriter\\nfont, e.g., CMTT10 or Courier.\\nExample of a Computer Program\\nprogram Inflation (Output)\\n{Assuming annual inflation rates of 7%, 8%, and 10%,...\\nyears};\\nconst\\nMaxYears = 10;\\nvar\\nYear: 0..MaxYears;\\nFactor1, Factor2, Factor3: Real;\\nbegin\\nYear := 0;\\nFactor1 := 1.0;Factor2 := 1.0;Factor3 := 1.0;\\nWriteLn(’Year 7% 8% 10%’);WriteLn;\\nrepeat\\nYear := Year + 1;\\nFactor1 := Factor1 * 1.07;\\nFactor2 := Factor2 * 1.08;\\nFactor3 := Factor3 * 1.10;\\nWriteLn(Year:5,Factor1:7:3,Factor2:7:3,Factor3:7:3)\\nuntil Year = MaxYears\\nend.\\n(Example from Jensen K., Wirth N. (1991) Pascal user manual and report. Springer,\\nNew York)\\n2.6 Footnotes\\nThe superscript numeral used to refer to a footnote appears in the text either\\ndirectly after the word to be discussed or – in relation to a phrase or a sentence –\\nfollowing the punctuation sign (comma, semicolon, or period). Footnotes should\\nappear at the bottom of the normal text area, with a line of about 2 cm in TEX\\nand about 5 cm in Word set immediately above them.\\n5\\n2.7 Citations\\nThe list of references is headed “References” and is not assigned a number in\\nthe decimal system of headings. The list should be set in small print and placed\\nat the end of your contribution, in front of the appendix, if one exists. Please do\\n5 The footnote numeral is set ﬂush left and the text follows with the usual word\\nspacing. Second and subsequent lines are indented. Footnotes should end with a\\nperiod.'), Document(metadata={'producer': 'Acrobat Distiller 4.05 for Windows', 'creator': 'DVIPSONE 2.2.1  http://www.YandY.com', 'creationdate': 'D:20020429195111', 'title': \"LNCS/LNAI Authors' Instructions\", 'author': 'Springer-Verlag Heidelberg', 'subject': 'TeX output 2002.04.29:1951', 'moddate': '2002-04-29T20:05:47+02:00', 'source': 'data/LNCS.pdf', 'total_pages': 9, 'page': 5, 'page_label': '6'}, page_content='6 Alfred Hofmann et al.\\nnot insert a pagebreak before the list of references if the page is not completely\\nﬁlled. An example is given at the end of this information sheet. For citations in\\nthe text please use square brackets and consecutive numbers: [1], [2], [3] ...\\n2.8 Page Numbering and Running Heads\\nYour paper should show no printed page numbers; these are allocated by the\\nvolume editor. Please indicate the ordering of your pages by numbering the\\nsheets in pencil at the bottom of the reverse side. Do not set running heads.\\n2.9 Printing Quality\\nFor reproduction we need sheets which are printed on one side only. Please use\\na high-resolution printer, preferably a laser printer with at least 300 dpi. We\\nprefer the text to be centered on the pages (i.e., equal margins left and right and\\ntop and bottom). The format of the paper (A4, Letter, etc.) is irrelevant.\\n3 Using LATEXo rTEX\\nYou will get the best results and your ﬁles will be easiest to handle if you\\nuse LATEX2ε for the preparation of your camera-ready manuscript together with\\nthe corresponding Springer class ﬁlellncs.cls. Only if you use LATEX2ε can\\nhyperlinks be generated in the online version of your manuscript.\\nIf you are unable to use LATEX2ε you may use one of our old macro packages\\nllncs (for LATEX) orplncs (for TEX).\\n3.1 How to Access the Springer LATEX2ε,LATEX,\\nand TEX Macro Packages\\nFor users of LATEX (or TEX) Springer-Verlag provides the macro packagellncs\\nfor LATEX (orplncs for TEX). The packages can be obtained by ftp/gopher or\\nby email as follows:\\nFtp: Theinternetaddressis ftp.springer.de,theuserIDis ftporanonymous.\\nPleaseenteryouremailaddressaspassword.Theﬁles(mentionedabove)can\\nbe found in/pub/tex. In the directory\\nftp://ftp.springer.de/pub/tex/latex/llncs/latex2e\\nyou will ﬁnd all ﬁles belonging to the L\\nATEX2ε package for LNCS.llncs.dem\\nis a sample input ﬁle which you may use as a source for your own input.\\nllncs.doc is the documentation of the class;llncs.dvi the resulting DVI\\nﬁle ofllncs.doc.\\nGopher: Point your client toftp.springer.de.'), Document(metadata={'producer': 'Acrobat Distiller 4.05 for Windows', 'creator': 'DVIPSONE 2.2.1  http://www.YandY.com', 'creationdate': 'D:20020429195111', 'title': \"LNCS/LNAI Authors' Instructions\", 'author': 'Springer-Verlag Heidelberg', 'subject': 'TeX output 2002.04.29:1951', 'moddate': '2002-04-29T20:05:47+02:00', 'source': 'data/LNCS.pdf', 'total_pages': 9, 'page': 6, 'page_label': '7'}, page_content='Lecture Notes in Computer Science 7\\nMailserver: Sendanemailmessageto svserv@vax.ntp.springer.decontain-\\ning the line\\nget /tex/latex/llncs2e.zip to get the LATEX2ε style ﬁles,\\nget /tex/latex/llncs.zip to get the LATEX style ﬁles, or\\nget /tex/plain/plncs.zip to get the TEX style ﬁles.\\nSending help to the server prompts advice on how to interact with the\\nmail server. The style ﬁles must be unzipped and uu-decoded before use.\\nIn case of problems in getting or uu-decoding the style ﬁles please contact\\nspringer@vax.ntp.springer.de.\\n3.2 Further Instructions for L\\nATEX and TEX Users\\nPlease always cancel any superﬂuous deﬁnitions that are not actually used in\\nyour text. If you do not, these may conﬂict with the deﬁnitions of the macro\\npackage, causing changes in the structure of the text and leading to numerous\\nmistakes in the proofs.\\nWhen you use L\\nATEXo rTEX and our macro packages, your text is typeset\\nautomatically in Computer Modern Roman (CM) fonts. Please donot change\\nthe preset fonts. If you have to use fonts other than the preset fonts, kindly\\nsubmit these with your ﬁles.\\nPlease use the commands\\\\label and \\\\ref for cross-references and the com-\\nmands \\\\bibitem and \\\\cite for references to the bibliography, to enable us to\\ncreate hyperlinks at these places.\\nFor preparing your ﬁgures electronically and integrating them into your TEX\\nﬁle we recommend using the style ﬁlespsfig or epsf. These can be downloaded\\nfrom the DANTE ftp server at the locations\\nftp://ftp.dante.de/tex-archive/graphics/psfig/psfig.sty or\\nftp://ftp.dante.de/tex-archive/systems/knuth/local/lib/epsf.tex.\\nThese styles have always worked smoothly with our macro package. For further\\ndetails about ﬁgure preparation see Sect. 2.3. In general, please refrain from\\nusing the\\\\special command.\\nRemember to submit the psﬁg or epsf ﬁles and further style ﬁles and fonts\\nyou have used together with your source ﬁles.\\n4 Using MS Word\\nWe do not encourage the use of MS Word, particularly as the layout of the pages\\n(the position of ﬁgures and paragraphs) can change from printout to printout.\\nHaving said this, we do provide the template sv-lncs.dot to help MS Word users\\nprepare their camera-ready manuscripts and to enable us to use their source ﬁles\\nfor the online version.\\nThe template sv-lncs.dot and its documentation can be downloaded from the\\nLNCS Web page athttp://www.springer.de/comp/lncs/authors.html.'), Document(metadata={'producer': 'Acrobat Distiller 4.05 for Windows', 'creator': 'DVIPSONE 2.2.1  http://www.YandY.com', 'creationdate': 'D:20020429195111', 'title': \"LNCS/LNAI Authors' Instructions\", 'author': 'Springer-Verlag Heidelberg', 'subject': 'TeX output 2002.04.29:1951', 'moddate': '2002-04-29T20:05:47+02:00', 'source': 'data/LNCS.pdf', 'total_pages': 9, 'page': 7, 'page_label': '8'}, page_content='8 Alfred Hofmann et al.\\n5 Supplementary Material\\nIf you wishto include color illustrations in th e electronic version in place of or\\nin addition to any black and white illustrations in the printed version, please\\nprovide the volume editors with the appropriate ﬁles.\\nIfyouhavesupplementarymaterial,e.g.,executableﬁles,videoclips,oraudio\\nrecordings, on your server, simply send the volume editors a short description\\nof the supplementary material and inform them of the URL at which it can\\nbe found. We will add the description of the supplementary material to the\\nonline version of LNCS and create a link to your server. Alternatively, if this\\nsupplementary material is not to be updated at any stage, then it can be sent\\ndirectly to the volume editors, together with all the other ﬁles.\\n6 Copyright Form\\nUntil now, we have always had a very liberal policy regarding copyright. How-\\never, we have now had to introduce a copyright form, which we ask contributing\\nauthorstocompleteandsign.(Itissuﬃcientifoneauthorfromeachcontribution\\nsigns the form on behalf of all the other authors.) The copyright form is located\\nonourWebpageat http://www.springer.de/comp/lncs/copyrigh.html.The\\nprinted form should be completed and signed and sent on to the volume editors\\neither by normal mail or by fax, who then send it on to us, together with the\\nprinted manuscript.\\n7 Checklist\\nWhen submitting your camera-ready manuscript to the volume editors, please\\nmake sure you include the following:\\n– a single-sided printout (not a photocopy) of the ﬁnal version of your contri-\\nbution (unless otherwise speciﬁed by the volume editor),\\n– your source (input) ﬁles, e.g. TEX ﬁles for the text and PS or EPS ﬁles for\\nthe ﬁgures,\\n– RTF ﬁles (see Sect. 1.1),\\n– any style ﬁles, templates, and special fonts you may have used,\\n– the ﬁnal DVI ﬁle (for papers prepared using L\\nATEXo rTEX),\\n– the ﬁnal PS ﬁle (not in reverse order),\\n– if possible, a PDF ﬁle of the ﬁnal version of your contribution,\\n– the completed and signed copyright form.\\nIf supplementary material is available, please provide the volume editors with\\n– a short description of the supplementary material,\\n– the supplementary material itself or the URL at which it can be found,\\n– the ﬁles of color ﬁgures for the electronic version.'), Document(metadata={'producer': 'Acrobat Distiller 4.05 for Windows', 'creator': 'DVIPSONE 2.2.1  http://www.YandY.com', 'creationdate': 'D:20020429195111', 'title': \"LNCS/LNAI Authors' Instructions\", 'author': 'Springer-Verlag Heidelberg', 'subject': 'TeX output 2002.04.29:1951', 'moddate': '2002-04-29T20:05:47+02:00', 'source': 'data/LNCS.pdf', 'total_pages': 9, 'page': 8, 'page_label': '9'}, page_content='Lecture Notes in Computer Science 9\\nReferences\\n1. van Leeuwen, J. (ed.): Computer Science Today. Recent Trends and Developments.\\nLecture Notes in Computer Science, Vol. 1000. Springer-Verlag, Berlin Heidelberg\\nNew York (1995)\\n2. Bruce, K.B., Cardelli, L., Pierce, B.C.: Comparing Object Encodings. In: Abadi, M.,\\nIto, T. (eds.): Theoretical Aspects of Computer Software. Lecture Notes in Com-\\nputer Science, Vol. 1281. Springer-Verlag, Berlin Heidelberg New York (1997) 415–\\n438\\n3. Michalewicz, Z.: Genetic Algorithms + Data Structures = Evolution Programs. 3rd\\nedn. Springer-Verlag, Berlin Heidelberg New York (1996)\\n4. Baldonado, M., Chang, C.-C.K., Gravano, L., Paepcke, A.: The Stanford Digital\\nLibrary Metadata Architecture. Int. J. Digit. Libr.1 (1997) 108–121\\nAppendix: Springer-Author Discount\\nAll authors or editors of Springer books,inparticularauthorscontributingtoany\\nLNCS or LNAI proceedings volume, are entitled to buy any book published by\\nSpringer-Verlag for personal use at the “Springer-author” discount of one third\\noﬀthelistprice.SuchpreferentialorderscanonlybeprocessedthroughSpringer\\ndirectly (and not through bookstores); reference to a Springer publication has\\nto be given withsuchorders. Any Springer oﬃce may be contacted, particularly\\nthose in Heidelberg and New York:\\nSpringer Auslieferungsgesellschaft Springer-Verlag New York Inc.\\nHaberstrasse 7 P.O. Box 2485\\n69126 Heidelberg Secaucus, NJ 07096-2485\\nGermany USA\\nFax: +49 6221 345-229 Fax: +1 201 348 4505\\nPhone: +49 6221 345-0 Phone: +1-800-SPRINGER\\n(+1 800 777 4643), toll-free in USA\\nPreferential orders can also be placed by sending an email to\\norders@springer.de or orders@springer-ny.com.\\nFor information about shipping charges, please contact one of the above men-\\ntioned orders departments. Sales tax is required for residents of: CA, IL, MA,\\nMO,NJ,NY,PA,TX,VA,andVT.Canadianresidentspleaseadd7%GST.Pay-\\nment for the book(s) plus shipping charges can be made by giving a credit card\\nnumbertogetherwiththeexpirationdate(AmericanExpress,Eurocard/Master-\\ncard,Discover,andVisaareaccepted)orbyenclosingacheck(mailordersonly).')]\n"
     ]
    }
   ],
   "source": [
    "import os\n",
    "from langchain_community.document_loaders import PyPDFLoader\n",
    "from langchain_community.embeddings import OllamaEmbeddings\n",
    "from langchain_experimental.text_splitter import SemanticChunker\n",
    "\n",
    "# Set the Ollama endpoint (if it's not the default)\n",
    "# os.environ[\"OLLAMA_HOST\"] = \"http://localhost:11434\"\n",
    "\n",
    "# 1. Load the PDF file\n",
    "# Replace 'your_document.pdf' with your file path\n",
    "try:\n",
    "    loader = PyPDFLoader(\"data/LNCS.pdf\")\n",
    "    docs = loader.load()\n",
    "    print(docs)\n",
    "except FileNotFoundError:\n",
    "    print(\"Error: The file 'your_document.pdf' was not found. Please ensure the file exists.\")\n",
    "    exit()"
   ]
  },
  {
   "cell_type": "markdown",
   "id": "f4fc9d65-7718-4121-861c-6cc805fe1f0b",
   "metadata": {},
   "source": [
    "#### Semantic chunking from langchain"
   ]
  },
  {
   "cell_type": "markdown",
   "id": "a57d30e0-2130-4cdd-8a72-ffbbc79c2737",
   "metadata": {},
   "source": [
    "Ensure 'mxbai-embed-large' is pulled via 'ollama pull mxbai-embed-large'"
   ]
  },
  {
   "cell_type": "code",
   "execution_count": 2,
   "id": "3489635c-61e9-43f7-9b5e-c02b9544da8d",
   "metadata": {},
   "outputs": [
    {
     "name": "stderr",
     "output_type": "stream",
     "text": [
      "/tmp/ipykernel_701264/3520105669.py:2: LangChainDeprecationWarning: The class `OllamaEmbeddings` was deprecated in LangChain 0.3.1 and will be removed in 1.0.0. An updated version of the class exists in the :class:`~langchain-ollama package and should be used instead. To use it run `pip install -U :class:`~langchain-ollama` and import as `from :class:`~langchain_ollama import OllamaEmbeddings``.\n",
      "  embeddings = OllamaEmbeddings(model=\"mxbai-embed-large\")\n"
     ]
    },
    {
     "name": "stdout",
     "output_type": "stream",
     "text": [
      "Total number of chunks created: 21\n",
      "\n",
      "--- First Chunk Content ---\n",
      "Lecture Notes in Computer Science:\n",
      "Authors’ Instructions for the Preparation\n",
      "of Camera-Ready Contributions\n",
      "to LNCS/LNAI Proceedings\n",
      "Alfred Hofmann1, Ingrid Beyer1, Anna Kramer1, Erika Siebert-Cole1,\n",
      "Angelika Bernauer-Budiman2, Martina Wiese2, and Anita B¨urk3\n",
      "1 Springer-Verlag, Computer Science Editorial III, Postfach 10 52 80,\n",
      "69042 Heidelberg, Germany\n",
      "{Hofmann, Beyer, Kramer, Erika.Siebert-Cole, LNCS}@Springer.de\n",
      "http://www.springer.de/comp/lncs/index.html\n",
      "2 Springer-Verlag, Computer Science Production, Postfach 10 52 80,\n",
      "69042 Heidelberg, Germany\n",
      "{Bernauer, Wiese}@Springer.de\n",
      "3 Springer-Verlag, Marketing Management, Postfach 10 52 80,\n",
      "69042 Heidelberg, Germany\n",
      "Buerk@Springer.de\n",
      "Abstract. The abstract should summarize the contents of the paper\n",
      "and should contain at least 70 and at most 150 words. It should be set\n",
      "in 9-point font size and should be inset 1.0 cm from the right and left\n",
      "margins. There should be two blank (10-point) lines before and after the\n",
      "abstract. ...\n"
     ]
    }
   ],
   "source": [
    "try:\n",
    "    embeddings = OllamaEmbeddings(model=\"mxbai-embed-large\")\n",
    "except Exception as e:\n",
    "    print(f\"Error initializing OllamaEmbeddings: {e}\")\n",
    "    print(\"Please check that Ollama is running and the specified model is pulled.\")\n",
    "    exit()\n",
    "\n",
    "# 3. Perform semantic chunking\n",
    "# The SemanticChunker uses a character-based splitter and then merges chunks\n",
    "# based on the semantic similarity calculated by the embeddings.\n",
    "semantic_chunker = SemanticChunker(\n",
    "    embeddings,\n",
    "    breakpoint_threshold_type=\"percentile\"\n",
    ")\n",
    "\n",
    "# 4. Split the document into semantic chunks\n",
    "semantic_chunks = semantic_chunker.split_documents(docs)\n",
    "\n",
    "# 5. Print some information to verify the process\n",
    "print(f\"Total number of chunks created: {len(semantic_chunks)}\")\n",
    "print(\"\\n--- First Chunk Content ---\")\n",
    "print(semantic_chunks[0].page_content)"
   ]
  },
  {
   "cell_type": "code",
   "execution_count": 3,
   "id": "8d3486d8-df45-408e-8cb1-8fdd5d07c570",
   "metadata": {},
   "outputs": [
    {
     "name": "stdout",
     "output_type": "stream",
     "text": [
      "\n",
      "--- Last Chunk Content ---\n",
      "Digit. Libr.1 (1997) 108–121\n",
      "Appendix: Springer-Author Discount\n",
      "All authors or editors of Springer books,inparticularauthorscontributingtoany\n",
      "LNCS or LNAI proceedings volume, are entitled to buy any book published by\n",
      "Springer-Verlag for personal use at the “Springer-author” discount of one third\n",
      "oﬀthelistprice.SuchpreferentialorderscanonlybeprocessedthroughSpringer\n",
      "directly (and not through bookstores); reference to a Springer publication has\n",
      "to be given withsuchorders. Any Springer oﬃce may be contacted, particularly\n",
      "those in Heidelberg and New York:\n",
      "Springer Auslieferungsgesellschaft Springer-Verlag New York Inc. Haberstrasse 7 P.O. Box 2485\n",
      "69126 Heidelberg Secaucus, NJ 07096-2485\n",
      "Germany USA\n",
      "Fax: +49 6221 345-229 Fax: +1 201 348 4505\n",
      "Phone: +49 6221 345-0 Phone: +1-800-SPRINGER\n",
      "(+1 800 777 4643), toll-free in USA\n",
      "Preferential orders can also be placed by sending an email to\n",
      "orders@springer.de or orders@springer-ny.com. For information about shipping charges, please contact one of the above men-\n",
      "tioned orders departments. Sales tax is required for residents of: CA, IL, MA,\n",
      "MO,NJ,NY,PA,TX,VA,andVT.Canadianresidentspleaseadd7%GST.Pay-\n",
      "ment for the book(s) plus shipping charges can be made by giving a credit card\n",
      "numbertogetherwiththeexpirationdate(AmericanExpress,Eurocard/Master-\n",
      "card,Discover,andVisaareaccepted)orbyenclosingacheck(mailordersonly).\n"
     ]
    }
   ],
   "source": [
    "print(\"\\n--- Last Chunk Content ---\")\n",
    "print(semantic_chunks[20].page_content)"
   ]
  },
  {
   "cell_type": "code",
   "execution_count": 4,
   "id": "42f90025-8323-4ea3-9c32-356fe3f8dd6d",
   "metadata": {},
   "outputs": [
    {
     "name": "stdout",
     "output_type": "stream",
     "text": [
      "\n",
      "--- Chunk Content ---\n",
      "Lecture Notes in Computer Science 5\n",
      "2.5 Program Code\n",
      "Programlistingsorprogramcommandsinthetextarenormallysetintypewriter\n",
      "font, e.g., CMTT10 or Courier. Example of a Computer Program\n",
      "program Inflation (Output)\n",
      "{Assuming annual inflation rates of 7%, 8%, and 10%,... years};\n",
      "const\n",
      "MaxYears = 10;\n",
      "var\n",
      "Year: 0..MaxYears;\n",
      "Factor1, Factor2, Factor3: Real;\n",
      "begin\n",
      "Year := 0;\n",
      "Factor1 := 1.0;Factor2 := 1.0;Factor3 := 1.0;\n",
      "WriteLn(’Year 7% 8% 10%’);WriteLn;\n",
      "repeat\n",
      "Year := Year + 1;\n",
      "Factor1 := Factor1 * 1.07;\n",
      "Factor2 := Factor2 * 1.08;\n",
      "Factor3 := Factor3 * 1.10;\n",
      "WriteLn(Year:5,Factor1:7:3,Factor2:7:3,Factor3:7:3)\n",
      "until Year = MaxYears\n",
      "end. (Example from Jensen K., Wirth N.\n"
     ]
    }
   ],
   "source": [
    "print(\"\\n--- Chunk Content ---\")\n",
    "print(semantic_chunks[10].page_content)"
   ]
  },
  {
   "cell_type": "code",
   "execution_count": 5,
   "id": "c60c3425-de72-494e-b50f-937242b1d9d5",
   "metadata": {},
   "outputs": [
    {
     "name": "stdout",
     "output_type": "stream",
     "text": [
      "\n",
      "--- First Chunk Content ---\n",
      "2 Alfred Hofmann et al. 2Manuscript Preparation\n",
      "You are strongly encouraged to use LATEX2ε for the preparation of your camera-\n",
      "ready manuscript together with the corresponding Springer class ﬁlellncs.cls;\n",
      "see Sect. 3.\n"
     ]
    }
   ],
   "source": [
    "print(\"\\n--- First Chunk Content ---\")\n",
    "print(semantic_chunks[2].page_content)"
   ]
  },
  {
   "cell_type": "code",
   "execution_count": 6,
   "id": "15f7530e-27a4-4c98-8eaf-63c52344461a",
   "metadata": {},
   "outputs": [
    {
     "name": "stdout",
     "output_type": "stream",
     "text": [
      "\n",
      "--- First Chunk Content ---\n",
      "1 Introduction\n",
      "The preparation of manuscripts which are to be reproduced by photo-oﬀset re-\n",
      "quires special care. Papers submitted in a technically unsuitable form will be\n",
      "returned for retyping, or canceled if the volume cannot otherwise be ﬁnished on\n",
      "time. 1.1 LNCS Online\n",
      "Springer-Verlag now provides the full-text version of the LNCS and LNAI pro-\n",
      "ceedings online. Therefore please submit to the volume editors (and not to\n",
      "Springer-Verlag), together with your own single-sided printout of the ﬁnal ver-\n",
      "sionofyourcontribution(whichcannotbemodiﬁedatalaterstage),yoursource\n",
      "(input) ﬁles, e.g. TEX ﬁles for the text and PS or EPS ﬁles for ﬁgures, the ﬁnal\n",
      "DVI ﬁle (for papers prepared using L\n",
      "ATEXo rTEX), the ﬁnal PS ﬁle4, and, if pos-\n",
      "sible, a PDF ﬁle of the ﬁnal version of your contribution. If you have prepared\n",
      "your paper using a text processing system other than L\n",
      "ATEXo rTEX, please also\n",
      "submit RTF ﬁles. Make sure that the text isidentical in all cases. 4 When generating the PS ﬁle please avoid using the option “reverse order”.\n"
     ]
    }
   ],
   "source": [
    "print(\"\\n--- First Chunk Content ---\")\n",
    "print(semantic_chunks[1].page_content)"
   ]
  },
  {
   "cell_type": "markdown",
   "id": "92874430-b4ef-4535-86fb-49983a222b52",
   "metadata": {},
   "source": [
    "### Late chunking"
   ]
  },
  {
   "cell_type": "markdown",
   "id": "4f690f92-cf71-4c4d-a5d9-237808a10841",
   "metadata": {},
   "source": [
    "https://github.com/jina-ai/late-chunking"
   ]
  },
  {
   "cell_type": "markdown",
   "id": "56c58ab5-1cd5-4ded-b69b-2a03f28c3a56",
   "metadata": {},
   "source": [
    "Compare sentence chunking to late chunking"
   ]
  },
  {
   "cell_type": "code",
   "execution_count": 7,
   "id": "b5e113c0-394b-4815-a2b8-746f68709c24",
   "metadata": {},
   "outputs": [],
   "source": [
    "# For comparison, let's create the span annotations for the langchain one as well\n",
    "def split_with_spans(text, chunker):\n",
    "    start_index = 0\n",
    "    documents_with_spans = []\n",
    "    chunks = []\n",
    "    spans = []\n",
    "\n",
    "    # Use the splitter to get the content of the chunks\n",
    "    split_contents = chunker.split_text(text)\n",
    "\n",
    "    for chunk_content in split_contents:\n",
    "        # Find the starting position of the chunk in the original text\n",
    "        # start_char = text.find(chunk_content, start_index)\n",
    "        # if start_char == -1:\n",
    "        #     # Fallback for overlaps or slight differences\n",
    "        #     start_char = start_index\n",
    "\n",
    "        end_index = start_index + len(chunk_content)\n",
    "\n",
    "        chunks.append(chunk_content)\n",
    "        spans.append((start_index, end_index))\n",
    "\n",
    "        # Update the start_index for the next search\n",
    "        start_index = end_index + 1\n",
    "\n",
    "    return chunks,spans"
   ]
  },
  {
   "cell_type": "code",
   "execution_count": 8,
   "id": "78687d8e-142f-4b25-82c1-1c6a9ce2ce53",
   "metadata": {},
   "outputs": [],
   "source": [
    "# Do some late chunking now\n",
    "from transformers import AutoModel\n",
    "from transformers import AutoTokenizer\n",
    "from chunked_pooling import chunked_pooling, chunk_by_sentences\n",
    "\n",
    "# load model and tokenizer\n",
    "tokenizer = AutoTokenizer.from_pretrained('jinaai/jina-embeddings-v2-base-en', trust_remote_code=True)\n",
    "model = AutoModel.from_pretrained('jinaai/jina-embeddings-v2-base-en', trust_remote_code=True)\n",
    "\n",
    "# Text to chunk\n",
    "input_text = \"Berlin is the capital and largest city of Germany, both by area and by population. Its more than 3.85 million inhabitants make it the European Union's most populous city, as measured by population within city limits. The city is also one of the states of Germany, and is the third smallest state in the country in terms of area.\""
   ]
  },
  {
   "cell_type": "code",
   "execution_count": 9,
   "id": "9e41a155-4022-4654-976f-c713fa434189",
   "metadata": {},
   "outputs": [
    {
     "name": "stdout",
     "output_type": "stream",
     "text": [
      "Chunks:\n",
      "- \"Berlin is the capital and largest city of Germany, both by area and by population. Its more than 3.85 million inhabitants make it the European Union's most populous city, as measured by population within city limits.\"\n",
      "- \"The city is also one of the states of Germany, and is the third smallest state in the country in terms of area.\"\n",
      " \n",
      "[(0, 216), (217, 328)]\n"
     ]
    }
   ],
   "source": [
    "# langchain chunker\n",
    "lang_chunks,lang_spans = split_with_spans(input_text, semantic_chunker)\n",
    "print('Chunks:\\n- \"' + '\"\\n- \"'.join(lang_chunks) + '\"')\n",
    "print(\" \")\n",
    "print(lang_spans)"
   ]
  },
  {
   "cell_type": "code",
   "execution_count": 10,
   "id": "31c82eb4-94d4-4a82-9e76-cf968fcae76e",
   "metadata": {},
   "outputs": [
    {
     "name": "stdout",
     "output_type": "stream",
     "text": [
      "Chunks:\n",
      "- \"Berlin is the capital and largest city of Germany, both by area and by population.\"\n",
      "- \" Its more than 3.85 million inhabitants make it the European Union's most populous city, as measured by population within city limits.\"\n",
      "- \" The city is also one of the states of Germany, and is the third smallest state in the country in terms of area.\"\n",
      " \n",
      "[(1, 17), (17, 44), (44, 69)]\n"
     ]
    }
   ],
   "source": [
    "# determine chunks\n",
    "chunks, span_annotations = chunk_by_sentences(input_text, tokenizer)\n",
    "print('Chunks:\\n- \"' + '\"\\n- \"'.join(chunks) + '\"')\n",
    "print(\" \")\n",
    "print(span_annotations)"
   ]
  },
  {
   "cell_type": "markdown",
   "id": "6f4eb093-b7b0-442d-8591-b252d2ae64ee",
   "metadata": {},
   "source": [
    "Now we encode the chunks with the traditional and the context-sensitive chunked pooling method chunk before"
   ]
  },
  {
   "cell_type": "code",
   "execution_count": 11,
   "id": "ebf48425-1029-4368-8752-795c63eed0e2",
   "metadata": {},
   "outputs": [],
   "source": [
    "embeddings_traditional_chunking = model.encode(chunks)\n",
    "# chunk afterwards (context-sensitive chunked pooling)\n",
    "inputs = tokenizer(input_text, return_tensors='pt')\n",
    "model_output = model(**inputs)\n",
    "embeddings = chunked_pooling(model_output, [span_annotations])[0]"
   ]
  },
  {
   "cell_type": "code",
   "execution_count": 12,
   "id": "8da998d2-44d9-4d6d-993a-a7ad3371b869",
   "metadata": {},
   "outputs": [],
   "source": [
    "# langchain embbeddings\n",
    "lang_embeddings = chunked_pooling(model_output, [lang_spans])[0]"
   ]
  },
  {
   "cell_type": "markdown",
   "id": "f46ae8c0-caf9-4203-8e3f-37018b5ab5e4",
   "metadata": {},
   "source": [
    "Now, compare similarity with chunks"
   ]
  },
  {
   "cell_type": "code",
   "execution_count": 13,
   "id": "f9d08e84-7c1e-4fcd-b547-7636d41bfcd0",
   "metadata": {},
   "outputs": [
    {
     "name": "stdout",
     "output_type": "stream",
     "text": [
      "similarity_new(\"Berlin\", \"Berlin is the capital and largest city of Germany, both by area and by population.\"): 0.849546\n",
      "similarity_trad(\"Berlin\", \"Berlin is the capital and largest city of Germany, both by area and by population.\"): 0.8486219\n",
      "similarity_new(\"Berlin\", \" Its more than 3.85 million inhabitants make it the European Union's most populous city, as measured by population within city limits.\"): 0.82489026\n",
      "similarity_trad(\"Berlin\", \" Its more than 3.85 million inhabitants make it the European Union's most populous city, as measured by population within city limits.\"): 0.70843387\n",
      "similarity_new(\"Berlin\", \" The city is also one of the states of Germany, and is the third smallest state in the country in terms of area.\"): 0.8498009\n",
      "similarity_trad(\"Berlin\", \" The city is also one of the states of Germany, and is the third smallest state in the country in terms of area.\"): 0.75345534\n"
     ]
    }
   ],
   "source": [
    "import numpy as np\n",
    "\n",
    "# cosine similarity -> dot product normalized\n",
    "cos_sim = lambda x, y: np.dot(x, y) / (np.linalg.norm(x) * np.linalg.norm(y))\n",
    "\n",
    "berlin_embedding = model.encode('Berlin')\n",
    "\n",
    "for chunk, new_embedding, trad_embeddings in zip(chunks, embeddings, embeddings_traditional_chunking):\n",
    "    print(f'similarity_new(\"Berlin\", \"{chunk}\"):', cos_sim(berlin_embedding, new_embedding))\n",
    "    print(f'similarity_trad(\"Berlin\", \"{chunk}\"):', cos_sim(berlin_embedding, trad_embeddings))"
   ]
  },
  {
   "cell_type": "code",
   "execution_count": 14,
   "id": "18de0f28-ca62-4418-bec9-f878327ed6f5",
   "metadata": {},
   "outputs": [
    {
     "name": "stdout",
     "output_type": "stream",
     "text": [
      "similarity_langchain(\"Berlin\", \"Berlin is the capital and largest city of Germany, both by area and by population. Its more than 3.85 million inhabitants make it the European Union's most populous city, as measured by population within city limits.\"): 0.85809577\n",
      "similarity_langchain(\"Berlin\", \"The city is also one of the states of Germany, and is the third smallest state in the country in terms of area.\"): nan\n"
     ]
    },
    {
     "name": "stderr",
     "output_type": "stream",
     "text": [
      "/tmp/ipykernel_701264/3837717899.py:4: RuntimeWarning: invalid value encountered in scalar divide\n",
      "  cos_sim = lambda x, y: np.dot(x, y) / (np.linalg.norm(x) * np.linalg.norm(y))\n"
     ]
    }
   ],
   "source": [
    "# lang embedings\n",
    "for chunk, new_embedding in zip(lang_chunks, lang_embeddings):\n",
    "    print(f'similarity_langchain(\"Berlin\", \"{chunk}\"):', cos_sim(berlin_embedding, new_embedding))"
   ]
  },
  {
   "cell_type": "code",
   "execution_count": 15,
   "id": "9470379d-9bdb-4ec8-9813-e85d1f0f01e1",
   "metadata": {},
   "outputs": [],
   "source": [
    "## TODO: Add more examples\n",
    "\n",
    "mj_text = \"\"\"\n",
    "\n",
    "Michael Jeffrey Jordan (born February 17, 1963), also known by his initials MJ,[8] is an American businessman, former professional basketball and baseball player, who is a minority owner of the Charlotte Hornets of the National Basketball Association (NBA). He played 15 seasons in the NBA between 1984-2003, winning six NBA championships with the Chicago Bulls. Widely considered to be one of the greatest players of all time,[9][10][11] he was integral in popularizing basketball and the NBA around the world in the 1980s and 1990s,[12] becoming a global cultural icon.[13]\n",
    "\n",
    "Jordan played college basketball with the North Carolina Tar Heels. As a freshman, he was a member of the Tar Heels' national championship team in 1982.[5] Jordan joined the Bulls in 1984 as the third overall draft pick[5][14] and emerged as a league star, entertaining crowds with his prolific scoring while gaining a reputation as one of the best defensive players.[15] His leaping ability, demonstrated by performing slam dunks from the free-throw line in Slam Dunk Contests, earned him the nicknames \"Air Jordan\" and \"His Airness\".[5] Jordan won his first NBA title with the Bulls in 1991 and followed that with titles in 1992 and 1993, securing a three-peat. Citing physical and mental exhaustion from basketball and superstardom, Jordan abruptly retired before the 1993–94 NBA season to play Minor League Baseball in the Chicago White Sox organization. He returned to the Bulls in 1995 and led them to three more championships in 1996, 1997, and 1998, as well as a then-record 72 regular season wins in the 1995–96 NBA season.[5] Jordan retired for the second time in 1999, returning for two NBA seasons from 2001 to 2003 as a member of the Washington Wizards.[5][14] He was selected to play for the United States national team during his college and NBA careers, winning four gold medals—at the 1983 Pan American Games, 1984 Summer Olympics, 1992 Tournament of the Americas and 1992 Summer Olympics—while also being undefeated.[16]\n",
    "\n",
    "Jordan's individual accolades include six NBA Finals Most Valuable Player (MVP) awards, ten NBA scoring titles (both all-time records), five NBA MVP awards, 10 All-NBA First Team designations, nine All-Defensive First Team honors, fourteen NBA All-Star Game selections, three NBA All-Star Game MVP awards, and three NBA steals titles.[14] He holds the NBA records for career regular season scoring average (30.1 points per game) and career playoff scoring average (33.4 points per game).[17] He is one of only eight players to achieve the basketball Triple Crown. In 1999, Jordan was named the 20th century's greatest North American athlete by ESPN and was second to Babe Ruth on the Associated Press' list of athletes of the century.[5] Jordan was twice inducted into the Naismith Memorial Basketball Hall of Fame, once in 2009 for his individual career,[18] and in 2010 as part of the 1992 United States men's Olympic basketball team (\"The Dream Team\").[19] He became a member of the United States Olympic Hall of Fame in 2009,[20] an individual member of the FIBA Hall of Fame in 2015 and a \"Dream Team\" member in 2017.[21][22] Jordan was named to the NBA 75th Anniversary Team in 2021.[23] The trophy for the NBA Most Valuable Player Award is named in his honor.\n",
    "\n",
    "One of the most effectively marketed athletes ever, Jordan made many product endorsements.[12][24] He fueled the success of Nike's Air Jordan sneakers, which were introduced in 1984 and remain popular.[25] Jordan starred as himself in the live-action/animation hybrid film Space Jam (1996) and was the focus of the Emmy-winning documentary series The Last Dance (2020). He became part-owner and head of basketball operations for the Charlotte Hornets (then named the Bobcats) in 2006 and bought a controlling interest in 2010, before selling his majority stake in 2023. Jordan is a co-owner of 23XI Racing in the NASCAR Cup Series. In 2014, he became the first billionaire player in NBA history.[26] In 2016, President Barack Obama awarded Jordan the Presidential Medal of Freedom.[27] As of 2025, his net worth is estimated at $3.8 billion by Forbes,[28] making him one of the richest celebrities.\n",
    "\"\"\""
   ]
  },
  {
   "cell_type": "code",
   "execution_count": 16,
   "id": "18bd868b-c84f-4825-a2c4-71bcf85b8016",
   "metadata": {},
   "outputs": [
    {
     "name": "stdout",
     "output_type": "stream",
     "text": [
      "Chunks:\n",
      "- \"\n",
      "\n",
      "Michael Jeffrey Jordan (born February 17, 1963), also known by his initials MJ,[8] is an American businessman, former professional basketball and baseball player, who is a minority owner of the Charlotte Hornets of the National Basketball Association (NBA). He played 15 seasons in the NBA between 1984-2003, winning six NBA championships with the Chicago Bulls. Widely considered to be one of the greatest players of all time,[9][10][11] he was integral in popularizing basketball and the NBA around the world in the 1980s and 1990s,[12] becoming a global cultural icon.[13]\n",
      "\n",
      "Jordan played college basketball with the North Carolina Tar Heels. As a freshman, he was a member of the Tar Heels' national championship team in 1982.[5] Jordan joined the Bulls in 1984 as the third overall draft pick[5][14] and emerged as a league star, entertaining crowds with his prolific scoring while gaining a reputation as one of the best defensive players.[15] His leaping ability, demonstrated by performing slam dunks from the free-throw line in Slam Dunk Contests, earned him the nicknames \"Air Jordan\" and \"His Airness\".[5] Jordan won his first NBA title with the Bulls in 1991 and followed that with titles in 1992 and 1993, securing a three-peat. Citing physical and mental exhaustion from basketball and superstardom, Jordan abruptly retired before the 1993–94 NBA season to play Minor League Baseball in the Chicago White Sox organization. He returned to the Bulls in 1995 and led them to three more championships in 1996, 1997, and 1998, as well as a then-record 72 regular season wins in the 1995–96 NBA season.[5] Jordan retired for the second time in 1999, returning for two NBA seasons from 2001 to 2003 as a member of the Washington Wizards.[5][14] He was selected to play for the United States national team during his college and NBA careers, winning four gold medals—at the 1983 Pan American Games, 1984 Summer Olympics, 1992 Tournament of the Americas and 1992 Summer Olympics—while also being undefeated.[16]\n",
      "\n",
      "Jordan's individual accolades include six NBA Finals Most Valuable Player (MVP) awards, ten NBA scoring titles (both all-time records), five NBA MVP awards, 10 All-NBA First Team designations, nine All-Defensive First Team honors, fourteen NBA All-Star Game selections, three NBA All-Star Game MVP awards, and three NBA steals titles.[14] He holds the NBA records for career regular season scoring average (30.1 points per game) and career playoff scoring average (33.4 points per game).[17] He is one of only eight players to achieve the basketball Triple Crown. In 1999, Jordan was named the 20th century's greatest North American athlete by ESPN and was second to Babe Ruth on the Associated Press' list of athletes of the century.[5] Jordan was twice inducted into the Naismith Memorial Basketball Hall of Fame, once in 2009 for his individual career,[18] and in 2010 as part of the 1992 United States men's Olympic basketball team (\"The Dream Team\").[19] He became a member of the United States Olympic Hall of Fame in 2009,[20] an individual member of the FIBA Hall of Fame in 2015 and a \"Dream Team\" member in 2017.[21][22] Jordan was named to the NBA 75th Anniversary Team in 2021.[23] The trophy for the NBA Most Valuable Player Award is named in his honor. One of the most effectively marketed athletes ever, Jordan made many product endorsements.[12][24] He fueled the success of Nike's Air Jordan sneakers, which were introduced in 1984 and remain popular.[25] Jordan starred as himself in the live-action/animation hybrid film Space Jam (1996) and was the focus of the Emmy-winning documentary series The Last Dance (2020). He became part-owner and head of basketball operations for the Charlotte Hornets (then named the Bobcats) in 2006 and bought a controlling interest in 2010, before selling his majority stake in 2023.\"\n",
      "- \"Jordan is a co-owner of 23XI Racing in the NASCAR Cup Series. In 2014, he became the first billionaire player in NBA history.[26] In 2016, President Barack Obama awarded Jordan the Presidential Medal of Freedom.[27] As of 2025, his net worth is estimated at $3.8 billion by Forbes,[28] making him one of the richest celebrities. \"\n",
      " \n",
      "[(0, 3855), (3856, 4185)]\n"
     ]
    }
   ],
   "source": [
    "# langchain chunker\n",
    "lang_chunks,lang_spans = split_with_spans(mj_text, semantic_chunker)\n",
    "print('Chunks:\\n- \"' + '\"\\n- \"'.join(lang_chunks) + '\"')\n",
    "print(\" \")\n",
    "print(lang_spans)"
   ]
  },
  {
   "cell_type": "code",
   "execution_count": 17,
   "id": "d9edeb80-d2b7-4935-9c07-bd22b8448ad3",
   "metadata": {},
   "outputs": [
    {
     "name": "stdout",
     "output_type": "stream",
     "text": [
      "Chunks:\n",
      "- \"\n",
      "\n",
      "Michael Jeffrey Jordan (born February 17, 1963), also known by his initials MJ,[8] is an American businessman, former professional basketball and baseball player, who is a minority owner of the Charlotte Hornets of the National Basketball Association (NBA).\"\n",
      "- \" He played 15 seasons in the NBA between 1984-2003, winning six NBA championships with the Chicago Bulls.\"\n",
      "- \" Widely considered to be one of the greatest players of all time,[9][10][11] he was integral in popularizing basketball and the NBA around the world in the 1980s and 1990s,[12] becoming a global cultural icon.[13]\n",
      "\n",
      "Jordan played college basketball with the North Carolina Tar Heels.\"\n",
      "- \" As a freshman, he was a member of the Tar Heels' national championship team in 1982.[5] Jordan joined the Bulls in 1984 as the third overall draft pick[5][14] and emerged as a league star, entertaining crowds with his prolific scoring while gaining a reputation as one of the best defensive players.[15] His leaping ability, demonstrated by performing slam dunks from the free-throw line in Slam Dunk Contests, earned him the nicknames \"Air Jordan\" and \"His Airness\".[5] Jordan won his first NBA title with the Bulls in 1991 and followed that with titles in 1992 and 1993, securing a three-peat.\"\n",
      "- \" Citing physical and mental exhaustion from basketball and superstardom, Jordan abruptly retired before the 1993–94 NBA season to play Minor League Baseball in the Chicago White Sox organization.\"\n",
      "- \" He returned to the Bulls in 1995 and led them to three more championships in 1996, 1997, and 1998, as well as a then-record 72 regular season wins in the 1995–96 NBA season.[5] Jordan retired for the second time in 1999, returning for two NBA seasons from 2001 to 2003 as a member of the Washington Wizards.[5][14] He was selected to play for the United States national team during his college and NBA careers, winning four gold medals—at the 1983 Pan American Games, 1984 Summer Olympics, 1992 Tournament of the Americas and 1992 Summer Olympics—while also being undefeated.[16]\n",
      "\n",
      "Jordan's individual accolades include six NBA Finals Most Valuable Player (MVP) awards, ten NBA scoring titles (both all-time records), five NBA MVP awards, 10 All-NBA First Team designations, nine All-Defensive First Team honors, fourteen NBA All-Star Game selections, three NBA All-Star Game MVP awards, and three NBA steals titles.[14] He holds the NBA records for career regular season scoring average (30.1 points per game) and career playoff scoring average (33.4 points per game).[17] He is one of only eight players to achieve the basketball Triple Crown.\"\n",
      "- \" In 1999, Jordan was named the 20th century's greatest North American athlete by ESPN and was second to Babe Ruth on the Associated Press' list of athletes of the century.[5] Jordan was twice inducted into the Naismith Memorial Basketball Hall of Fame, once in 2009 for his individual career,[18] and in 2010 as part of the 1992 United States men's Olympic basketball team (\"The Dream Team\").[19] He became a member of the United States Olympic Hall of Fame in 2009,[20] an individual member of the FIBA Hall of Fame in 2015 and a \"Dream Team\" member in 2017.[21][22] Jordan was named to the NBA 75th Anniversary Team in 2021.[23] The trophy for the NBA Most Valuable Player Award is named in his honor.\"\n",
      "- \"\n",
      "\n",
      "One of the most effectively marketed athletes ever, Jordan made many product endorsements.[12][24] He fueled the success of Nike's Air Jordan sneakers, which were introduced in 1984 and remain popular.[25] Jordan starred as himself in the live-action/animation hybrid film Space Jam (1996) and was the focus of the Emmy-winning documentary series The Last Dance (2020).\"\n",
      "- \" He became part-owner and head of basketball operations for the Charlotte Hornets (then named the Bobcats) in 2006 and bought a controlling interest in 2010, before selling his majority stake in 2023.\"\n",
      "- \" Jordan is a co-owner of 23XI Racing in the NASCAR Cup Series.\"\n",
      "- \" In 2014, he became the first billionaire player in NBA history.[26] In 2016, President Barack Obama awarded Jordan the Presidential Medal of Freedom.[27] As of 2025, his net worth is estimated at $3.8 billion by Forbes,[28] making him one of the richest celebrities.\"\n",
      " \n",
      "[(1, 52), (52, 73), (73, 137), (137, 273), (273, 306), (306, 560), (560, 726), (726, 808), (808, 848), (848, 864), (864, 927)]\n"
     ]
    }
   ],
   "source": [
    "# determine chunks (latent vs traditional sentences)\n",
    "chunks, span_annotations = chunk_by_sentences(mj_text, tokenizer)\n",
    "print('Chunks:\\n- \"' + '\"\\n- \"'.join(chunks) + '\"')\n",
    "print(\" \")\n",
    "print(span_annotations)"
   ]
  },
  {
   "cell_type": "code",
   "execution_count": 18,
   "id": "63e03156-8a5e-48b2-962a-9801fae22a60",
   "metadata": {},
   "outputs": [],
   "source": [
    "# traditional embedding\n",
    "embeddings_traditional_chunking = model.encode(chunks)\n",
    "\n",
    "# chunk afterwards (context-sensitive chunked pooling) - latent \n",
    "inputs = tokenizer(mj_text, return_tensors='pt')\n",
    "model_output = model(**inputs)\n",
    "embeddings = chunked_pooling(model_output, [span_annotations])[0]"
   ]
  },
  {
   "cell_type": "code",
   "execution_count": 19,
   "id": "99ad3806-94b4-4904-9586-63abadb47d64",
   "metadata": {},
   "outputs": [],
   "source": [
    "# langchain embbeddings\n",
    "lang_embeddings = chunked_pooling(model_output, [lang_spans])[0]"
   ]
  },
  {
   "cell_type": "code",
   "execution_count": 20,
   "id": "ca8fdc0f-9d27-4308-8e3b-4560ea02938d",
   "metadata": {},
   "outputs": [
    {
     "name": "stdout",
     "output_type": "stream",
     "text": [
      "similarity_new(\"Michael Jordan\", \"\n",
      "\n",
      "Michael Jeffrey Jordan (born February 17, 1963), also known by his initials MJ,[8] is an American businessman, former professional basketball and baseball player, who is a minority owner of the Charlotte Hornets of the National Basketball Association (NBA).\"): 0.67259985\n",
      "similarity_trad(\"Michael Jordan\", \"\n",
      "\n",
      "Michael Jeffrey Jordan (born February 17, 1963), also known by his initials MJ,[8] is an American businessman, former professional basketball and baseball player, who is a minority owner of the Charlotte Hornets of the National Basketball Association (NBA).\"): 0.74062645\n",
      " \n",
      "-------------------------------------------------------\n",
      " \n",
      "similarity_new(\"Michael Jordan\", \" He played 15 seasons in the NBA between 1984-2003, winning six NBA championships with the Chicago Bulls.\"): 0.64387697\n",
      "similarity_trad(\"Michael Jordan\", \" He played 15 seasons in the NBA between 1984-2003, winning six NBA championships with the Chicago Bulls.\"): 0.63204616\n",
      " \n",
      "-------------------------------------------------------\n",
      " \n",
      "similarity_new(\"Michael Jordan\", \" Widely considered to be one of the greatest players of all time,[9][10][11] he was integral in popularizing basketball and the NBA around the world in the 1980s and 1990s,[12] becoming a global cultural icon.[13]\n",
      "\n",
      "Jordan played college basketball with the North Carolina Tar Heels.\"): 0.73607427\n",
      "similarity_trad(\"Michael Jordan\", \" Widely considered to be one of the greatest players of all time,[9][10][11] he was integral in popularizing basketball and the NBA around the world in the 1980s and 1990s,[12] becoming a global cultural icon.[13]\n",
      "\n",
      "Jordan played college basketball with the North Carolina Tar Heels.\"): 0.7325293\n",
      " \n",
      "-------------------------------------------------------\n",
      " \n",
      "similarity_new(\"Michael Jordan\", \" As a freshman, he was a member of the Tar Heels' national championship team in 1982.[5] Jordan joined the Bulls in 1984 as the third overall draft pick[5][14] and emerged as a league star, entertaining crowds with his prolific scoring while gaining a reputation as one of the best defensive players.[15] His leaping ability, demonstrated by performing slam dunks from the free-throw line in Slam Dunk Contests, earned him the nicknames \"Air Jordan\" and \"His Airness\".[5] Jordan won his first NBA title with the Bulls in 1991 and followed that with titles in 1992 and 1993, securing a three-peat.\"): 0.71979123\n",
      "similarity_trad(\"Michael Jordan\", \" As a freshman, he was a member of the Tar Heels' national championship team in 1982.[5] Jordan joined the Bulls in 1984 as the third overall draft pick[5][14] and emerged as a league star, entertaining crowds with his prolific scoring while gaining a reputation as one of the best defensive players.[15] His leaping ability, demonstrated by performing slam dunks from the free-throw line in Slam Dunk Contests, earned him the nicknames \"Air Jordan\" and \"His Airness\".[5] Jordan won his first NBA title with the Bulls in 1991 and followed that with titles in 1992 and 1993, securing a three-peat.\"): 0.69543207\n",
      " \n",
      "-------------------------------------------------------\n",
      " \n",
      "similarity_new(\"Michael Jordan\", \" Citing physical and mental exhaustion from basketball and superstardom, Jordan abruptly retired before the 1993–94 NBA season to play Minor League Baseball in the Chicago White Sox organization.\"): 0.69563925\n",
      "similarity_trad(\"Michael Jordan\", \" Citing physical and mental exhaustion from basketball and superstardom, Jordan abruptly retired before the 1993–94 NBA season to play Minor League Baseball in the Chicago White Sox organization.\"): 0.6984358\n",
      " \n",
      "-------------------------------------------------------\n",
      " \n",
      "similarity_new(\"Michael Jordan\", \" He returned to the Bulls in 1995 and led them to three more championships in 1996, 1997, and 1998, as well as a then-record 72 regular season wins in the 1995–96 NBA season.[5] Jordan retired for the second time in 1999, returning for two NBA seasons from 2001 to 2003 as a member of the Washington Wizards.[5][14] He was selected to play for the United States national team during his college and NBA careers, winning four gold medals—at the 1983 Pan American Games, 1984 Summer Olympics, 1992 Tournament of the Americas and 1992 Summer Olympics—while also being undefeated.[16]\n",
      "\n",
      "Jordan's individual accolades include six NBA Finals Most Valuable Player (MVP) awards, ten NBA scoring titles (both all-time records), five NBA MVP awards, 10 All-NBA First Team designations, nine All-Defensive First Team honors, fourteen NBA All-Star Game selections, three NBA All-Star Game MVP awards, and three NBA steals titles.[14] He holds the NBA records for career regular season scoring average (30.1 points per game) and career playoff scoring average (33.4 points per game).[17] He is one of only eight players to achieve the basketball Triple Crown.\"): 0.7346693\n",
      "similarity_trad(\"Michael Jordan\", \" He returned to the Bulls in 1995 and led them to three more championships in 1996, 1997, and 1998, as well as a then-record 72 regular season wins in the 1995–96 NBA season.[5] Jordan retired for the second time in 1999, returning for two NBA seasons from 2001 to 2003 as a member of the Washington Wizards.[5][14] He was selected to play for the United States national team during his college and NBA careers, winning four gold medals—at the 1983 Pan American Games, 1984 Summer Olympics, 1992 Tournament of the Americas and 1992 Summer Olympics—while also being undefeated.[16]\n",
      "\n",
      "Jordan's individual accolades include six NBA Finals Most Valuable Player (MVP) awards, ten NBA scoring titles (both all-time records), five NBA MVP awards, 10 All-NBA First Team designations, nine All-Defensive First Team honors, fourteen NBA All-Star Game selections, three NBA All-Star Game MVP awards, and three NBA steals titles.[14] He holds the NBA records for career regular season scoring average (30.1 points per game) and career playoff scoring average (33.4 points per game).[17] He is one of only eight players to achieve the basketball Triple Crown.\"): 0.705821\n",
      " \n",
      "-------------------------------------------------------\n",
      " \n",
      "similarity_new(\"Michael Jordan\", \" In 1999, Jordan was named the 20th century's greatest North American athlete by ESPN and was second to Babe Ruth on the Associated Press' list of athletes of the century.[5] Jordan was twice inducted into the Naismith Memorial Basketball Hall of Fame, once in 2009 for his individual career,[18] and in 2010 as part of the 1992 United States men's Olympic basketball team (\"The Dream Team\").[19] He became a member of the United States Olympic Hall of Fame in 2009,[20] an individual member of the FIBA Hall of Fame in 2015 and a \"Dream Team\" member in 2017.[21][22] Jordan was named to the NBA 75th Anniversary Team in 2021.[23] The trophy for the NBA Most Valuable Player Award is named in his honor.\"): 0.73531735\n",
      "similarity_trad(\"Michael Jordan\", \" In 1999, Jordan was named the 20th century's greatest North American athlete by ESPN and was second to Babe Ruth on the Associated Press' list of athletes of the century.[5] Jordan was twice inducted into the Naismith Memorial Basketball Hall of Fame, once in 2009 for his individual career,[18] and in 2010 as part of the 1992 United States men's Olympic basketball team (\"The Dream Team\").[19] He became a member of the United States Olympic Hall of Fame in 2009,[20] an individual member of the FIBA Hall of Fame in 2015 and a \"Dream Team\" member in 2017.[21][22] Jordan was named to the NBA 75th Anniversary Team in 2021.[23] The trophy for the NBA Most Valuable Player Award is named in his honor.\"): 0.7681683\n",
      " \n",
      "-------------------------------------------------------\n",
      " \n",
      "similarity_new(\"Michael Jordan\", \"\n",
      "\n",
      "One of the most effectively marketed athletes ever, Jordan made many product endorsements.[12][24] He fueled the success of Nike's Air Jordan sneakers, which were introduced in 1984 and remain popular.[25] Jordan starred as himself in the live-action/animation hybrid film Space Jam (1996) and was the focus of the Emmy-winning documentary series The Last Dance (2020).\"): 0.730355\n",
      "similarity_trad(\"Michael Jordan\", \"\n",
      "\n",
      "One of the most effectively marketed athletes ever, Jordan made many product endorsements.[12][24] He fueled the success of Nike's Air Jordan sneakers, which were introduced in 1984 and remain popular.[25] Jordan starred as himself in the live-action/animation hybrid film Space Jam (1996) and was the focus of the Emmy-winning documentary series The Last Dance (2020).\"): 0.76374674\n",
      " \n",
      "-------------------------------------------------------\n",
      " \n",
      "similarity_new(\"Michael Jordan\", \" He became part-owner and head of basketball operations for the Charlotte Hornets (then named the Bobcats) in 2006 and bought a controlling interest in 2010, before selling his majority stake in 2023.\"): 0.7028914\n",
      "similarity_trad(\"Michael Jordan\", \" He became part-owner and head of basketball operations for the Charlotte Hornets (then named the Bobcats) in 2006 and bought a controlling interest in 2010, before selling his majority stake in 2023.\"): 0.6246366\n",
      " \n",
      "-------------------------------------------------------\n",
      " \n",
      "similarity_new(\"Michael Jordan\", \" Jordan is a co-owner of 23XI Racing in the NASCAR Cup Series.\"): 0.6961156\n",
      "similarity_trad(\"Michael Jordan\", \" Jordan is a co-owner of 23XI Racing in the NASCAR Cup Series.\"): 0.6676569\n",
      " \n",
      "-------------------------------------------------------\n",
      " \n",
      "similarity_new(\"Michael Jordan\", \" In 2014, he became the first billionaire player in NBA history.[26] In 2016, President Barack Obama awarded Jordan the Presidential Medal of Freedom.[27] As of 2025, his net worth is estimated at $3.8 billion by Forbes,[28] making him one of the richest celebrities.\"): 0.73984456\n",
      "similarity_trad(\"Michael Jordan\", \" In 2014, he became the first billionaire player in NBA history.[26] In 2016, President Barack Obama awarded Jordan the Presidential Medal of Freedom.[27] As of 2025, his net worth is estimated at $3.8 billion by Forbes,[28] making him one of the richest celebrities.\"): 0.7329519\n",
      " \n",
      "-------------------------------------------------------\n",
      " \n"
     ]
    }
   ],
   "source": [
    "mj_embedding = model.encode('Michael Jordan')\n",
    "\n",
    "for chunk, new_embedding, trad_embeddings in zip(chunks, embeddings, embeddings_traditional_chunking):\n",
    "    print(f'similarity_new(\"Michael Jordan\", \"{chunk}\"):', cos_sim(mj_embedding, new_embedding))\n",
    "    print(f'similarity_trad(\"Michael Jordan\", \"{chunk}\"):', cos_sim(mj_embedding, trad_embeddings))\n",
    "    print(' ')\n",
    "    print('-------------------------------------------------------')\n",
    "    print(' ')"
   ]
  },
  {
   "cell_type": "code",
   "execution_count": 21,
   "id": "1f862b15-b8f3-4883-881a-977aadda0625",
   "metadata": {},
   "outputs": [
    {
     "name": "stdout",
     "output_type": "stream",
     "text": [
      "similarity_langchain(\"MJ\", \"\n",
      "\n",
      "Michael Jeffrey Jordan (born February 17, 1963), also known by his initials MJ,[8] is an American businessman, former professional basketball and baseball player, who is a minority owner of the Charlotte Hornets of the National Basketball Association (NBA). He played 15 seasons in the NBA between 1984-2003, winning six NBA championships with the Chicago Bulls. Widely considered to be one of the greatest players of all time,[9][10][11] he was integral in popularizing basketball and the NBA around the world in the 1980s and 1990s,[12] becoming a global cultural icon.[13]\n",
      "\n",
      "Jordan played college basketball with the North Carolina Tar Heels. As a freshman, he was a member of the Tar Heels' national championship team in 1982.[5] Jordan joined the Bulls in 1984 as the third overall draft pick[5][14] and emerged as a league star, entertaining crowds with his prolific scoring while gaining a reputation as one of the best defensive players.[15] His leaping ability, demonstrated by performing slam dunks from the free-throw line in Slam Dunk Contests, earned him the nicknames \"Air Jordan\" and \"His Airness\".[5] Jordan won his first NBA title with the Bulls in 1991 and followed that with titles in 1992 and 1993, securing a three-peat. Citing physical and mental exhaustion from basketball and superstardom, Jordan abruptly retired before the 1993–94 NBA season to play Minor League Baseball in the Chicago White Sox organization. He returned to the Bulls in 1995 and led them to three more championships in 1996, 1997, and 1998, as well as a then-record 72 regular season wins in the 1995–96 NBA season.[5] Jordan retired for the second time in 1999, returning for two NBA seasons from 2001 to 2003 as a member of the Washington Wizards.[5][14] He was selected to play for the United States national team during his college and NBA careers, winning four gold medals—at the 1983 Pan American Games, 1984 Summer Olympics, 1992 Tournament of the Americas and 1992 Summer Olympics—while also being undefeated.[16]\n",
      "\n",
      "Jordan's individual accolades include six NBA Finals Most Valuable Player (MVP) awards, ten NBA scoring titles (both all-time records), five NBA MVP awards, 10 All-NBA First Team designations, nine All-Defensive First Team honors, fourteen NBA All-Star Game selections, three NBA All-Star Game MVP awards, and three NBA steals titles.[14] He holds the NBA records for career regular season scoring average (30.1 points per game) and career playoff scoring average (33.4 points per game).[17] He is one of only eight players to achieve the basketball Triple Crown. In 1999, Jordan was named the 20th century's greatest North American athlete by ESPN and was second to Babe Ruth on the Associated Press' list of athletes of the century.[5] Jordan was twice inducted into the Naismith Memorial Basketball Hall of Fame, once in 2009 for his individual career,[18] and in 2010 as part of the 1992 United States men's Olympic basketball team (\"The Dream Team\").[19] He became a member of the United States Olympic Hall of Fame in 2009,[20] an individual member of the FIBA Hall of Fame in 2015 and a \"Dream Team\" member in 2017.[21][22] Jordan was named to the NBA 75th Anniversary Team in 2021.[23] The trophy for the NBA Most Valuable Player Award is named in his honor. One of the most effectively marketed athletes ever, Jordan made many product endorsements.[12][24] He fueled the success of Nike's Air Jordan sneakers, which were introduced in 1984 and remain popular.[25] Jordan starred as himself in the live-action/animation hybrid film Space Jam (1996) and was the focus of the Emmy-winning documentary series The Last Dance (2020). He became part-owner and head of basketball operations for the Charlotte Hornets (then named the Bobcats) in 2006 and bought a controlling interest in 2010, before selling his majority stake in 2023.\"): 0.7597728\n",
      " \n",
      "-------------------------------------------------------\n",
      " \n",
      "similarity_langchain(\"MJ\", \"Jordan is a co-owner of 23XI Racing in the NASCAR Cup Series. In 2014, he became the first billionaire player in NBA history.[26] In 2016, President Barack Obama awarded Jordan the Presidential Medal of Freedom.[27] As of 2025, his net worth is estimated at $3.8 billion by Forbes,[28] making him one of the richest celebrities. \"): nan\n",
      " \n",
      "-------------------------------------------------------\n",
      " \n"
     ]
    },
    {
     "name": "stderr",
     "output_type": "stream",
     "text": [
      "/tmp/ipykernel_701264/3837717899.py:4: RuntimeWarning: invalid value encountered in scalar divide\n",
      "  cos_sim = lambda x, y: np.dot(x, y) / (np.linalg.norm(x) * np.linalg.norm(y))\n"
     ]
    }
   ],
   "source": [
    "# lang embedings\n",
    "for chunk, new_embedding in zip(lang_chunks, lang_embeddings):\n",
    "    print(f'similarity_langchain(\"MJ\", \"{chunk}\"):', cos_sim(mj_embedding, new_embedding))\n",
    "    print(' ')\n",
    "    print('-------------------------------------------------------')\n",
    "    print(' ')"
   ]
  },
  {
   "cell_type": "code",
   "execution_count": 22,
   "id": "c9a34cf4-d198-4130-baba-577f2bee3f46",
   "metadata": {},
   "outputs": [],
   "source": [
    "cs_text = \"\"\"\n",
    "Computer science is the study of computation, information, and automation. Computer science spans theoretical disciplines (such as algorithms, theory of computation, and information theory) to applied disciplines (including the design and implementation of hardware and software). Algorithms and data structures are central to computer science. The theory of computation concerns abstract models of computation and general classes of problems that can be solved using them. The fields of cryptography and computer security involve studying the means for secure communication and preventing security vulnerabilities. Computer graphics and computational geometry address the generation of images. Programming language theory considers different ways to describe computational processes, and database theory concerns the management of repositories of data. Human–computer interaction investigates the interfaces through which humans and computers interact, and software engineering focuses on the design and principles behind developing software. Areas such as operating systems, networks and embedded systems investigate the principles and design behind complex systems. Computer architecture describes the construction of computer components and computer-operated equipment. Artificial intelligence and machine learning aim to synthesize goal-orientated processes such as problem-solving, decision-making, environmental adaptation, planning and learning found in humans and animals. Within artificial intelligence, computer vision aims to understand and process image and video data, while natural language processing aims to understand and process textual and linguistic data. The fundamental concern of computer science is determining what can and cannot be automated.The Turing Award is generally recognized as the highest distinction in computer science.\n",
    "\"\"\""
   ]
  },
  {
   "cell_type": "code",
   "execution_count": 23,
   "id": "c53c25d9-5f81-4f0f-ab9e-3f3a19f6cecd",
   "metadata": {},
   "outputs": [
    {
     "name": "stdout",
     "output_type": "stream",
     "text": [
      "Chunks:\n",
      "- \"\n",
      "Computer science is the study of computation, information, and automation. Computer science spans theoretical disciplines (such as algorithms, theory of computation, and information theory) to applied disciplines (including the design and implementation of hardware and software). Algorithms and data structures are central to computer science. The theory of computation concerns abstract models of computation and general classes of problems that can be solved using them. The fields of cryptography and computer security involve studying the means for secure communication and preventing security vulnerabilities. Computer graphics and computational geometry address the generation of images. Programming language theory considers different ways to describe computational processes, and database theory concerns the management of repositories of data. Human–computer interaction investigates the interfaces through which humans and computers interact, and software engineering focuses on the design and principles behind developing software. Areas such as operating systems, networks and embedded systems investigate the principles and design behind complex systems.\"\n",
      "- \"Computer architecture describes the construction of computer components and computer-operated equipment. Artificial intelligence and machine learning aim to synthesize goal-orientated processes such as problem-solving, decision-making, environmental adaptation, planning and learning found in humans and animals. Within artificial intelligence, computer vision aims to understand and process image and video data, while natural language processing aims to understand and process textual and linguistic data. The fundamental concern of computer science is determining what can and cannot be automated.The Turing Award is generally recognized as the highest distinction in computer science. \"\n",
      " \n",
      "[(0, 1169), (1170, 1859)]\n"
     ]
    }
   ],
   "source": [
    "# langchain chunker\n",
    "lang_chunks,lang_spans = split_with_spans(cs_text, semantic_chunker)\n",
    "print('Chunks:\\n- \"' + '\"\\n- \"'.join(lang_chunks) + '\"')\n",
    "print(\" \")\n",
    "print(lang_spans)"
   ]
  },
  {
   "cell_type": "code",
   "execution_count": 24,
   "id": "aaef7019-3149-44c5-ac49-19fbeb464857",
   "metadata": {},
   "outputs": [
    {
     "name": "stdout",
     "output_type": "stream",
     "text": [
      "Chunks:\n",
      "- \"\n",
      "Computer science is the study of computation, information, and automation.\"\n",
      "- \" Computer science spans theoretical disciplines (such as algorithms, theory of computation, and information theory) to applied disciplines (including the design and implementation of hardware and software).\"\n",
      "- \" Algorithms and data structures are central to computer science.\"\n",
      "- \" The theory of computation concerns abstract models of computation and general classes of problems that can be solved using them.\"\n",
      "- \" The fields of cryptography and computer security involve studying the means for secure communication and preventing security vulnerabilities.\"\n",
      "- \" Computer graphics and computational geometry address the generation of images.\"\n",
      "- \" Programming language theory considers different ways to describe computational processes, and database theory concerns the management of repositories of data.\"\n",
      "- \" Human–computer interaction investigates the interfaces through which humans and computers interact, and software engineering focuses on the design and principles behind developing software.\"\n",
      "- \" Areas such as operating systems, networks and embedded systems investigate the principles and design behind complex systems.\"\n",
      "- \" Computer architecture describes the construction of computer components and computer-operated equipment.\"\n",
      "- \" Artificial intelligence and machine learning aim to synthesize goal-orientated processes such as problem-solving, decision-making, environmental adaptation, planning and learning found in humans and animals.\"\n",
      "- \" Within artificial intelligence, computer vision aims to understand and process image and video data, while natural language processing aims to understand and process textual and linguistic data.\"\n",
      "- \" The fundamental concern of computer science is determining what can and cannot be automated.The Turing Award is generally recognized as the highest distinction in computer science.\"\n",
      " \n",
      "[(1, 13), (13, 46), (46, 56), (56, 77), (77, 100), (100, 111), (111, 136), (136, 163), (163, 182), (182, 196), (196, 233), (233, 263), (263, 292)]\n"
     ]
    }
   ],
   "source": [
    "# determine chunks (latent vs traditional sentences)\n",
    "chunks, span_annotations = chunk_by_sentences(cs_text, tokenizer)\n",
    "print('Chunks:\\n- \"' + '\"\\n- \"'.join(chunks) + '\"')\n",
    "print(\" \")\n",
    "print(span_annotations)"
   ]
  },
  {
   "cell_type": "code",
   "execution_count": 25,
   "id": "e4d133b8-b6d5-452c-9221-0bd4344546c7",
   "metadata": {},
   "outputs": [],
   "source": [
    "# traditional embedding\n",
    "embeddings_traditional_chunking = model.encode(chunks)\n",
    "\n",
    "# chunk afterwards (context-sensitive chunked pooling) - latent \n",
    "inputs = tokenizer(cs_text, return_tensors='pt')\n",
    "model_output = model(**inputs)\n",
    "embeddings = chunked_pooling(model_output, [span_annotations])[0]"
   ]
  },
  {
   "cell_type": "code",
   "execution_count": 26,
   "id": "32b6349f-51a0-4516-a710-801804623622",
   "metadata": {},
   "outputs": [],
   "source": [
    "# langchain embbeddings\n",
    "lang_embeddings = chunked_pooling(model_output, [lang_spans])[0]"
   ]
  },
  {
   "cell_type": "code",
   "execution_count": 27,
   "id": "5cc17139-8492-46b0-83c7-5e3c353909f4",
   "metadata": {},
   "outputs": [
    {
     "name": "stdout",
     "output_type": "stream",
     "text": [
      "similarity_new(\"Computer Science\", \"\n",
      "Computer science is the study of computation, information, and automation.\"): 0.77195656\n",
      "similarity_trad(\"Computer Science\", \"\n",
      "Computer science is the study of computation, information, and automation.\"): 0.87986636\n",
      " \n",
      "-------------------------------------------------------\n",
      " \n",
      "similarity_new(\"Computer Science\", \" Computer science spans theoretical disciplines (such as algorithms, theory of computation, and information theory) to applied disciplines (including the design and implementation of hardware and software).\"): 0.8255079\n",
      "similarity_trad(\"Computer Science\", \" Computer science spans theoretical disciplines (such as algorithms, theory of computation, and information theory) to applied disciplines (including the design and implementation of hardware and software).\"): 0.8414965\n",
      " \n",
      "-------------------------------------------------------\n",
      " \n",
      "similarity_new(\"Computer Science\", \" Algorithms and data structures are central to computer science.\"): 0.797399\n",
      "similarity_trad(\"Computer Science\", \" Algorithms and data structures are central to computer science.\"): 0.8152378\n",
      " \n",
      "-------------------------------------------------------\n",
      " \n",
      "similarity_new(\"Computer Science\", \" The theory of computation concerns abstract models of computation and general classes of problems that can be solved using them.\"): 0.8185909\n",
      "similarity_trad(\"Computer Science\", \" The theory of computation concerns abstract models of computation and general classes of problems that can be solved using them.\"): 0.74109316\n",
      " \n",
      "-------------------------------------------------------\n",
      " \n",
      "similarity_new(\"Computer Science\", \" The fields of cryptography and computer security involve studying the means for secure communication and preventing security vulnerabilities.\"): 0.81794775\n",
      "similarity_trad(\"Computer Science\", \" The fields of cryptography and computer security involve studying the means for secure communication and preventing security vulnerabilities.\"): 0.7494636\n",
      " \n",
      "-------------------------------------------------------\n",
      " \n",
      "similarity_new(\"Computer Science\", \" Computer graphics and computational geometry address the generation of images.\"): 0.8148398\n",
      "similarity_trad(\"Computer Science\", \" Computer graphics and computational geometry address the generation of images.\"): 0.7203018\n",
      " \n",
      "-------------------------------------------------------\n",
      " \n",
      "similarity_new(\"Computer Science\", \" Programming language theory considers different ways to describe computational processes, and database theory concerns the management of repositories of data.\"): 0.820813\n",
      "similarity_trad(\"Computer Science\", \" Programming language theory considers different ways to describe computational processes, and database theory concerns the management of repositories of data.\"): 0.7170322\n",
      " \n",
      "-------------------------------------------------------\n",
      " \n",
      "similarity_new(\"Computer Science\", \" Human–computer interaction investigates the interfaces through which humans and computers interact, and software engineering focuses on the design and principles behind developing software.\"): 0.85139406\n",
      "similarity_trad(\"Computer Science\", \" Human–computer interaction investigates the interfaces through which humans and computers interact, and software engineering focuses on the design and principles behind developing software.\"): 0.7757958\n",
      " \n",
      "-------------------------------------------------------\n",
      " \n",
      "similarity_new(\"Computer Science\", \" Areas such as operating systems, networks and embedded systems investigate the principles and design behind complex systems.\"): 0.84083444\n",
      "similarity_trad(\"Computer Science\", \" Areas such as operating systems, networks and embedded systems investigate the principles and design behind complex systems.\"): 0.7422172\n",
      " \n",
      "-------------------------------------------------------\n",
      " \n",
      "similarity_new(\"Computer Science\", \" Computer architecture describes the construction of computer components and computer-operated equipment.\"): 0.84485406\n",
      "similarity_trad(\"Computer Science\", \" Computer architecture describes the construction of computer components and computer-operated equipment.\"): 0.7363288\n",
      " \n",
      "-------------------------------------------------------\n",
      " \n",
      "similarity_new(\"Computer Science\", \" Artificial intelligence and machine learning aim to synthesize goal-orientated processes such as problem-solving, decision-making, environmental adaptation, planning and learning found in humans and animals.\"): 0.83204013\n",
      "similarity_trad(\"Computer Science\", \" Artificial intelligence and machine learning aim to synthesize goal-orientated processes such as problem-solving, decision-making, environmental adaptation, planning and learning found in humans and animals.\"): 0.70758545\n",
      " \n",
      "-------------------------------------------------------\n",
      " \n",
      "similarity_new(\"Computer Science\", \" Within artificial intelligence, computer vision aims to understand and process image and video data, while natural language processing aims to understand and process textual and linguistic data.\"): 0.8220392\n",
      "similarity_trad(\"Computer Science\", \" Within artificial intelligence, computer vision aims to understand and process image and video data, while natural language processing aims to understand and process textual and linguistic data.\"): 0.7146795\n",
      " \n",
      "-------------------------------------------------------\n",
      " \n",
      "similarity_new(\"Computer Science\", \" The fundamental concern of computer science is determining what can and cannot be automated.The Turing Award is generally recognized as the highest distinction in computer science.\"): 0.8200602\n",
      "similarity_trad(\"Computer Science\", \" The fundamental concern of computer science is determining what can and cannot be automated.The Turing Award is generally recognized as the highest distinction in computer science.\"): 0.8161241\n",
      " \n",
      "-------------------------------------------------------\n",
      " \n"
     ]
    }
   ],
   "source": [
    "cs_embedding = model.encode('Computer Science')\n",
    "\n",
    "for chunk, new_embedding, trad_embeddings in zip(chunks, embeddings, embeddings_traditional_chunking):\n",
    "    print(f'similarity_new(\"Computer Science\", \"{chunk}\"):', cos_sim(cs_embedding, new_embedding))\n",
    "    print(f'similarity_trad(\"Computer Science\", \"{chunk}\"):', cos_sim(cs_embedding, trad_embeddings))\n",
    "    print(' ')\n",
    "    print('-------------------------------------------------------')\n",
    "    print(' ')"
   ]
  },
  {
   "cell_type": "code",
   "execution_count": 28,
   "id": "268213d6-8bd8-48af-8e6c-abb082f45848",
   "metadata": {},
   "outputs": [
    {
     "name": "stdout",
     "output_type": "stream",
     "text": [
      "similarity_langchain(\"Computer Science\", \"\n",
      "Computer science is the study of computation, information, and automation. Computer science spans theoretical disciplines (such as algorithms, theory of computation, and information theory) to applied disciplines (including the design and implementation of hardware and software). Algorithms and data structures are central to computer science. The theory of computation concerns abstract models of computation and general classes of problems that can be solved using them. The fields of cryptography and computer security involve studying the means for secure communication and preventing security vulnerabilities. Computer graphics and computational geometry address the generation of images. Programming language theory considers different ways to describe computational processes, and database theory concerns the management of repositories of data. Human–computer interaction investigates the interfaces through which humans and computers interact, and software engineering focuses on the design and principles behind developing software. Areas such as operating systems, networks and embedded systems investigate the principles and design behind complex systems.\"): 0.8675622\n",
      " \n",
      "-------------------------------------------------------\n",
      " \n",
      "similarity_langchain(\"Computer Science\", \"Computer architecture describes the construction of computer components and computer-operated equipment. Artificial intelligence and machine learning aim to synthesize goal-orientated processes such as problem-solving, decision-making, environmental adaptation, planning and learning found in humans and animals. Within artificial intelligence, computer vision aims to understand and process image and video data, while natural language processing aims to understand and process textual and linguistic data. The fundamental concern of computer science is determining what can and cannot be automated.The Turing Award is generally recognized as the highest distinction in computer science. \"): nan\n",
      " \n",
      "-------------------------------------------------------\n",
      " \n"
     ]
    },
    {
     "name": "stderr",
     "output_type": "stream",
     "text": [
      "/tmp/ipykernel_701264/3837717899.py:4: RuntimeWarning: invalid value encountered in scalar divide\n",
      "  cos_sim = lambda x, y: np.dot(x, y) / (np.linalg.norm(x) * np.linalg.norm(y))\n"
     ]
    }
   ],
   "source": [
    "# lang embedings\n",
    "for chunk, new_embedding in zip(lang_chunks, lang_embeddings):\n",
    "    print(f'similarity_langchain(\"Computer Science\", \"{chunk}\"):', cos_sim(cs_embedding, new_embedding))\n",
    "    print(' ')\n",
    "    print('-------------------------------------------------------')\n",
    "    print(' ')"
   ]
  },
  {
   "cell_type": "markdown",
   "id": "d2a4875c-49f4-45e0-b50f-75e1e9a29e82",
   "metadata": {},
   "source": [
    "#### Let's look into a Gemini-create S065 text with titles and sections"
   ]
  },
  {
   "cell_type": "markdown",
   "id": "364b2a6e-844b-4fd6-8e29-46f2d3e4f250",
   "metadata": {},
   "source": [
    "  "
   ]
  },
  {
   "cell_type": "code",
   "execution_count": 29,
   "id": "99a32088-5648-41a5-9073-1f63fd4d3140",
   "metadata": {},
   "outputs": [],
   "source": [
    "text = \"\"\"\n",
    "Generated S065-Style Standard Document Text\n",
    "TITLE: S065-B/SRD — Automated System Interface and Data Validation Standard, Revision 2.1\n",
    "\n",
    "1.0 INTRODUCTION AND SCOPE\n",
    "\n",
    "This document, S065-B/SRD, defines the mandatory technical specifications and operational protocols for the secure, automated transfer of clinical trial data between sponsor systems and the central regulatory body's database. The scope of this standard encompasses all data streams related to Protocol 734-X, specifically focusing on patient-reported outcomes (PROs), adverse event reporting (AERs), and investigational product accountability (IPA) logs. All data exchanges must be formatted in accordance with the HL7 FHIR standard, version R4, with specific profiles as detailed in Section 3.2. Data integrity is paramount, and non-compliance with these specifications will result in an automated rejection of the data submission.\n",
    "\n",
    "2.0 DATA TRANSFER PROTOCOLS\n",
    "\n",
    "2.1 Security and Authentication\n",
    "\n",
    "All connections must be established via a TLS 1.3 encrypted channel. Each data stream must be accompanied by a digital signature using an SHA-256 hash and a Public Key Infrastructure (PKI) certificate issued by the approved Certificate Authority (CA) as designated in Appendix A. Client-side authentication requires a valid client certificate and a rotating API key, which must be refreshed every 24 hours. Failure to authenticate correctly will terminate the connection and log a security event in the central audit trail.\n",
    "\n",
    "2.2 File Transmission and Archiving\n",
    "\n",
    "Data payloads shall be transmitted as a compressed JSON file, with a maximum size of 50 MB per transmission. Submissions exceeding this limit must be partitioned into multiple files. Upon successful receipt, the system will generate a unique transaction ID and archive the file for a period of no less than seven (7) years. The sponsor is responsible for retaining a local copy of all submitted data and the corresponding transaction IDs.\n",
    "\n",
    "3.0 DATA CONTENT AND VALIDATION\n",
    "\n",
    "3.1 Patient-Reported Outcomes (PROs)\n",
    "\n",
    "PRO data must adhere to the CDISC SDTM standard, version 1.6. Each record must include a unique patient identifier, the date of response, and the specific instrument used (e.g., EQ-5D-5L, QLQ-C30). A logical check will be performed to ensure that all response values fall within the permissible range for the specified instrument. Any out-of-range values will be flagged, and the entire batch will be returned for correction with a detailed error report.\n",
    "\n",
    "3.2 Adverse Event Reporting (AERs)\n",
    "\n",
    "AER data submissions must use the MedDRA coding system for all adverse events, up to the lowest level of term (LLT). Each report must include the event onset date, severity, and a causality assessment in relation to the investigational product. The system will cross-reference all submitted AERs against a predefined list of high-priority events and will automatically trigger a critical alert for immediate manual review if a match is found.\n",
    "\n",
    "3.3 Investigational Product Accountability (IPA) Logs\n",
    "\n",
    "IPA logs are required to be submitted on a monthly basis. The data must include the batch number, expiration date, and a detailed record of the product dispensed, returned, or destroyed. All quantities must be reconciled with the initial shipment manifest. Any discrepancy greater than a 2% variance must be justified in a separate discrepancy report submitted alongside the data. Failure to provide a valid justification will result in an official compliance notice.\n",
    "\n",
    "4.0 GOVERNANCE AND COMPLIANCE\n",
    "\n",
    "This standard is subject to periodic review and revision. Any changes will be communicated via official channels and will be published with a 90-day grace period before mandatory enforcement. Non-compliance with this standard, including but not limited to repeated failed submissions or data integrity issues, may lead to a formal investigation and potential suspension of the sponsor's data submission privileges. This document supersedes and replaces all previous versions of S065-A/SRD.\n",
    "\"\"\""
   ]
  },
  {
   "cell_type": "code",
   "execution_count": 30,
   "id": "0e4a29a1-3c0b-42aa-ad96-ccccbb385c65",
   "metadata": {},
   "outputs": [
    {
     "name": "stdout",
     "output_type": "stream",
     "text": [
      "Chunks:\n",
      "- \"\n",
      "Generated S065-Style Standard Document Text\n",
      "TITLE: S065-B/SRD — Automated System Interface and Data Validation Standard, Revision 2.1\n",
      "\n",
      "1.0 INTRODUCTION AND SCOPE\n",
      "\n",
      "This document, S065-B/SRD, defines the mandatory technical specifications and operational protocols for the secure, automated transfer of clinical trial data between sponsor systems and the central regulatory body's database. The scope of this standard encompasses all data streams related to Protocol 734-X, specifically focusing on patient-reported outcomes (PROs), adverse event reporting (AERs), and investigational product accountability (IPA) logs. All data exchanges must be formatted in accordance with the HL7 FHIR standard, version R4, with specific profiles as detailed in Section 3.2. Data integrity is paramount, and non-compliance with these specifications will result in an automated rejection of the data submission. 2.0 DATA TRANSFER PROTOCOLS\n",
      "\n",
      "2.1 Security and Authentication\n",
      "\n",
      "All connections must be established via a TLS 1.3 encrypted channel. Each data stream must be accompanied by a digital signature using an SHA-256 hash and a Public Key Infrastructure (PKI) certificate issued by the approved Certificate Authority (CA) as designated in Appendix A. Client-side authentication requires a valid client certificate and a rotating API key, which must be refreshed every 24 hours. Failure to authenticate correctly will terminate the connection and log a security event in the central audit trail. 2.2 File Transmission and Archiving\n",
      "\n",
      "Data payloads shall be transmitted as a compressed JSON file, with a maximum size of 50 MB per transmission. Submissions exceeding this limit must be partitioned into multiple files. Upon successful receipt, the system will generate a unique transaction ID and archive the file for a period of no less than seven (7) years. The sponsor is responsible for retaining a local copy of all submitted data and the corresponding transaction IDs. 3.0 DATA CONTENT AND VALIDATION\n",
      "\n",
      "3.1 Patient-Reported Outcomes (PROs)\n",
      "\n",
      "PRO data must adhere to the CDISC SDTM standard, version 1.6. Each record must include a unique patient identifier, the date of response, and the specific instrument used (e.g., EQ-5D-5L, QLQ-C30).\"\n",
      "- \"A logical check will be performed to ensure that all response values fall within the permissible range for the specified instrument. Any out-of-range values will be flagged, and the entire batch will be returned for correction with a detailed error report. 3.2 Adverse Event Reporting (AERs)\n",
      "\n",
      "AER data submissions must use the MedDRA coding system for all adverse events, up to the lowest level of term (LLT). Each report must include the event onset date, severity, and a causality assessment in relation to the investigational product. The system will cross-reference all submitted AERs against a predefined list of high-priority events and will automatically trigger a critical alert for immediate manual review if a match is found. 3.3 Investigational Product Accountability (IPA) Logs\n",
      "\n",
      "IPA logs are required to be submitted on a monthly basis. The data must include the batch number, expiration date, and a detailed record of the product dispensed, returned, or destroyed.\"\n",
      "- \"All quantities must be reconciled with the initial shipment manifest. Any discrepancy greater than a 2% variance must be justified in a separate discrepancy report submitted alongside the data. Failure to provide a valid justification will result in an official compliance notice. 4.0 GOVERNANCE AND COMPLIANCE\n",
      "\n",
      "This standard is subject to periodic review and revision. Any changes will be communicated via official channels and will be published with a 90-day grace period before mandatory enforcement. Non-compliance with this standard, including but not limited to repeated failed submissions or data integrity issues, may lead to a formal investigation and potential suspension of the sponsor's data submission privileges. This document supersedes and replaces all previous versions of S065-A/SRD. \"\n",
      " \n",
      "[(0, 2227), (2228, 3205), (3206, 4008)]\n"
     ]
    }
   ],
   "source": [
    "# langchain chunker\n",
    "lang_chunks,lang_spans = split_with_spans(text, semantic_chunker)\n",
    "print('Chunks:\\n- \"' + '\"\\n- \"'.join(lang_chunks) + '\"')\n",
    "print(\" \")\n",
    "print(lang_spans)"
   ]
  },
  {
   "cell_type": "code",
   "execution_count": 31,
   "id": "8d8ac71b-f220-4e92-89f0-1dd3b381d47c",
   "metadata": {},
   "outputs": [
    {
     "name": "stdout",
     "output_type": "stream",
     "text": [
      "Chunks:\n",
      "- \"\n",
      "Generated S065-Style Standard Document Text\n",
      "TITLE: S065-B/SRD — Automated System Interface and Data Validation Standard, Revision 2.1\n",
      "\n",
      "1.0 INTRODUCTION AND SCOPE\n",
      "\n",
      "This document, S065-B/SRD, defines the mandatory technical specifications and operational protocols for the secure, automated transfer of clinical trial data between sponsor systems and the central regulatory body's database.\"\n",
      "- \" The scope of this standard encompasses all data streams related to Protocol 734-X, specifically focusing on patient-reported outcomes (PROs), adverse event reporting (AERs), and investigational product accountability (IPA) logs.\"\n",
      "- \" All data exchanges must be formatted in accordance with the HL7 FHIR standard, version R4, with specific profiles as detailed in Section 3.2.\"\n",
      "- \" Data integrity is paramount, and non-compliance with these specifications will result in an automated rejection of the data submission.\"\n",
      "- \"\n",
      "\n",
      "2.0 DATA TRANSFER PROTOCOLS\n",
      "\n",
      "2.1 Security and Authentication\n",
      "\n",
      "All connections must be established via a TLS 1.3 encrypted channel.\"\n",
      "- \" Each data stream must be accompanied by a digital signature using an SHA-256 hash and a Public Key Infrastructure (PKI) certificate issued by the approved Certificate Authority (CA) as designated in Appendix A.\"\n",
      "- \" Client-side authentication requires a valid client certificate and a rotating API key, which must be refreshed every 24 hours.\"\n",
      "- \" Failure to authenticate correctly will terminate the connection and log a security event in the central audit trail.\"\n",
      "- \"\n",
      "\n",
      "2.2 File Transmission and Archiving\n",
      "\n",
      "Data payloads shall be transmitted as a compressed JSON file, with a maximum size of 50 MB per transmission.\"\n",
      "- \" Submissions exceeding this limit must be partitioned into multiple files.\"\n",
      "- \" Upon successful receipt, the system will generate a unique transaction ID and archive the file for a period of no less than seven (7) years.\"\n",
      "- \" The sponsor is responsible for retaining a local copy of all submitted data and the corresponding transaction IDs.\"\n",
      "- \"\n",
      "\n",
      "3.0 DATA CONTENT AND VALIDATION\n",
      "\n",
      "3.1 Patient-Reported Outcomes (PROs)\n",
      "\n",
      "PRO data must adhere to the CDISC SDTM standard, version 1.6.\"\n",
      "- \" Each record must include a unique patient identifier, the date of response, and the specific instrument used (e.g., EQ-5D-5L, QLQ-C30).\"\n",
      "- \" A logical check will be performed to ensure that all response values fall within the permissible range for the specified instrument.\"\n",
      "- \" Any out-of-range values will be flagged, and the entire batch will be returned for correction with a detailed error report.\"\n",
      "- \"\n",
      "\n",
      "3.2 Adverse Event Reporting (AERs)\n",
      "\n",
      "AER data submissions must use the MedDRA coding system for all adverse events, up to the lowest level of term (LLT).\"\n",
      "- \" Each report must include the event onset date, severity, and a causality assessment in relation to the investigational product.\"\n",
      "- \" The system will cross-reference all submitted AERs against a predefined list of high-priority events and will automatically trigger a critical alert for immediate manual review if a match is found.\"\n",
      "- \"\n",
      "\n",
      "3.3 Investigational Product Accountability (IPA) Logs\n",
      "\n",
      "IPA logs are required to be submitted on a monthly basis.\"\n",
      "- \" The data must include the batch number, expiration date, and a detailed record of the product dispensed, returned, or destroyed.\"\n",
      "- \" All quantities must be reconciled with the initial shipment manifest.\"\n",
      "- \" Any discrepancy greater than a 2% variance must be justified in a separate discrepancy report submitted alongside the data.\"\n",
      "- \" Failure to provide a valid justification will result in an official compliance notice.\"\n",
      "- \"\n",
      "\n",
      "4.0 GOVERNANCE AND COMPLIANCE\n",
      "\n",
      "This standard is subject to periodic review and revision.\"\n",
      "- \" Any changes will be communicated via official channels and will be published with a 90-day grace period before mandatory enforcement.\"\n",
      "- \" Non-compliance with this standard, including but not limited to repeated failed submissions or data integrity issues, may lead to a formal investigation and potential suspension of the sponsor's data submission privileges.\"\n",
      "- \" This document supersedes and replaces all previous versions of S065-A/SRD.\"\n",
      " \n",
      "[(1, 80), (80, 127), (127, 160), (160, 183), (183, 213), (213, 254), (254, 279), (279, 299), (299, 330), (330, 342), (342, 371), (371, 391), (391, 427), (427, 471), (471, 494), (494, 521), (521, 559), (559, 583), (583, 622), (622, 645), (645, 674), (674, 685), (685, 712), (712, 726), (726, 742), (742, 765), (765, 803), (803, 823)]\n"
     ]
    }
   ],
   "source": [
    "# determine chunks (latent vs traditional sentences)\n",
    "chunks, span_annotations = chunk_by_sentences(text, tokenizer)\n",
    "print('Chunks:\\n- \"' + '\"\\n- \"'.join(chunks) + '\"')\n",
    "print(\" \")\n",
    "print(span_annotations)"
   ]
  },
  {
   "cell_type": "code",
   "execution_count": 32,
   "id": "ff537eee-ba44-4479-8f4e-eb3403f9bd1a",
   "metadata": {},
   "outputs": [],
   "source": [
    "# traditional embedding\n",
    "embeddings_traditional_chunking = model.encode(chunks)\n",
    "\n",
    "# chunk afterwards (context-sensitive chunked pooling) - latent \n",
    "inputs = tokenizer(text, return_tensors='pt')\n",
    "model_output = model(**inputs)\n",
    "embeddings = chunked_pooling(model_output, [span_annotations])[0]"
   ]
  },
  {
   "cell_type": "code",
   "execution_count": 33,
   "id": "80ac00cf-99dd-4b3c-b976-7507fe4c976f",
   "metadata": {},
   "outputs": [],
   "source": [
    "# langchain embbeddings\n",
    "lang_embeddings = chunked_pooling(model_output, [lang_spans])[0]"
   ]
  },
  {
   "cell_type": "code",
   "execution_count": 34,
   "id": "944644c7-b915-41b2-b799-d1e829286b92",
   "metadata": {},
   "outputs": [
    {
     "name": "stdout",
     "output_type": "stream",
     "text": [
      "similarity_new(\"S065 standard\", \"\n",
      "Generated S065-Style Standard Document Text\n",
      "TITLE: S065-B/SRD — Automated System Interface and Data Validation Standard, Revision 2.1\n",
      "\n",
      "1.0 INTRODUCTION AND SCOPE\n",
      "\n",
      "This document, S065-B/SRD, defines the mandatory technical specifications and operational protocols for the secure, automated transfer of clinical trial data between sponsor systems and the central regulatory body's database.\"): 0.763225\n",
      "similarity_trad(\"S065 standard\", \"\n",
      "Generated S065-Style Standard Document Text\n",
      "TITLE: S065-B/SRD — Automated System Interface and Data Validation Standard, Revision 2.1\n",
      "\n",
      "1.0 INTRODUCTION AND SCOPE\n",
      "\n",
      "This document, S065-B/SRD, defines the mandatory technical specifications and operational protocols for the secure, automated transfer of clinical trial data between sponsor systems and the central regulatory body's database.\"): 0.8275396\n",
      " \n",
      "-------------------------------------------------------\n",
      " \n",
      "similarity_new(\"S065 standard\", \" The scope of this standard encompasses all data streams related to Protocol 734-X, specifically focusing on patient-reported outcomes (PROs), adverse event reporting (AERs), and investigational product accountability (IPA) logs.\"): 0.7553453\n",
      "similarity_trad(\"S065 standard\", \" The scope of this standard encompasses all data streams related to Protocol 734-X, specifically focusing on patient-reported outcomes (PROs), adverse event reporting (AERs), and investigational product accountability (IPA) logs.\"): 0.7153819\n",
      " \n",
      "-------------------------------------------------------\n",
      " \n",
      "similarity_new(\"S065 standard\", \" All data exchanges must be formatted in accordance with the HL7 FHIR standard, version R4, with specific profiles as detailed in Section 3.2.\"): 0.77925134\n",
      "similarity_trad(\"S065 standard\", \" All data exchanges must be formatted in accordance with the HL7 FHIR standard, version R4, with specific profiles as detailed in Section 3.2.\"): 0.7296815\n",
      " \n",
      "-------------------------------------------------------\n",
      " \n",
      "similarity_new(\"S065 standard\", \" Data integrity is paramount, and non-compliance with these specifications will result in an automated rejection of the data submission.\"): 0.7635418\n",
      "similarity_trad(\"S065 standard\", \" Data integrity is paramount, and non-compliance with these specifications will result in an automated rejection of the data submission.\"): 0.65820295\n",
      " \n",
      "-------------------------------------------------------\n",
      " \n",
      "similarity_new(\"S065 standard\", \"\n",
      "\n",
      "2.0 DATA TRANSFER PROTOCOLS\n",
      "\n",
      "2.1 Security and Authentication\n",
      "\n",
      "All connections must be established via a TLS 1.3 encrypted channel.\"): 0.7532026\n",
      "similarity_trad(\"S065 standard\", \"\n",
      "\n",
      "2.0 DATA TRANSFER PROTOCOLS\n",
      "\n",
      "2.1 Security and Authentication\n",
      "\n",
      "All connections must be established via a TLS 1.3 encrypted channel.\"): 0.65829116\n",
      " \n",
      "-------------------------------------------------------\n",
      " \n",
      "similarity_new(\"S065 standard\", \" Each data stream must be accompanied by a digital signature using an SHA-256 hash and a Public Key Infrastructure (PKI) certificate issued by the approved Certificate Authority (CA) as designated in Appendix A.\"): 0.76113355\n",
      "similarity_trad(\"S065 standard\", \" Each data stream must be accompanied by a digital signature using an SHA-256 hash and a Public Key Infrastructure (PKI) certificate issued by the approved Certificate Authority (CA) as designated in Appendix A.\"): 0.66466516\n",
      " \n",
      "-------------------------------------------------------\n",
      " \n",
      "similarity_new(\"S065 standard\", \" Client-side authentication requires a valid client certificate and a rotating API key, which must be refreshed every 24 hours.\"): 0.74512833\n",
      "similarity_trad(\"S065 standard\", \" Client-side authentication requires a valid client certificate and a rotating API key, which must be refreshed every 24 hours.\"): 0.6433514\n",
      " \n",
      "-------------------------------------------------------\n",
      " \n",
      "similarity_new(\"S065 standard\", \" Failure to authenticate correctly will terminate the connection and log a security event in the central audit trail.\"): 0.7353574\n",
      "similarity_trad(\"S065 standard\", \" Failure to authenticate correctly will terminate the connection and log a security event in the central audit trail.\"): 0.61706173\n",
      " \n",
      "-------------------------------------------------------\n",
      " \n",
      "similarity_new(\"S065 standard\", \"\n",
      "\n",
      "2.2 File Transmission and Archiving\n",
      "\n",
      "Data payloads shall be transmitted as a compressed JSON file, with a maximum size of 50 MB per transmission.\"): 0.73991024\n",
      "similarity_trad(\"S065 standard\", \"\n",
      "\n",
      "2.2 File Transmission and Archiving\n",
      "\n",
      "Data payloads shall be transmitted as a compressed JSON file, with a maximum size of 50 MB per transmission.\"): 0.6558295\n",
      " \n",
      "-------------------------------------------------------\n",
      " \n",
      "similarity_new(\"S065 standard\", \" Submissions exceeding this limit must be partitioned into multiple files.\"): 0.731123\n",
      "similarity_trad(\"S065 standard\", \" Submissions exceeding this limit must be partitioned into multiple files.\"): 0.641451\n",
      " \n",
      "-------------------------------------------------------\n",
      " \n",
      "similarity_new(\"S065 standard\", \" Upon successful receipt, the system will generate a unique transaction ID and archive the file for a period of no less than seven (7) years.\"): 0.7306241\n",
      "similarity_trad(\"S065 standard\", \" Upon successful receipt, the system will generate a unique transaction ID and archive the file for a period of no less than seven (7) years.\"): 0.6575307\n",
      " \n",
      "-------------------------------------------------------\n",
      " \n",
      "similarity_new(\"S065 standard\", \" The sponsor is responsible for retaining a local copy of all submitted data and the corresponding transaction IDs.\"): 0.7151969\n",
      "similarity_trad(\"S065 standard\", \" The sponsor is responsible for retaining a local copy of all submitted data and the corresponding transaction IDs.\"): 0.65492415\n",
      " \n",
      "-------------------------------------------------------\n",
      " \n",
      "similarity_new(\"S065 standard\", \"\n",
      "\n",
      "3.0 DATA CONTENT AND VALIDATION\n",
      "\n",
      "3.1 Patient-Reported Outcomes (PROs)\n",
      "\n",
      "PRO data must adhere to the CDISC SDTM standard, version 1.6.\"): 0.74654174\n",
      "similarity_trad(\"S065 standard\", \"\n",
      "\n",
      "3.0 DATA CONTENT AND VALIDATION\n",
      "\n",
      "3.1 Patient-Reported Outcomes (PROs)\n",
      "\n",
      "PRO data must adhere to the CDISC SDTM standard, version 1.6.\"): 0.7318683\n",
      " \n",
      "-------------------------------------------------------\n",
      " \n",
      "similarity_new(\"S065 standard\", \" Each record must include a unique patient identifier, the date of response, and the specific instrument used (e.g., EQ-5D-5L, QLQ-C30).\"): 0.724172\n",
      "similarity_trad(\"S065 standard\", \" Each record must include a unique patient identifier, the date of response, and the specific instrument used (e.g., EQ-5D-5L, QLQ-C30).\"): 0.67067456\n",
      " \n",
      "-------------------------------------------------------\n",
      " \n",
      "similarity_new(\"S065 standard\", \" A logical check will be performed to ensure that all response values fall within the permissible range for the specified instrument.\"): 0.7073086\n",
      "similarity_trad(\"S065 standard\", \" A logical check will be performed to ensure that all response values fall within the permissible range for the specified instrument.\"): 0.67762357\n",
      " \n",
      "-------------------------------------------------------\n",
      " \n",
      "similarity_new(\"S065 standard\", \" Any out-of-range values will be flagged, and the entire batch will be returned for correction with a detailed error report.\"): 0.6942028\n",
      "similarity_trad(\"S065 standard\", \" Any out-of-range values will be flagged, and the entire batch will be returned for correction with a detailed error report.\"): 0.6558896\n",
      " \n",
      "-------------------------------------------------------\n",
      " \n",
      "similarity_new(\"S065 standard\", \"\n",
      "\n",
      "3.2 Adverse Event Reporting (AERs)\n",
      "\n",
      "AER data submissions must use the MedDRA coding system for all adverse events, up to the lowest level of term (LLT).\"): 0.6637321\n",
      "similarity_trad(\"S065 standard\", \"\n",
      "\n",
      "3.2 Adverse Event Reporting (AERs)\n",
      "\n",
      "AER data submissions must use the MedDRA coding system for all adverse events, up to the lowest level of term (LLT).\"): 0.66500753\n",
      " \n",
      "-------------------------------------------------------\n",
      " \n",
      "similarity_new(\"S065 standard\", \" Each report must include the event onset date, severity, and a causality assessment in relation to the investigational product.\"): 0.6504882\n",
      "similarity_trad(\"S065 standard\", \" Each report must include the event onset date, severity, and a causality assessment in relation to the investigational product.\"): 0.59634405\n",
      " \n",
      "-------------------------------------------------------\n",
      " \n",
      "similarity_new(\"S065 standard\", \" The system will cross-reference all submitted AERs against a predefined list of high-priority events and will automatically trigger a critical alert for immediate manual review if a match is found.\"): 0.69524795\n",
      "similarity_trad(\"S065 standard\", \" The system will cross-reference all submitted AERs against a predefined list of high-priority events and will automatically trigger a critical alert for immediate manual review if a match is found.\"): 0.6294753\n",
      " \n",
      "-------------------------------------------------------\n",
      " \n",
      "similarity_new(\"S065 standard\", \"\n",
      "\n",
      "3.3 Investigational Product Accountability (IPA) Logs\n",
      "\n",
      "IPA logs are required to be submitted on a monthly basis.\"): 0.69141114\n",
      "similarity_trad(\"S065 standard\", \"\n",
      "\n",
      "3.3 Investigational Product Accountability (IPA) Logs\n",
      "\n",
      "IPA logs are required to be submitted on a monthly basis.\"): 0.6730865\n",
      " \n",
      "-------------------------------------------------------\n",
      " \n",
      "similarity_new(\"S065 standard\", \" The data must include the batch number, expiration date, and a detailed record of the product dispensed, returned, or destroyed.\"): 0.6867977\n",
      "similarity_trad(\"S065 standard\", \" The data must include the batch number, expiration date, and a detailed record of the product dispensed, returned, or destroyed.\"): 0.65378886\n",
      " \n",
      "-------------------------------------------------------\n",
      " \n",
      "similarity_new(\"S065 standard\", \" All quantities must be reconciled with the initial shipment manifest.\"): 0.69963545\n",
      "similarity_trad(\"S065 standard\", \" All quantities must be reconciled with the initial shipment manifest.\"): 0.6371122\n",
      " \n",
      "-------------------------------------------------------\n",
      " \n",
      "similarity_new(\"S065 standard\", \" Any discrepancy greater than a 2% variance must be justified in a separate discrepancy report submitted alongside the data.\"): 0.71315765\n",
      "similarity_trad(\"S065 standard\", \" Any discrepancy greater than a 2% variance must be justified in a separate discrepancy report submitted alongside the data.\"): 0.67023927\n",
      " \n",
      "-------------------------------------------------------\n",
      " \n",
      "similarity_new(\"S065 standard\", \" Failure to provide a valid justification will result in an official compliance notice.\"): 0.73310816\n",
      "similarity_trad(\"S065 standard\", \" Failure to provide a valid justification will result in an official compliance notice.\"): 0.64632744\n",
      " \n",
      "-------------------------------------------------------\n",
      " \n",
      "similarity_new(\"S065 standard\", \"\n",
      "\n",
      "4.0 GOVERNANCE AND COMPLIANCE\n",
      "\n",
      "This standard is subject to periodic review and revision.\"): 0.76636785\n",
      "similarity_trad(\"S065 standard\", \"\n",
      "\n",
      "4.0 GOVERNANCE AND COMPLIANCE\n",
      "\n",
      "This standard is subject to periodic review and revision.\"): 0.71963906\n",
      " \n",
      "-------------------------------------------------------\n",
      " \n",
      "similarity_new(\"S065 standard\", \" Any changes will be communicated via official channels and will be published with a 90-day grace period before mandatory enforcement.\"): 0.7572865\n",
      "similarity_trad(\"S065 standard\", \" Any changes will be communicated via official channels and will be published with a 90-day grace period before mandatory enforcement.\"): 0.67997503\n",
      " \n",
      "-------------------------------------------------------\n",
      " \n",
      "similarity_new(\"S065 standard\", \" Non-compliance with this standard, including but not limited to repeated failed submissions or data integrity issues, may lead to a formal investigation and potential suspension of the sponsor's data submission privileges.\"): 0.7562967\n",
      "similarity_trad(\"S065 standard\", \" Non-compliance with this standard, including but not limited to repeated failed submissions or data integrity issues, may lead to a formal investigation and potential suspension of the sponsor's data submission privileges.\"): 0.6923201\n",
      " \n",
      "-------------------------------------------------------\n",
      " \n",
      "similarity_new(\"S065 standard\", \" This document supersedes and replaces all previous versions of S065-A/SRD.\"): 0.79217505\n",
      "similarity_trad(\"S065 standard\", \" This document supersedes and replaces all previous versions of S065-A/SRD.\"): 0.7794119\n",
      " \n",
      "-------------------------------------------------------\n",
      " \n"
     ]
    }
   ],
   "source": [
    "text_embedding = model.encode('S065 standard')\n",
    "\n",
    "for chunk, new_embedding, trad_embeddings in zip(chunks, embeddings, embeddings_traditional_chunking):\n",
    "    print(f'similarity_new(\"S065 standard\", \"{chunk}\"):', cos_sim(text_embedding, new_embedding))\n",
    "    print(f'similarity_trad(\"S065 standard\", \"{chunk}\"):', cos_sim(text_embedding, trad_embeddings))\n",
    "    print(' ')\n",
    "    print('-------------------------------------------------------')\n",
    "    print(' ')"
   ]
  },
  {
   "cell_type": "code",
   "execution_count": 35,
   "id": "5bd37d9b-705c-453c-8375-3c2893f67d23",
   "metadata": {},
   "outputs": [
    {
     "name": "stdout",
     "output_type": "stream",
     "text": [
      "similarity_langchain(\"S065 standard\", \"\n",
      "Generated S065-Style Standard Document Text\n",
      "TITLE: S065-B/SRD — Automated System Interface and Data Validation Standard, Revision 2.1\n",
      "\n",
      "1.0 INTRODUCTION AND SCOPE\n",
      "\n",
      "This document, S065-B/SRD, defines the mandatory technical specifications and operational protocols for the secure, automated transfer of clinical trial data between sponsor systems and the central regulatory body's database. The scope of this standard encompasses all data streams related to Protocol 734-X, specifically focusing on patient-reported outcomes (PROs), adverse event reporting (AERs), and investigational product accountability (IPA) logs. All data exchanges must be formatted in accordance with the HL7 FHIR standard, version R4, with specific profiles as detailed in Section 3.2. Data integrity is paramount, and non-compliance with these specifications will result in an automated rejection of the data submission. 2.0 DATA TRANSFER PROTOCOLS\n",
      "\n",
      "2.1 Security and Authentication\n",
      "\n",
      "All connections must be established via a TLS 1.3 encrypted channel. Each data stream must be accompanied by a digital signature using an SHA-256 hash and a Public Key Infrastructure (PKI) certificate issued by the approved Certificate Authority (CA) as designated in Appendix A. Client-side authentication requires a valid client certificate and a rotating API key, which must be refreshed every 24 hours. Failure to authenticate correctly will terminate the connection and log a security event in the central audit trail. 2.2 File Transmission and Archiving\n",
      "\n",
      "Data payloads shall be transmitted as a compressed JSON file, with a maximum size of 50 MB per transmission. Submissions exceeding this limit must be partitioned into multiple files. Upon successful receipt, the system will generate a unique transaction ID and archive the file for a period of no less than seven (7) years. The sponsor is responsible for retaining a local copy of all submitted data and the corresponding transaction IDs. 3.0 DATA CONTENT AND VALIDATION\n",
      "\n",
      "3.1 Patient-Reported Outcomes (PROs)\n",
      "\n",
      "PRO data must adhere to the CDISC SDTM standard, version 1.6. Each record must include a unique patient identifier, the date of response, and the specific instrument used (e.g., EQ-5D-5L, QLQ-C30).\"): 0.7835642\n",
      " \n",
      "-------------------------------------------------------\n",
      " \n",
      "similarity_langchain(\"S065 standard\", \"A logical check will be performed to ensure that all response values fall within the permissible range for the specified instrument. Any out-of-range values will be flagged, and the entire batch will be returned for correction with a detailed error report. 3.2 Adverse Event Reporting (AERs)\n",
      "\n",
      "AER data submissions must use the MedDRA coding system for all adverse events, up to the lowest level of term (LLT). Each report must include the event onset date, severity, and a causality assessment in relation to the investigational product. The system will cross-reference all submitted AERs against a predefined list of high-priority events and will automatically trigger a critical alert for immediate manual review if a match is found. 3.3 Investigational Product Accountability (IPA) Logs\n",
      "\n",
      "IPA logs are required to be submitted on a monthly basis. The data must include the batch number, expiration date, and a detailed record of the product dispensed, returned, or destroyed.\"): nan\n",
      " \n",
      "-------------------------------------------------------\n",
      " \n",
      "similarity_langchain(\"S065 standard\", \"All quantities must be reconciled with the initial shipment manifest. Any discrepancy greater than a 2% variance must be justified in a separate discrepancy report submitted alongside the data. Failure to provide a valid justification will result in an official compliance notice. 4.0 GOVERNANCE AND COMPLIANCE\n",
      "\n",
      "This standard is subject to periodic review and revision. Any changes will be communicated via official channels and will be published with a 90-day grace period before mandatory enforcement. Non-compliance with this standard, including but not limited to repeated failed submissions or data integrity issues, may lead to a formal investigation and potential suspension of the sponsor's data submission privileges. This document supersedes and replaces all previous versions of S065-A/SRD. \"): nan\n",
      " \n",
      "-------------------------------------------------------\n",
      " \n"
     ]
    },
    {
     "name": "stderr",
     "output_type": "stream",
     "text": [
      "/tmp/ipykernel_701264/3837717899.py:4: RuntimeWarning: invalid value encountered in scalar divide\n",
      "  cos_sim = lambda x, y: np.dot(x, y) / (np.linalg.norm(x) * np.linalg.norm(y))\n"
     ]
    }
   ],
   "source": [
    "# lang embedings\n",
    "for chunk, new_embedding in zip(lang_chunks, lang_embeddings):\n",
    "    print(f'similarity_langchain(\"S065 standard\", \"{chunk}\"):', cos_sim(text_embedding, new_embedding))\n",
    "    print(' ')\n",
    "    print('-------------------------------------------------------')\n",
    "    print(' ')"
   ]
  },
  {
   "cell_type": "markdown",
   "id": "fa559b0c-2224-42fb-b823-978b96f84c4e",
   "metadata": {},
   "source": [
    "## Other similarity measures for search?\n",
    "\n",
    "Everything that I find is cosine similarity or related measures.\n",
    "    \n",
    "Let's add the keyword search, and compare the methods in isolation and the hybtid approach"
   ]
  },
  {
   "cell_type": "code",
   "execution_count": 36,
   "id": "2100c22e-1a78-4dab-af69-68e1576060e1",
   "metadata": {},
   "outputs": [
    {
     "name": "stderr",
     "output_type": "stream",
     "text": [
      "huggingface/tokenizers: The current process just got forked, after parallelism has already been used. Disabling parallelism to avoid deadlocks...\n",
      "To disable this warning, you can either:\n",
      "\t- Avoid using `tokenizers` before the fork if possible\n",
      "\t- Explicitly set the environment variable TOKENIZERS_PARALLELISM=(true | false)\n"
     ]
    },
    {
     "name": "stdout",
     "output_type": "stream",
     "text": [
      "Requirement already satisfied: scikit-learn in /home/manzand/anaconda3/envs/newbpl/lib/python3.13/site-packages (1.7.2)\n",
      "Requirement already satisfied: numpy>=1.22.0 in /home/manzand/anaconda3/envs/newbpl/lib/python3.13/site-packages (from scikit-learn) (2.3.3)\n",
      "Requirement already satisfied: scipy>=1.8.0 in /home/manzand/anaconda3/envs/newbpl/lib/python3.13/site-packages (from scikit-learn) (1.16.2)\n",
      "Requirement already satisfied: joblib>=1.2.0 in /home/manzand/anaconda3/envs/newbpl/lib/python3.13/site-packages (from scikit-learn) (1.5.2)\n",
      "Requirement already satisfied: threadpoolctl>=3.1.0 in /home/manzand/anaconda3/envs/newbpl/lib/python3.13/site-packages (from scikit-learn) (3.6.0)\n",
      "Note: you may need to restart the kernel to use updated packages.\n"
     ]
    }
   ],
   "source": [
    "%pip install scikit-learn"
   ]
  },
  {
   "cell_type": "code",
   "execution_count": 37,
   "id": "23c2ec0a-b32b-410a-bc05-ed379e7cd0c1",
   "metadata": {},
   "outputs": [],
   "source": [
    "from sklearn.feature_extraction.text import TfidfVectorizer\n",
    "from sklearn.metrics.pairwise import cosine_similarity\n",
    "from collections import defaultdict\n",
    "import random"
   ]
  },
  {
   "cell_type": "code",
   "execution_count": 228,
   "id": "18980370-8a1a-4309-9470-302a38894ad4",
   "metadata": {},
   "outputs": [],
   "source": [
    "class MockVectorStore:\n",
    "    def __init__(self, docs, embedding_model):\n",
    "        self.docs = docs\n",
    "        # self.doc_ids = [f\"doc_{i}\" for i in range(len(docs))]\n",
    "        self.chunks = []\n",
    "        self.embeddings = []\n",
    "        self.model = embedding_model\n",
    "        # chunk afterwards (context-sensitive chunked pooling) - latent\n",
    "        for text in docs:\n",
    "            chunks, span_annotations = chunk_by_sentences(text, tokenizer)\n",
    "            for i in chunks:\n",
    "                self.chunks.append(i)\n",
    "            inputs = tokenizer(text, return_tensors='pt')\n",
    "            model_output = embedding_model(**inputs)\n",
    "            embeddings = chunked_pooling(model_output, [span_annotations])[0]\n",
    "            for emb in embeddings:\n",
    "                # print(np.shape(emb))\n",
    "                self.embeddings.append(emb)\n",
    "\n",
    "    def semantic_search(self, query_text, k=10):\n",
    "        # A mock semantic search using cosine similarity\n",
    "        query_embedding = model.encode(query_text)\n",
    "        similarities = []\n",
    "        for i in self.embeddings:\n",
    "            similarities.append(cos_sim(query_embedding, i))\n",
    "\n",
    "        sorted_indices = np.argsort(similarities)[::-1]\n",
    "        top_k_indices = sorted_indices[:k]\n",
    "        \n",
    "        results = []\n",
    "        for k in top_k_indices:\n",
    "            results.append(self.chunks[k])\n",
    "            \n",
    "        return results\n",
    "\n",
    "\n",
    "    def threshold_search(self, query_text, threshold = 0.7):\n",
    "        # A mock semantic search using cosine similarity\n",
    "        query_embedding = model.encode(query_text)\n",
    "        similarities = []\n",
    "        for i in self.embeddings:\n",
    "            similarities.append(cos_sim(query_embedding, i))\n",
    "\n",
    "        sorted_indices = np.argsort(similarities)[::-1]\n",
    "        # top_k_indices = sorted_indices[:k]\n",
    "        \n",
    "        results = []\n",
    "        for k in sorted_indices:\n",
    "            if similarities[k] >= threshold:\n",
    "                results.append(self.chunks[k])\n",
    "            else:\n",
    "                break\n",
    "            \n",
    "        return results\n",
    "\n",
    "# Todo keyword search\n",
    "# class MockKeywordIndex:\n",
    "#     def __init__(self, docs):\n",
    "#         self.docs = docs\n",
    "#         self.doc_ids = [f\"doc_{i}\" for i in range(len(docs))]\n",
    "#         self.vectorizer = TfidfVectorizer()\n",
    "#         self.doc_vectors = self.vectorizer.fit_transform(docs)\n",
    "\n",
    "#     def keyword_search(self, query_text, k=10):\n",
    "#         # A mock keyword search using TF-IDF and cosine similarity\n",
    "#         query_vector = self.vectorizer.transform([query_text])\n",
    "#         similarities = cosine_similarity(query_vector, self.doc_vectors).flatten()\n",
    "        \n",
    "#         sorted_indices = np.argsort(similarities)[::-1]\n",
    "#         top_k_indices = sorted_indices[:k]\n",
    "\n",
    "#         return [(self.doc_ids[i], similarities[i]) for i in top_k_indices]"
   ]
  },
  {
   "cell_type": "code",
   "execution_count": 229,
   "id": "e55a04b1-12ce-4b9e-a9a5-42952d7120dd",
   "metadata": {},
   "outputs": [],
   "source": [
    "# Sample data (reusing from above)\n",
    "documents = [\n",
    "    input_text,\n",
    "    cs_text,\n",
    "    mj_text,\n",
    "    text,\n",
    "]"
   ]
  },
  {
   "cell_type": "code",
   "execution_count": 230,
   "id": "340a3e32-1727-4178-a08e-d6177f8cef94",
   "metadata": {},
   "outputs": [],
   "source": [
    "# Create mock search systems\n",
    "vector_store = MockVectorStore(documents, model)\n",
    "# keyword_index = MockKeywordIndex(documents)"
   ]
  },
  {
   "cell_type": "code",
   "execution_count": 231,
   "id": "15726354-49bc-4d03-a205-70b4675499a7",
   "metadata": {},
   "outputs": [],
   "source": [
    "# Define the user query\n",
    "user_query = \"Where did Jordan play?\""
   ]
  },
  {
   "cell_type": "code",
   "execution_count": 232,
   "id": "37d99b37-c4e0-4c99-aa25-62678289eaac",
   "metadata": {},
   "outputs": [
    {
     "name": "stdout",
     "output_type": "stream",
     "text": [
      "[' Citing physical and mental exhaustion from basketball and superstardom, Jordan abruptly retired before the 1993–94 NBA season to play Minor League Baseball in the Chicago White Sox organization.', ' As a freshman, he was a member of the Tar Heels\\' national championship team in 1982.[5] Jordan joined the Bulls in 1984 as the third overall draft pick[5][14] and emerged as a league star, entertaining crowds with his prolific scoring while gaining a reputation as one of the best defensive players.[15] His leaping ability, demonstrated by performing slam dunks from the free-throw line in Slam Dunk Contests, earned him the nicknames \"Air Jordan\" and \"His Airness\".[5] Jordan won his first NBA title with the Bulls in 1991 and followed that with titles in 1992 and 1993, securing a three-peat.', ' Widely considered to be one of the greatest players of all time,[9][10][11] he was integral in popularizing basketball and the NBA around the world in the 1980s and 1990s,[12] becoming a global cultural icon.[13]\\n\\nJordan played college basketball with the North Carolina Tar Heels.', \" He returned to the Bulls in 1995 and led them to three more championships in 1996, 1997, and 1998, as well as a then-record 72 regular season wins in the 1995–96 NBA season.[5] Jordan retired for the second time in 1999, returning for two NBA seasons from 2001 to 2003 as a member of the Washington Wizards.[5][14] He was selected to play for the United States national team during his college and NBA careers, winning four gold medals—at the 1983 Pan American Games, 1984 Summer Olympics, 1992 Tournament of the Americas and 1992 Summer Olympics—while also being undefeated.[16]\\n\\nJordan's individual accolades include six NBA Finals Most Valuable Player (MVP) awards, ten NBA scoring titles (both all-time records), five NBA MVP awards, 10 All-NBA First Team designations, nine All-Defensive First Team honors, fourteen NBA All-Star Game selections, three NBA All-Star Game MVP awards, and three NBA steals titles.[14] He holds the NBA records for career regular season scoring average (30.1 points per game) and career playoff scoring average (33.4 points per game).[17] He is one of only eight players to achieve the basketball Triple Crown.\", ' He played 15 seasons in the NBA between 1984-2003, winning six NBA championships with the Chicago Bulls.']\n"
     ]
    }
   ],
   "source": [
    "# Perform both searches (top 5 chunks)\n",
    "# The top_k for each search can be higher than the final result size for better fusion\n",
    "semantic_results = vector_store.semantic_search(user_query, k=5)\n",
    "# keyword_results = keyword_index.keyword_search(user_query, k=5)\n",
    "# not sure if this is doing what I want...\n",
    "print(semantic_results)\n",
    "# print(keyword_results)"
   ]
  },
  {
   "cell_type": "code",
   "execution_count": 234,
   "id": "a6515c7c-f0b4-4fbd-8bc3-512d72f06d1b",
   "metadata": {},
   "outputs": [
    {
     "name": "stdout",
     "output_type": "stream",
     "text": [
      "[]\n"
     ]
    }
   ],
   "source": [
    "# Search for all relevant data\n",
    "threshold_results = vector_store.threshold_search(user_query, threshold=0.85)\n",
    "print(threshold_results)"
   ]
  },
  {
   "cell_type": "code",
   "execution_count": 235,
   "id": "511de7e0-5612-425e-a3cc-09937cea8157",
   "metadata": {},
   "outputs": [
    {
     "name": "stdout",
     "output_type": "stream",
     "text": [
      "[]\n"
     ]
    }
   ],
   "source": [
    "# Search for all relevant data\n",
    "threshold_results = vector_store.threshold_search(user_query, threshold=0.8)\n",
    "print(threshold_results)"
   ]
  },
  {
   "cell_type": "code",
   "execution_count": 236,
   "id": "f88dbf96-93c3-4362-9728-291010f26bcd",
   "metadata": {},
   "outputs": [
    {
     "name": "stdout",
     "output_type": "stream",
     "text": [
      "[' Citing physical and mental exhaustion from basketball and superstardom, Jordan abruptly retired before the 1993–94 NBA season to play Minor League Baseball in the Chicago White Sox organization.', ' As a freshman, he was a member of the Tar Heels\\' national championship team in 1982.[5] Jordan joined the Bulls in 1984 as the third overall draft pick[5][14] and emerged as a league star, entertaining crowds with his prolific scoring while gaining a reputation as one of the best defensive players.[15] His leaping ability, demonstrated by performing slam dunks from the free-throw line in Slam Dunk Contests, earned him the nicknames \"Air Jordan\" and \"His Airness\".[5] Jordan won his first NBA title with the Bulls in 1991 and followed that with titles in 1992 and 1993, securing a three-peat.', ' Widely considered to be one of the greatest players of all time,[9][10][11] he was integral in popularizing basketball and the NBA around the world in the 1980s and 1990s,[12] becoming a global cultural icon.[13]\\n\\nJordan played college basketball with the North Carolina Tar Heels.', \" He returned to the Bulls in 1995 and led them to three more championships in 1996, 1997, and 1998, as well as a then-record 72 regular season wins in the 1995–96 NBA season.[5] Jordan retired for the second time in 1999, returning for two NBA seasons from 2001 to 2003 as a member of the Washington Wizards.[5][14] He was selected to play for the United States national team during his college and NBA careers, winning four gold medals—at the 1983 Pan American Games, 1984 Summer Olympics, 1992 Tournament of the Americas and 1992 Summer Olympics—while also being undefeated.[16]\\n\\nJordan's individual accolades include six NBA Finals Most Valuable Player (MVP) awards, ten NBA scoring titles (both all-time records), five NBA MVP awards, 10 All-NBA First Team designations, nine All-Defensive First Team honors, fourteen NBA All-Star Game selections, three NBA All-Star Game MVP awards, and three NBA steals titles.[14] He holds the NBA records for career regular season scoring average (30.1 points per game) and career playoff scoring average (33.4 points per game).[17] He is one of only eight players to achieve the basketball Triple Crown.\", ' He played 15 seasons in the NBA between 1984-2003, winning six NBA championships with the Chicago Bulls.']\n"
     ]
    }
   ],
   "source": [
    "# Search for all relevant data\n",
    "threshold_results = vector_store.threshold_search(user_query, threshold=0.75)\n",
    "print(threshold_results)"
   ]
  },
  {
   "cell_type": "code",
   "execution_count": 237,
   "id": "4afcca58-554c-4992-a6d4-c13809135c74",
   "metadata": {},
   "outputs": [
    {
     "name": "stdout",
     "output_type": "stream",
     "text": [
      "[' Citing physical and mental exhaustion from basketball and superstardom, Jordan abruptly retired before the 1993–94 NBA season to play Minor League Baseball in the Chicago White Sox organization.', ' As a freshman, he was a member of the Tar Heels\\' national championship team in 1982.[5] Jordan joined the Bulls in 1984 as the third overall draft pick[5][14] and emerged as a league star, entertaining crowds with his prolific scoring while gaining a reputation as one of the best defensive players.[15] His leaping ability, demonstrated by performing slam dunks from the free-throw line in Slam Dunk Contests, earned him the nicknames \"Air Jordan\" and \"His Airness\".[5] Jordan won his first NBA title with the Bulls in 1991 and followed that with titles in 1992 and 1993, securing a three-peat.', ' Widely considered to be one of the greatest players of all time,[9][10][11] he was integral in popularizing basketball and the NBA around the world in the 1980s and 1990s,[12] becoming a global cultural icon.[13]\\n\\nJordan played college basketball with the North Carolina Tar Heels.', \" He returned to the Bulls in 1995 and led them to three more championships in 1996, 1997, and 1998, as well as a then-record 72 regular season wins in the 1995–96 NBA season.[5] Jordan retired for the second time in 1999, returning for two NBA seasons from 2001 to 2003 as a member of the Washington Wizards.[5][14] He was selected to play for the United States national team during his college and NBA careers, winning four gold medals—at the 1983 Pan American Games, 1984 Summer Olympics, 1992 Tournament of the Americas and 1992 Summer Olympics—while also being undefeated.[16]\\n\\nJordan's individual accolades include six NBA Finals Most Valuable Player (MVP) awards, ten NBA scoring titles (both all-time records), five NBA MVP awards, 10 All-NBA First Team designations, nine All-Defensive First Team honors, fourteen NBA All-Star Game selections, three NBA All-Star Game MVP awards, and three NBA steals titles.[14] He holds the NBA records for career regular season scoring average (30.1 points per game) and career playoff scoring average (33.4 points per game).[17] He is one of only eight players to achieve the basketball Triple Crown.\", ' He played 15 seasons in the NBA between 1984-2003, winning six NBA championships with the Chicago Bulls.', '\\n\\nMichael Jeffrey Jordan (born February 17, 1963), also known by his initials MJ,[8] is an American businessman, former professional basketball and baseball player, who is a minority owner of the Charlotte Hornets of the National Basketball Association (NBA).', ' He became part-owner and head of basketball operations for the Charlotte Hornets (then named the Bobcats) in 2006 and bought a controlling interest in 2010, before selling his majority stake in 2023.', \"\\n\\nOne of the most effectively marketed athletes ever, Jordan made many product endorsements.[12][24] He fueled the success of Nike's Air Jordan sneakers, which were introduced in 1984 and remain popular.[25] Jordan starred as himself in the live-action/animation hybrid film Space Jam (1996) and was the focus of the Emmy-winning documentary series The Last Dance (2020).\", ' In 1999, Jordan was named the 20th century\\'s greatest North American athlete by ESPN and was second to Babe Ruth on the Associated Press\\' list of athletes of the century.[5] Jordan was twice inducted into the Naismith Memorial Basketball Hall of Fame, once in 2009 for his individual career,[18] and in 2010 as part of the 1992 United States men\\'s Olympic basketball team (\"The Dream Team\").[19] He became a member of the United States Olympic Hall of Fame in 2009,[20] an individual member of the FIBA Hall of Fame in 2015 and a \"Dream Team\" member in 2017.[21][22] Jordan was named to the NBA 75th Anniversary Team in 2021.[23] The trophy for the NBA Most Valuable Player Award is named in his honor.', ' In 2014, he became the first billionaire player in NBA history.[26] In 2016, President Barack Obama awarded Jordan the Presidential Medal of Freedom.[27] As of 2025, his net worth is estimated at $3.8 billion by Forbes,[28] making him one of the richest celebrities.']\n"
     ]
    }
   ],
   "source": [
    "# Search for all relevant data\n",
    "threshold_results = vector_store.threshold_search(user_query, threshold=0.7)\n",
    "print(threshold_results)"
   ]
  },
  {
   "cell_type": "code",
   "execution_count": 238,
   "id": "3bbfe2a7-4047-43aa-9760-c6a3ce0cefc2",
   "metadata": {},
   "outputs": [
    {
     "name": "stdout",
     "output_type": "stream",
     "text": [
      "[' Citing physical and mental exhaustion from basketball and superstardom, Jordan abruptly retired before the 1993–94 NBA season to play Minor League Baseball in the Chicago White Sox organization.', ' As a freshman, he was a member of the Tar Heels\\' national championship team in 1982.[5] Jordan joined the Bulls in 1984 as the third overall draft pick[5][14] and emerged as a league star, entertaining crowds with his prolific scoring while gaining a reputation as one of the best defensive players.[15] His leaping ability, demonstrated by performing slam dunks from the free-throw line in Slam Dunk Contests, earned him the nicknames \"Air Jordan\" and \"His Airness\".[5] Jordan won his first NBA title with the Bulls in 1991 and followed that with titles in 1992 and 1993, securing a three-peat.', ' Widely considered to be one of the greatest players of all time,[9][10][11] he was integral in popularizing basketball and the NBA around the world in the 1980s and 1990s,[12] becoming a global cultural icon.[13]\\n\\nJordan played college basketball with the North Carolina Tar Heels.', \" He returned to the Bulls in 1995 and led them to three more championships in 1996, 1997, and 1998, as well as a then-record 72 regular season wins in the 1995–96 NBA season.[5] Jordan retired for the second time in 1999, returning for two NBA seasons from 2001 to 2003 as a member of the Washington Wizards.[5][14] He was selected to play for the United States national team during his college and NBA careers, winning four gold medals—at the 1983 Pan American Games, 1984 Summer Olympics, 1992 Tournament of the Americas and 1992 Summer Olympics—while also being undefeated.[16]\\n\\nJordan's individual accolades include six NBA Finals Most Valuable Player (MVP) awards, ten NBA scoring titles (both all-time records), five NBA MVP awards, 10 All-NBA First Team designations, nine All-Defensive First Team honors, fourteen NBA All-Star Game selections, three NBA All-Star Game MVP awards, and three NBA steals titles.[14] He holds the NBA records for career regular season scoring average (30.1 points per game) and career playoff scoring average (33.4 points per game).[17] He is one of only eight players to achieve the basketball Triple Crown.\", ' He played 15 seasons in the NBA between 1984-2003, winning six NBA championships with the Chicago Bulls.', '\\n\\nMichael Jeffrey Jordan (born February 17, 1963), also known by his initials MJ,[8] is an American businessman, former professional basketball and baseball player, who is a minority owner of the Charlotte Hornets of the National Basketball Association (NBA).', ' He became part-owner and head of basketball operations for the Charlotte Hornets (then named the Bobcats) in 2006 and bought a controlling interest in 2010, before selling his majority stake in 2023.', \"\\n\\nOne of the most effectively marketed athletes ever, Jordan made many product endorsements.[12][24] He fueled the success of Nike's Air Jordan sneakers, which were introduced in 1984 and remain popular.[25] Jordan starred as himself in the live-action/animation hybrid film Space Jam (1996) and was the focus of the Emmy-winning documentary series The Last Dance (2020).\", ' In 1999, Jordan was named the 20th century\\'s greatest North American athlete by ESPN and was second to Babe Ruth on the Associated Press\\' list of athletes of the century.[5] Jordan was twice inducted into the Naismith Memorial Basketball Hall of Fame, once in 2009 for his individual career,[18] and in 2010 as part of the 1992 United States men\\'s Olympic basketball team (\"The Dream Team\").[19] He became a member of the United States Olympic Hall of Fame in 2009,[20] an individual member of the FIBA Hall of Fame in 2015 and a \"Dream Team\" member in 2017.[21][22] Jordan was named to the NBA 75th Anniversary Team in 2021.[23] The trophy for the NBA Most Valuable Player Award is named in his honor.', ' In 2014, he became the first billionaire player in NBA history.[26] In 2016, President Barack Obama awarded Jordan the Presidential Medal of Freedom.[27] As of 2025, his net worth is estimated at $3.8 billion by Forbes,[28] making him one of the richest celebrities.', ' Jordan is a co-owner of 23XI Racing in the NASCAR Cup Series.']\n"
     ]
    }
   ],
   "source": [
    "# Search for all relevant data\n",
    "threshold_results = vector_store.threshold_search(user_query, threshold=0.65)\n",
    "print(threshold_results)"
   ]
  },
  {
   "cell_type": "code",
   "execution_count": 239,
   "id": "33cd6f21-dd40-4e41-965d-3401ee0a62ad",
   "metadata": {},
   "outputs": [
    {
     "name": "stdout",
     "output_type": "stream",
     "text": [
      "[' Citing physical and mental exhaustion from basketball and superstardom, Jordan abruptly retired before the 1993–94 NBA season to play Minor League Baseball in the Chicago White Sox organization.', ' As a freshman, he was a member of the Tar Heels\\' national championship team in 1982.[5] Jordan joined the Bulls in 1984 as the third overall draft pick[5][14] and emerged as a league star, entertaining crowds with his prolific scoring while gaining a reputation as one of the best defensive players.[15] His leaping ability, demonstrated by performing slam dunks from the free-throw line in Slam Dunk Contests, earned him the nicknames \"Air Jordan\" and \"His Airness\".[5] Jordan won his first NBA title with the Bulls in 1991 and followed that with titles in 1992 and 1993, securing a three-peat.', ' Widely considered to be one of the greatest players of all time,[9][10][11] he was integral in popularizing basketball and the NBA around the world in the 1980s and 1990s,[12] becoming a global cultural icon.[13]\\n\\nJordan played college basketball with the North Carolina Tar Heels.', \" He returned to the Bulls in 1995 and led them to three more championships in 1996, 1997, and 1998, as well as a then-record 72 regular season wins in the 1995–96 NBA season.[5] Jordan retired for the second time in 1999, returning for two NBA seasons from 2001 to 2003 as a member of the Washington Wizards.[5][14] He was selected to play for the United States national team during his college and NBA careers, winning four gold medals—at the 1983 Pan American Games, 1984 Summer Olympics, 1992 Tournament of the Americas and 1992 Summer Olympics—while also being undefeated.[16]\\n\\nJordan's individual accolades include six NBA Finals Most Valuable Player (MVP) awards, ten NBA scoring titles (both all-time records), five NBA MVP awards, 10 All-NBA First Team designations, nine All-Defensive First Team honors, fourteen NBA All-Star Game selections, three NBA All-Star Game MVP awards, and three NBA steals titles.[14] He holds the NBA records for career regular season scoring average (30.1 points per game) and career playoff scoring average (33.4 points per game).[17] He is one of only eight players to achieve the basketball Triple Crown.\", ' He played 15 seasons in the NBA between 1984-2003, winning six NBA championships with the Chicago Bulls.', '\\n\\nMichael Jeffrey Jordan (born February 17, 1963), also known by his initials MJ,[8] is an American businessman, former professional basketball and baseball player, who is a minority owner of the Charlotte Hornets of the National Basketball Association (NBA).', ' He became part-owner and head of basketball operations for the Charlotte Hornets (then named the Bobcats) in 2006 and bought a controlling interest in 2010, before selling his majority stake in 2023.', \"\\n\\nOne of the most effectively marketed athletes ever, Jordan made many product endorsements.[12][24] He fueled the success of Nike's Air Jordan sneakers, which were introduced in 1984 and remain popular.[25] Jordan starred as himself in the live-action/animation hybrid film Space Jam (1996) and was the focus of the Emmy-winning documentary series The Last Dance (2020).\", ' In 1999, Jordan was named the 20th century\\'s greatest North American athlete by ESPN and was second to Babe Ruth on the Associated Press\\' list of athletes of the century.[5] Jordan was twice inducted into the Naismith Memorial Basketball Hall of Fame, once in 2009 for his individual career,[18] and in 2010 as part of the 1992 United States men\\'s Olympic basketball team (\"The Dream Team\").[19] He became a member of the United States Olympic Hall of Fame in 2009,[20] an individual member of the FIBA Hall of Fame in 2015 and a \"Dream Team\" member in 2017.[21][22] Jordan was named to the NBA 75th Anniversary Team in 2021.[23] The trophy for the NBA Most Valuable Player Award is named in his honor.', ' In 2014, he became the first billionaire player in NBA history.[26] In 2016, President Barack Obama awarded Jordan the Presidential Medal of Freedom.[27] As of 2025, his net worth is estimated at $3.8 billion by Forbes,[28] making him one of the richest celebrities.', ' Jordan is a co-owner of 23XI Racing in the NASCAR Cup Series.', ' Each record must include a unique patient identifier, the date of response, and the specific instrument used (e.g., EQ-5D-5L, QLQ-C30).', ' The city is also one of the states of Germany, and is the third smallest state in the country in terms of area.', '\\n\\n3.0 DATA CONTENT AND VALIDATION\\n\\n3.1 Patient-Reported Outcomes (PROs)\\n\\nPRO data must adhere to the CDISC SDTM standard, version 1.6.', ' The sponsor is responsible for retaining a local copy of all submitted data and the corresponding transaction IDs.', ' Upon successful receipt, the system will generate a unique transaction ID and archive the file for a period of no less than seven (7) years.', \" Non-compliance with this standard, including but not limited to repeated failed submissions or data integrity issues, may lead to a formal investigation and potential suspension of the sponsor's data submission privileges.\", ' A logical check will be performed to ensure that all response values fall within the permissible range for the specified instrument.', 'Berlin is the capital and largest city of Germany, both by area and by population.', \" Its more than 3.85 million inhabitants make it the European Union's most populous city, as measured by population within city limits.\", ' Client-side authentication requires a valid client certificate and a rotating API key, which must be refreshed every 24 hours.', ' Each data stream must be accompanied by a digital signature using an SHA-256 hash and a Public Key Infrastructure (PKI) certificate issued by the approved Certificate Authority (CA) as designated in Appendix A.', ' Failure to provide a valid justification will result in an official compliance notice.']\n"
     ]
    }
   ],
   "source": [
    "# Search for all relevant data\n",
    "threshold_results = vector_store.threshold_search(user_query, threshold=0.6)\n",
    "print(threshold_results)"
   ]
  },
  {
   "cell_type": "markdown",
   "id": "1679c789-ffdd-44ad-abc7-9fdb0ff48a4f",
   "metadata": {},
   "source": [
    "## Keyword search"
   ]
  },
  {
   "cell_type": "markdown",
   "id": "fc1b6f8a-65dd-4553-a392-b3ff2db2a0aa",
   "metadata": {},
   "source": [
    "We are basically going to be doing the same but using keywords for queries"
   ]
  },
  {
   "cell_type": "code",
   "execution_count": 241,
   "id": "117a3c85-de02-48a4-88ba-9949a0c7972e",
   "metadata": {},
   "outputs": [],
   "source": [
    "class VectorStoreKeyword:\n",
    "    def __init__(self, docs, embedding_model):\n",
    "        self.docs = docs\n",
    "        self.chunks = []\n",
    "        self.embeddings = []\n",
    "        self.model = embedding_model\n",
    "        # chunk afterwards (context-sensitive chunked pooling) - latent\n",
    "        for text in docs:\n",
    "            chunks, span_annotations = chunk_by_sentences(text, tokenizer)\n",
    "            for i in chunks:\n",
    "                self.chunks.append(i)\n",
    "            inputs = tokenizer(text, return_tensors='pt')\n",
    "            model_output = embedding_model(**inputs)\n",
    "            embeddings = chunked_pooling(model_output, [span_annotations])[0]\n",
    "            for emb in embeddings:\n",
    "                self.embeddings.append(emb)\n",
    "\n",
    "    def keyword_search(self, query_text, k=10):\n",
    "        # semantic search using cosine similarity\n",
    "        query_embedding = model.encode(query_text)\n",
    "        similarities = []\n",
    "        for i in self.embeddings:\n",
    "            similarities.append(cos_sim(query_embedding, i))\n",
    "\n",
    "        sorted_indices = np.argsort(similarities)[::-1]\n",
    "        top_k_indices = sorted_indices[:k]\n",
    "        \n",
    "        results = []\n",
    "        for k in top_k_indices:\n",
    "            results.append(self.chunks[k])\n",
    "            \n",
    "        return results\n",
    "\n",
    "\n",
    "    def keyword_search_threshold(self, query_text, threshold = 0.7):\n",
    "        # semantic search using cosine similarity\n",
    "        query_embedding = model.encode(query_text)\n",
    "        similarities = []\n",
    "        for i in self.embeddings:\n",
    "            similarities.append(cos_sim(query_embedding, i))\n",
    "\n",
    "        sorted_indices = np.argsort(similarities)[::-1]\n",
    "        \n",
    "        results = []\n",
    "        for k in sorted_indices:\n",
    "            if similarities[k] >= threshold:\n",
    "                results.append(self.chunks[k])\n",
    "            else:\n",
    "                break\n",
    "            \n",
    "        return results\n"
   ]
  },
  {
   "cell_type": "code",
   "execution_count": 242,
   "id": "06b55caf-1b24-48a8-98ad-8fe3b308c002",
   "metadata": {},
   "outputs": [],
   "source": [
    "# Sample data (reusing from above)\n",
    "documents = [\n",
    "    input_text,\n",
    "    cs_text,\n",
    "    mj_text,\n",
    "    text,\n",
    "]"
   ]
  },
  {
   "cell_type": "code",
   "execution_count": 244,
   "id": "c0ae540a-5dfe-432e-a502-9884bee35350",
   "metadata": {},
   "outputs": [],
   "source": [
    "# Create mock search systems\n",
    "vector_store = VectorStoreKeyword(documents, model)"
   ]
  },
  {
   "cell_type": "code",
   "execution_count": 245,
   "id": "176ded74-f9b3-4eea-97ae-d5f571db504b",
   "metadata": {},
   "outputs": [
    {
     "name": "stdout",
     "output_type": "stream",
     "text": [
      "[' As a freshman, he was a member of the Tar Heels\\' national championship team in 1982.[5] Jordan joined the Bulls in 1984 as the third overall draft pick[5][14] and emerged as a league star, entertaining crowds with his prolific scoring while gaining a reputation as one of the best defensive players.[15] His leaping ability, demonstrated by performing slam dunks from the free-throw line in Slam Dunk Contests, earned him the nicknames \"Air Jordan\" and \"His Airness\".[5] Jordan won his first NBA title with the Bulls in 1991 and followed that with titles in 1992 and 1993, securing a three-peat.', ' Widely considered to be one of the greatest players of all time,[9][10][11] he was integral in popularizing basketball and the NBA around the world in the 1980s and 1990s,[12] becoming a global cultural icon.[13]\\n\\nJordan played college basketball with the North Carolina Tar Heels.', \" He returned to the Bulls in 1995 and led them to three more championships in 1996, 1997, and 1998, as well as a then-record 72 regular season wins in the 1995–96 NBA season.[5] Jordan retired for the second time in 1999, returning for two NBA seasons from 2001 to 2003 as a member of the Washington Wizards.[5][14] He was selected to play for the United States national team during his college and NBA careers, winning four gold medals—at the 1983 Pan American Games, 1984 Summer Olympics, 1992 Tournament of the Americas and 1992 Summer Olympics—while also being undefeated.[16]\\n\\nJordan's individual accolades include six NBA Finals Most Valuable Player (MVP) awards, ten NBA scoring titles (both all-time records), five NBA MVP awards, 10 All-NBA First Team designations, nine All-Defensive First Team honors, fourteen NBA All-Star Game selections, three NBA All-Star Game MVP awards, and three NBA steals titles.[14] He holds the NBA records for career regular season scoring average (30.1 points per game) and career playoff scoring average (33.4 points per game).[17] He is one of only eight players to achieve the basketball Triple Crown.\"]\n"
     ]
    }
   ],
   "source": [
    "# Perform searches (top k chunks)\n",
    "topK = 3\n",
    "keyword_query = \"Jordan\"\n",
    "semantic_results = vector_store.keyword_search(keyword_query, k=topK)\n",
    "print(semantic_results)"
   ]
  },
  {
   "cell_type": "code",
   "execution_count": 246,
   "id": "255eac92-89da-4e7c-a02d-a0f330b797a5",
   "metadata": {},
   "outputs": [
    {
     "name": "stdout",
     "output_type": "stream",
     "text": [
      "[' Widely considered to be one of the greatest players of all time,[9][10][11] he was integral in popularizing basketball and the NBA around the world in the 1980s and 1990s,[12] becoming a global cultural icon.[13]\\n\\nJordan played college basketball with the North Carolina Tar Heels.', ' As a freshman, he was a member of the Tar Heels\\' national championship team in 1982.[5] Jordan joined the Bulls in 1984 as the third overall draft pick[5][14] and emerged as a league star, entertaining crowds with his prolific scoring while gaining a reputation as one of the best defensive players.[15] His leaping ability, demonstrated by performing slam dunks from the free-throw line in Slam Dunk Contests, earned him the nicknames \"Air Jordan\" and \"His Airness\".[5] Jordan won his first NBA title with the Bulls in 1991 and followed that with titles in 1992 and 1993, securing a three-peat.', '\\n\\nMichael Jeffrey Jordan (born February 17, 1963), also known by his initials MJ,[8] is an American businessman, former professional basketball and baseball player, who is a minority owner of the Charlotte Hornets of the National Basketball Association (NBA).']\n"
     ]
    }
   ],
   "source": [
    "# Perform searches (top k chunks)\n",
    "topK = 3\n",
    "keyword_query = \"Michael\"\n",
    "semantic_results = vector_store.keyword_search(keyword_query, k=topK)\n",
    "print(semantic_results)"
   ]
  },
  {
   "cell_type": "code",
   "execution_count": 247,
   "id": "b09faae1-f2db-4c92-8f8e-af05aef801ba",
   "metadata": {},
   "outputs": [
    {
     "name": "stdout",
     "output_type": "stream",
     "text": [
      "[' In 2014, he became the first billionaire player in NBA history.[26] In 2016, President Barack Obama awarded Jordan the Presidential Medal of Freedom.[27] As of 2025, his net worth is estimated at $3.8 billion by Forbes,[28] making him one of the richest celebrities.', ' Widely considered to be one of the greatest players of all time,[9][10][11] he was integral in popularizing basketball and the NBA around the world in the 1980s and 1990s,[12] becoming a global cultural icon.[13]\\n\\nJordan played college basketball with the North Carolina Tar Heels.', ' In 1999, Jordan was named the 20th century\\'s greatest North American athlete by ESPN and was second to Babe Ruth on the Associated Press\\' list of athletes of the century.[5] Jordan was twice inducted into the Naismith Memorial Basketball Hall of Fame, once in 2009 for his individual career,[18] and in 2010 as part of the 1992 United States men\\'s Olympic basketball team (\"The Dream Team\").[19] He became a member of the United States Olympic Hall of Fame in 2009,[20] an individual member of the FIBA Hall of Fame in 2015 and a \"Dream Team\" member in 2017.[21][22] Jordan was named to the NBA 75th Anniversary Team in 2021.[23] The trophy for the NBA Most Valuable Player Award is named in his honor.']\n"
     ]
    }
   ],
   "source": [
    "# Perform searches (top k chunks)\n",
    "topK = 3\n",
    "keyword_query = \"Michael Jordan\"\n",
    "semantic_results = vector_store.keyword_search(keyword_query, k=topK)\n",
    "print(semantic_results)"
   ]
  },
  {
   "cell_type": "code",
   "execution_count": 248,
   "id": "3b6d84bf-5ba6-4ee4-a75e-6ea7e6a63138",
   "metadata": {},
   "outputs": [
    {
     "name": "stdout",
     "output_type": "stream",
     "text": [
      "[\" He returned to the Bulls in 1995 and led them to three more championships in 1996, 1997, and 1998, as well as a then-record 72 regular season wins in the 1995–96 NBA season.[5] Jordan retired for the second time in 1999, returning for two NBA seasons from 2001 to 2003 as a member of the Washington Wizards.[5][14] He was selected to play for the United States national team during his college and NBA careers, winning four gold medals—at the 1983 Pan American Games, 1984 Summer Olympics, 1992 Tournament of the Americas and 1992 Summer Olympics—while also being undefeated.[16]\\n\\nJordan's individual accolades include six NBA Finals Most Valuable Player (MVP) awards, ten NBA scoring titles (both all-time records), five NBA MVP awards, 10 All-NBA First Team designations, nine All-Defensive First Team honors, fourteen NBA All-Star Game selections, three NBA All-Star Game MVP awards, and three NBA steals titles.[14] He holds the NBA records for career regular season scoring average (30.1 points per game) and career playoff scoring average (33.4 points per game).[17] He is one of only eight players to achieve the basketball Triple Crown.\", \"\\n\\nOne of the most effectively marketed athletes ever, Jordan made many product endorsements.[12][24] He fueled the success of Nike's Air Jordan sneakers, which were introduced in 1984 and remain popular.[25] Jordan starred as himself in the live-action/animation hybrid film Space Jam (1996) and was the focus of the Emmy-winning documentary series The Last Dance (2020).\", ' As a freshman, he was a member of the Tar Heels\\' national championship team in 1982.[5] Jordan joined the Bulls in 1984 as the third overall draft pick[5][14] and emerged as a league star, entertaining crowds with his prolific scoring while gaining a reputation as one of the best defensive players.[15] His leaping ability, demonstrated by performing slam dunks from the free-throw line in Slam Dunk Contests, earned him the nicknames \"Air Jordan\" and \"His Airness\".[5] Jordan won his first NBA title with the Bulls in 1991 and followed that with titles in 1992 and 1993, securing a three-peat.']\n"
     ]
    }
   ],
   "source": [
    "# Perform searches (top k chunks)\n",
    "topK = 3\n",
    "keyword_query = \"basketball\"\n",
    "semantic_results = vector_store.keyword_search(keyword_query, k=topK)\n",
    "print(semantic_results)"
   ]
  },
  {
   "cell_type": "code",
   "execution_count": 249,
   "id": "e85d3e22-e9f7-4671-9cca-1825f8214066",
   "metadata": {},
   "outputs": [
    {
     "name": "stdout",
     "output_type": "stream",
     "text": [
      "[' Each record must include a unique patient identifier, the date of response, and the specific instrument used (e.g., EQ-5D-5L, QLQ-C30).', ' Any changes will be communicated via official channels and will be published with a 90-day grace period before mandatory enforcement.', ' Upon successful receipt, the system will generate a unique transaction ID and archive the file for a period of no less than seven (7) years.']\n"
     ]
    }
   ],
   "source": [
    "# Perform searches (top k chunks)\n",
    "topK = 3\n",
    "keyword_query = \"where\"\n",
    "semantic_results = vector_store.keyword_search(keyword_query, k=topK)\n",
    "print(semantic_results)"
   ]
  },
  {
   "cell_type": "code",
   "execution_count": 250,
   "id": "e599530d-730d-4322-a2ef-287aae3fe036",
   "metadata": {},
   "outputs": [
    {
     "name": "stdout",
     "output_type": "stream",
     "text": [
      "[' The sponsor is responsible for retaining a local copy of all submitted data and the corresponding transaction IDs.', \" Non-compliance with this standard, including but not limited to repeated failed submissions or data integrity issues, may lead to a formal investigation and potential suspension of the sponsor's data submission privileges.\", ' Upon successful receipt, the system will generate a unique transaction ID and archive the file for a period of no less than seven (7) years.']\n"
     ]
    }
   ],
   "source": [
    "# Perform searches (top k chunks)\n",
    "topK = 3\n",
    "keyword_query = \"team\"\n",
    "semantic_results = vector_store.keyword_search(keyword_query, k=topK)\n",
    "print(semantic_results)"
   ]
  },
  {
   "cell_type": "code",
   "execution_count": 251,
   "id": "fb60c192-9d05-4dc2-9718-769aedc5ef68",
   "metadata": {},
   "outputs": [
    {
     "name": "stdout",
     "output_type": "stream",
     "text": [
      "[\" He returned to the Bulls in 1995 and led them to three more championships in 1996, 1997, and 1998, as well as a then-record 72 regular season wins in the 1995–96 NBA season.[5] Jordan retired for the second time in 1999, returning for two NBA seasons from 2001 to 2003 as a member of the Washington Wizards.[5][14] He was selected to play for the United States national team during his college and NBA careers, winning four gold medals—at the 1983 Pan American Games, 1984 Summer Olympics, 1992 Tournament of the Americas and 1992 Summer Olympics—while also being undefeated.[16]\\n\\nJordan's individual accolades include six NBA Finals Most Valuable Player (MVP) awards, ten NBA scoring titles (both all-time records), five NBA MVP awards, 10 All-NBA First Team designations, nine All-Defensive First Team honors, fourteen NBA All-Star Game selections, three NBA All-Star Game MVP awards, and three NBA steals titles.[14] He holds the NBA records for career regular season scoring average (30.1 points per game) and career playoff scoring average (33.4 points per game).[17] He is one of only eight players to achieve the basketball Triple Crown.\", ' As a freshman, he was a member of the Tar Heels\\' national championship team in 1982.[5] Jordan joined the Bulls in 1984 as the third overall draft pick[5][14] and emerged as a league star, entertaining crowds with his prolific scoring while gaining a reputation as one of the best defensive players.[15] His leaping ability, demonstrated by performing slam dunks from the free-throw line in Slam Dunk Contests, earned him the nicknames \"Air Jordan\" and \"His Airness\".[5] Jordan won his first NBA title with the Bulls in 1991 and followed that with titles in 1992 and 1993, securing a three-peat.', ' He became part-owner and head of basketball operations for the Charlotte Hornets (then named the Bobcats) in 2006 and bought a controlling interest in 2010, before selling his majority stake in 2023.']\n"
     ]
    }
   ],
   "source": [
    "# Perform searches (top k chunks)\n",
    "topK = 3\n",
    "keyword_query = \"basketball team\"\n",
    "semantic_results = vector_store.keyword_search(keyword_query, k=topK)\n",
    "print(semantic_results)"
   ]
  },
  {
   "cell_type": "code",
   "execution_count": 252,
   "id": "91882346-4529-49a7-ae06-decd2baf94c9",
   "metadata": {},
   "outputs": [
    {
     "name": "stdout",
     "output_type": "stream",
     "text": [
      "[' As a freshman, he was a member of the Tar Heels\\' national championship team in 1982.[5] Jordan joined the Bulls in 1984 as the third overall draft pick[5][14] and emerged as a league star, entertaining crowds with his prolific scoring while gaining a reputation as one of the best defensive players.[15] His leaping ability, demonstrated by performing slam dunks from the free-throw line in Slam Dunk Contests, earned him the nicknames \"Air Jordan\" and \"His Airness\".[5] Jordan won his first NBA title with the Bulls in 1991 and followed that with titles in 1992 and 1993, securing a three-peat.', ' Citing physical and mental exhaustion from basketball and superstardom, Jordan abruptly retired before the 1993–94 NBA season to play Minor League Baseball in the Chicago White Sox organization.', \" He returned to the Bulls in 1995 and led them to three more championships in 1996, 1997, and 1998, as well as a then-record 72 regular season wins in the 1995–96 NBA season.[5] Jordan retired for the second time in 1999, returning for two NBA seasons from 2001 to 2003 as a member of the Washington Wizards.[5][14] He was selected to play for the United States national team during his college and NBA careers, winning four gold medals—at the 1983 Pan American Games, 1984 Summer Olympics, 1992 Tournament of the Americas and 1992 Summer Olympics—while also being undefeated.[16]\\n\\nJordan's individual accolades include six NBA Finals Most Valuable Player (MVP) awards, ten NBA scoring titles (both all-time records), five NBA MVP awards, 10 All-NBA First Team designations, nine All-Defensive First Team honors, fourteen NBA All-Star Game selections, three NBA All-Star Game MVP awards, and three NBA steals titles.[14] He holds the NBA records for career regular season scoring average (30.1 points per game) and career playoff scoring average (33.4 points per game).[17] He is one of only eight players to achieve the basketball Triple Crown.\"]\n"
     ]
    }
   ],
   "source": [
    "# Perform searches (top k chunks)\n",
    "topK = 3\n",
    "keyword_query = \"Bulls\"\n",
    "semantic_results = vector_store.keyword_search(keyword_query, k=topK)\n",
    "print(semantic_results)"
   ]
  },
  {
   "cell_type": "code",
   "execution_count": 253,
   "id": "88259687-7302-49a4-90c0-e829b7e1ebdd",
   "metadata": {},
   "outputs": [
    {
     "name": "stdout",
     "output_type": "stream",
     "text": [
      "[' The fundamental concern of computer science is determining what can and cannot be automated.The Turing Award is generally recognized as the highest distinction in computer science.', ' Human–computer interaction investigates the interfaces through which humans and computers interact, and software engineering focuses on the design and principles behind developing software.', ' Within artificial intelligence, computer vision aims to understand and process image and video data, while natural language processing aims to understand and process textual and linguistic data.']\n"
     ]
    }
   ],
   "source": [
    "# Perform searches (top k chunks)\n",
    "topK = 3\n",
    "keyword_query = \"college\"\n",
    "semantic_results = vector_store.keyword_search(keyword_query, k=topK)\n",
    "print(semantic_results)"
   ]
  },
  {
   "cell_type": "markdown",
   "id": "22ff8b77-de61-4f6b-a98d-508667b19397",
   "metadata": {},
   "source": [
    "### Keyword threshold search"
   ]
  },
  {
   "cell_type": "code",
   "execution_count": 254,
   "id": "38e59f4b-a001-4928-9078-dae9c10c0767",
   "metadata": {},
   "outputs": [
    {
     "name": "stdout",
     "output_type": "stream",
     "text": [
      "[]\n"
     ]
    }
   ],
   "source": [
    "# Perform searches (over threshold)\n",
    "threshold = 0.85\n",
    "keyword_query = \"college\"\n",
    "semantic_results = vector_store.keyword_search_threshold(keyword_query, threshold)\n",
    "print(semantic_results)"
   ]
  },
  {
   "cell_type": "code",
   "execution_count": 255,
   "id": "c6c4d2fe-0260-4230-b5ff-5d4f016dcd43",
   "metadata": {},
   "outputs": [
    {
     "name": "stdout",
     "output_type": "stream",
     "text": [
      "[]\n"
     ]
    }
   ],
   "source": [
    "# Perform searches (over threshold)\n",
    "threshold = 0.80\n",
    "keyword_query = \"college\"\n",
    "semantic_results = vector_store.keyword_search_threshold(keyword_query, threshold)\n",
    "print(semantic_results)"
   ]
  },
  {
   "cell_type": "code",
   "execution_count": 256,
   "id": "1bfac42a-aaa6-4f5d-8c20-e056dbb2c78d",
   "metadata": {},
   "outputs": [
    {
     "name": "stdout",
     "output_type": "stream",
     "text": [
      "[]\n"
     ]
    }
   ],
   "source": [
    "# Perform searches (over threshold)\n",
    "threshold = 0.75\n",
    "keyword_query = \"college\"\n",
    "semantic_results = vector_store.keyword_search_threshold(keyword_query, threshold)\n",
    "print(semantic_results)"
   ]
  },
  {
   "cell_type": "code",
   "execution_count": 257,
   "id": "59dcb38a-a287-49e0-adff-f556b6220443",
   "metadata": {},
   "outputs": [
    {
     "name": "stdout",
     "output_type": "stream",
     "text": [
      "[]\n"
     ]
    }
   ],
   "source": [
    "# Perform searches (over threshold)\n",
    "threshold = 0.7\n",
    "keyword_query = \"college\"\n",
    "semantic_results = vector_store.keyword_search_threshold(keyword_query, threshold)\n",
    "print(semantic_results)"
   ]
  },
  {
   "cell_type": "code",
   "execution_count": 258,
   "id": "d86af216-99cd-4101-82f3-578b6e477787",
   "metadata": {},
   "outputs": [
    {
     "name": "stdout",
     "output_type": "stream",
     "text": [
      "[' The fundamental concern of computer science is determining what can and cannot be automated.The Turing Award is generally recognized as the highest distinction in computer science.', ' Human–computer interaction investigates the interfaces through which humans and computers interact, and software engineering focuses on the design and principles behind developing software.', ' Within artificial intelligence, computer vision aims to understand and process image and video data, while natural language processing aims to understand and process textual and linguistic data.', ' Artificial intelligence and machine learning aim to synthesize goal-orientated processes such as problem-solving, decision-making, environmental adaptation, planning and learning found in humans and animals.', ' Areas such as operating systems, networks and embedded systems investigate the principles and design behind complex systems.', ' Computer architecture describes the construction of computer components and computer-operated equipment.']\n"
     ]
    }
   ],
   "source": [
    "# Perform searches (over threshold)\n",
    "threshold = 0.65\n",
    "keyword_query = \"college\"\n",
    "semantic_results = vector_store.keyword_search_threshold(keyword_query, threshold)\n",
    "print(semantic_results)"
   ]
  },
  {
   "cell_type": "code",
   "execution_count": 259,
   "id": "de1efee7-1ff0-4e2f-bf84-0097825a51ce",
   "metadata": {},
   "outputs": [
    {
     "name": "stdout",
     "output_type": "stream",
     "text": [
      "[' The fundamental concern of computer science is determining what can and cannot be automated.The Turing Award is generally recognized as the highest distinction in computer science.', ' Human–computer interaction investigates the interfaces through which humans and computers interact, and software engineering focuses on the design and principles behind developing software.', ' Within artificial intelligence, computer vision aims to understand and process image and video data, while natural language processing aims to understand and process textual and linguistic data.', ' Artificial intelligence and machine learning aim to synthesize goal-orientated processes such as problem-solving, decision-making, environmental adaptation, planning and learning found in humans and animals.', ' Areas such as operating systems, networks and embedded systems investigate the principles and design behind complex systems.', ' Computer architecture describes the construction of computer components and computer-operated equipment.', ' Computer graphics and computational geometry address the generation of images.', ' Programming language theory considers different ways to describe computational processes, and database theory concerns the management of repositories of data.', ' The fields of cryptography and computer security involve studying the means for secure communication and preventing security vulnerabilities.', \" Non-compliance with this standard, including but not limited to repeated failed submissions or data integrity issues, may lead to a formal investigation and potential suspension of the sponsor's data submission privileges.\", ' Computer science spans theoretical disciplines (such as algorithms, theory of computation, and information theory) to applied disciplines (including the design and implementation of hardware and software).', ' The sponsor is responsible for retaining a local copy of all submitted data and the corresponding transaction IDs.', ' Any changes will be communicated via official channels and will be published with a 90-day grace period before mandatory enforcement.', ' The theory of computation concerns abstract models of computation and general classes of problems that can be solved using them.', '\\n\\n3.0 DATA CONTENT AND VALIDATION\\n\\n3.1 Patient-Reported Outcomes (PROs)\\n\\nPRO data must adhere to the CDISC SDTM standard, version 1.6.', ' Upon successful receipt, the system will generate a unique transaction ID and archive the file for a period of no less than seven (7) years.', ' Algorithms and data structures are central to computer science.', ' Citing physical and mental exhaustion from basketball and superstardom, Jordan abruptly retired before the 1993–94 NBA season to play Minor League Baseball in the Chicago White Sox organization.', ' As a freshman, he was a member of the Tar Heels\\' national championship team in 1982.[5] Jordan joined the Bulls in 1984 as the third overall draft pick[5][14] and emerged as a league star, entertaining crowds with his prolific scoring while gaining a reputation as one of the best defensive players.[15] His leaping ability, demonstrated by performing slam dunks from the free-throw line in Slam Dunk Contests, earned him the nicknames \"Air Jordan\" and \"His Airness\".[5] Jordan won his first NBA title with the Bulls in 1991 and followed that with titles in 1992 and 1993, securing a three-peat.', ' In 2014, he became the first billionaire player in NBA history.[26] In 2016, President Barack Obama awarded Jordan the Presidential Medal of Freedom.[27] As of 2025, his net worth is estimated at $3.8 billion by Forbes,[28] making him one of the richest celebrities.', ' Each record must include a unique patient identifier, the date of response, and the specific instrument used (e.g., EQ-5D-5L, QLQ-C30).', ' Failure to provide a valid justification will result in an official compliance notice.', \"\\n\\nOne of the most effectively marketed athletes ever, Jordan made many product endorsements.[12][24] He fueled the success of Nike's Air Jordan sneakers, which were introduced in 1984 and remain popular.[25] Jordan starred as himself in the live-action/animation hybrid film Space Jam (1996) and was the focus of the Emmy-winning documentary series The Last Dance (2020).\", ' Widely considered to be one of the greatest players of all time,[9][10][11] he was integral in popularizing basketball and the NBA around the world in the 1980s and 1990s,[12] becoming a global cultural icon.[13]\\n\\nJordan played college basketball with the North Carolina Tar Heels.', \" He returned to the Bulls in 1995 and led them to three more championships in 1996, 1997, and 1998, as well as a then-record 72 regular season wins in the 1995–96 NBA season.[5] Jordan retired for the second time in 1999, returning for two NBA seasons from 2001 to 2003 as a member of the Washington Wizards.[5][14] He was selected to play for the United States national team during his college and NBA careers, winning four gold medals—at the 1983 Pan American Games, 1984 Summer Olympics, 1992 Tournament of the Americas and 1992 Summer Olympics—while also being undefeated.[16]\\n\\nJordan's individual accolades include six NBA Finals Most Valuable Player (MVP) awards, ten NBA scoring titles (both all-time records), five NBA MVP awards, 10 All-NBA First Team designations, nine All-Defensive First Team honors, fourteen NBA All-Star Game selections, three NBA All-Star Game MVP awards, and three NBA steals titles.[14] He holds the NBA records for career regular season scoring average (30.1 points per game) and career playoff scoring average (33.4 points per game).[17] He is one of only eight players to achieve the basketball Triple Crown.\", '\\n\\n3.3 Investigational Product Accountability (IPA) Logs\\n\\nIPA logs are required to be submitted on a monthly basis.', ' The system will cross-reference all submitted AERs against a predefined list of high-priority events and will automatically trigger a critical alert for immediate manual review if a match is found.', ' Submissions exceeding this limit must be partitioned into multiple files.', ' A logical check will be performed to ensure that all response values fall within the permissible range for the specified instrument.', ' The data must include the batch number, expiration date, and a detailed record of the product dispensed, returned, or destroyed.', ' Any out-of-range values will be flagged, and the entire batch will be returned for correction with a detailed error report.', ' Any discrepancy greater than a 2% variance must be justified in a separate discrepancy report submitted alongside the data.', ' He became part-owner and head of basketball operations for the Charlotte Hornets (then named the Bobcats) in 2006 and bought a controlling interest in 2010, before selling his majority stake in 2023.', ' Failure to authenticate correctly will terminate the connection and log a security event in the central audit trail.', ' Jordan is a co-owner of 23XI Racing in the NASCAR Cup Series.', ' Client-side authentication requires a valid client certificate and a rotating API key, which must be refreshed every 24 hours.', '\\n\\n4.0 GOVERNANCE AND COMPLIANCE\\n\\nThis standard is subject to periodic review and revision.']\n"
     ]
    }
   ],
   "source": [
    "# Perform searches (over threshold)\n",
    "threshold = 0.60\n",
    "keyword_query = \"college\"\n",
    "semantic_results = vector_store.keyword_search_threshold(keyword_query, threshold)\n",
    "print(semantic_results)"
   ]
  },
  {
   "cell_type": "code",
   "execution_count": 260,
   "id": "0e76a13a-2d5b-48bd-9637-e8c1d0ab59f1",
   "metadata": {},
   "outputs": [
    {
     "name": "stdout",
     "output_type": "stream",
     "text": [
      "[]\n"
     ]
    }
   ],
   "source": [
    "# Perform searches (over threshold)\n",
    "threshold = 0.85\n",
    "keyword_query = \"basketball\"\n",
    "semantic_results = vector_store.keyword_search_threshold(keyword_query, threshold)\n",
    "print(semantic_results)"
   ]
  },
  {
   "cell_type": "code",
   "execution_count": 262,
   "id": "4d8c4716-16ad-46ef-a3ff-1b6dd87a3ce5",
   "metadata": {},
   "outputs": [
    {
     "name": "stdout",
     "output_type": "stream",
     "text": [
      "[]\n"
     ]
    }
   ],
   "source": [
    "# Perform searches (over threshold)\n",
    "threshold = 0.80\n",
    "keyword_query = \"basketball\"\n",
    "semantic_results = vector_store.keyword_search_threshold(keyword_query, threshold)\n",
    "print(semantic_results)"
   ]
  },
  {
   "cell_type": "code",
   "execution_count": 263,
   "id": "7206ec7a-e716-4f4b-a7e8-f6adeecee461",
   "metadata": {},
   "outputs": [
    {
     "name": "stdout",
     "output_type": "stream",
     "text": [
      "[]\n"
     ]
    }
   ],
   "source": [
    "# Perform searches (over threshold)\n",
    "threshold = 0.75\n",
    "keyword_query = \"basketball\"\n",
    "semantic_results = vector_store.keyword_search_threshold(keyword_query, threshold)\n",
    "print(semantic_results)"
   ]
  },
  {
   "cell_type": "code",
   "execution_count": 264,
   "id": "6a509910-9438-4782-ad24-ffd4a0b89e00",
   "metadata": {},
   "outputs": [
    {
     "name": "stdout",
     "output_type": "stream",
     "text": [
      "[]\n"
     ]
    }
   ],
   "source": [
    "# Perform searches (over threshold)\n",
    "threshold = 0.7\n",
    "keyword_query = \"basketball\"\n",
    "semantic_results = vector_store.keyword_search_threshold(keyword_query, threshold)\n",
    "print(semantic_results)"
   ]
  },
  {
   "cell_type": "code",
   "execution_count": 265,
   "id": "85a8301f-8931-4d70-a224-225184d795bf",
   "metadata": {},
   "outputs": [
    {
     "name": "stdout",
     "output_type": "stream",
     "text": [
      "[\" He returned to the Bulls in 1995 and led them to three more championships in 1996, 1997, and 1998, as well as a then-record 72 regular season wins in the 1995–96 NBA season.[5] Jordan retired for the second time in 1999, returning for two NBA seasons from 2001 to 2003 as a member of the Washington Wizards.[5][14] He was selected to play for the United States national team during his college and NBA careers, winning four gold medals—at the 1983 Pan American Games, 1984 Summer Olympics, 1992 Tournament of the Americas and 1992 Summer Olympics—while also being undefeated.[16]\\n\\nJordan's individual accolades include six NBA Finals Most Valuable Player (MVP) awards, ten NBA scoring titles (both all-time records), five NBA MVP awards, 10 All-NBA First Team designations, nine All-Defensive First Team honors, fourteen NBA All-Star Game selections, three NBA All-Star Game MVP awards, and three NBA steals titles.[14] He holds the NBA records for career regular season scoring average (30.1 points per game) and career playoff scoring average (33.4 points per game).[17] He is one of only eight players to achieve the basketball Triple Crown.\", \"\\n\\nOne of the most effectively marketed athletes ever, Jordan made many product endorsements.[12][24] He fueled the success of Nike's Air Jordan sneakers, which were introduced in 1984 and remain popular.[25] Jordan starred as himself in the live-action/animation hybrid film Space Jam (1996) and was the focus of the Emmy-winning documentary series The Last Dance (2020).\", ' As a freshman, he was a member of the Tar Heels\\' national championship team in 1982.[5] Jordan joined the Bulls in 1984 as the third overall draft pick[5][14] and emerged as a league star, entertaining crowds with his prolific scoring while gaining a reputation as one of the best defensive players.[15] His leaping ability, demonstrated by performing slam dunks from the free-throw line in Slam Dunk Contests, earned him the nicknames \"Air Jordan\" and \"His Airness\".[5] Jordan won his first NBA title with the Bulls in 1991 and followed that with titles in 1992 and 1993, securing a three-peat.', ' Citing physical and mental exhaustion from basketball and superstardom, Jordan abruptly retired before the 1993–94 NBA season to play Minor League Baseball in the Chicago White Sox organization.', ' Widely considered to be one of the greatest players of all time,[9][10][11] he was integral in popularizing basketball and the NBA around the world in the 1980s and 1990s,[12] becoming a global cultural icon.[13]\\n\\nJordan played college basketball with the North Carolina Tar Heels.', ' The fundamental concern of computer science is determining what can and cannot be automated.The Turing Award is generally recognized as the highest distinction in computer science.', ' In 2014, he became the first billionaire player in NBA history.[26] In 2016, President Barack Obama awarded Jordan the Presidential Medal of Freedom.[27] As of 2025, his net worth is estimated at $3.8 billion by Forbes,[28] making him one of the richest celebrities.', ' Within artificial intelligence, computer vision aims to understand and process image and video data, while natural language processing aims to understand and process textual and linguistic data.', ' He became part-owner and head of basketball operations for the Charlotte Hornets (then named the Bobcats) in 2006 and bought a controlling interest in 2010, before selling his majority stake in 2023.', ' In 1999, Jordan was named the 20th century\\'s greatest North American athlete by ESPN and was second to Babe Ruth on the Associated Press\\' list of athletes of the century.[5] Jordan was twice inducted into the Naismith Memorial Basketball Hall of Fame, once in 2009 for his individual career,[18] and in 2010 as part of the 1992 United States men\\'s Olympic basketball team (\"The Dream Team\").[19] He became a member of the United States Olympic Hall of Fame in 2009,[20] an individual member of the FIBA Hall of Fame in 2015 and a \"Dream Team\" member in 2017.[21][22] Jordan was named to the NBA 75th Anniversary Team in 2021.[23] The trophy for the NBA Most Valuable Player Award is named in his honor.', ' Jordan is a co-owner of 23XI Racing in the NASCAR Cup Series.', ' Artificial intelligence and machine learning aim to synthesize goal-orientated processes such as problem-solving, decision-making, environmental adaptation, planning and learning found in humans and animals.', ' Human–computer interaction investigates the interfaces through which humans and computers interact, and software engineering focuses on the design and principles behind developing software.', ' The sponsor is responsible for retaining a local copy of all submitted data and the corresponding transaction IDs.']\n"
     ]
    }
   ],
   "source": [
    "# Perform searches (over threshold)\n",
    "threshold = 0.65\n",
    "keyword_query = \"basketball\"\n",
    "semantic_results = vector_store.keyword_search_threshold(keyword_query, threshold)\n",
    "print(semantic_results)"
   ]
  },
  {
   "cell_type": "code",
   "execution_count": 266,
   "id": "124e6a39-0552-4ebb-872e-02b487be4a57",
   "metadata": {},
   "outputs": [
    {
     "name": "stdout",
     "output_type": "stream",
     "text": [
      "[]\n"
     ]
    }
   ],
   "source": [
    "# Perform searches (over threshold)\n",
    "threshold = 0.80\n",
    "keyword_query = \"basketball team\"\n",
    "semantic_results = vector_store.keyword_search_threshold(keyword_query, threshold)\n",
    "print(semantic_results)"
   ]
  },
  {
   "cell_type": "code",
   "execution_count": 267,
   "id": "fe8360b4-297b-4755-98f6-0df3c68dc89d",
   "metadata": {},
   "outputs": [
    {
     "name": "stdout",
     "output_type": "stream",
     "text": [
      "[]\n"
     ]
    }
   ],
   "source": [
    "# Perform searches (over threshold)\n",
    "threshold = 0.70\n",
    "keyword_query = \"basketball team\"\n",
    "semantic_results = vector_store.keyword_search_threshold(keyword_query, threshold)\n",
    "print(semantic_results)"
   ]
  },
  {
   "cell_type": "code",
   "execution_count": 268,
   "id": "d71f65ab-55cb-4613-92fa-af8b622b4d47",
   "metadata": {},
   "outputs": [
    {
     "name": "stdout",
     "output_type": "stream",
     "text": [
      "[\" He returned to the Bulls in 1995 and led them to three more championships in 1996, 1997, and 1998, as well as a then-record 72 regular season wins in the 1995–96 NBA season.[5] Jordan retired for the second time in 1999, returning for two NBA seasons from 2001 to 2003 as a member of the Washington Wizards.[5][14] He was selected to play for the United States national team during his college and NBA careers, winning four gold medals—at the 1983 Pan American Games, 1984 Summer Olympics, 1992 Tournament of the Americas and 1992 Summer Olympics—while also being undefeated.[16]\\n\\nJordan's individual accolades include six NBA Finals Most Valuable Player (MVP) awards, ten NBA scoring titles (both all-time records), five NBA MVP awards, 10 All-NBA First Team designations, nine All-Defensive First Team honors, fourteen NBA All-Star Game selections, three NBA All-Star Game MVP awards, and three NBA steals titles.[14] He holds the NBA records for career regular season scoring average (30.1 points per game) and career playoff scoring average (33.4 points per game).[17] He is one of only eight players to achieve the basketball Triple Crown.\", ' As a freshman, he was a member of the Tar Heels\\' national championship team in 1982.[5] Jordan joined the Bulls in 1984 as the third overall draft pick[5][14] and emerged as a league star, entertaining crowds with his prolific scoring while gaining a reputation as one of the best defensive players.[15] His leaping ability, demonstrated by performing slam dunks from the free-throw line in Slam Dunk Contests, earned him the nicknames \"Air Jordan\" and \"His Airness\".[5] Jordan won his first NBA title with the Bulls in 1991 and followed that with titles in 1992 and 1993, securing a three-peat.', ' He became part-owner and head of basketball operations for the Charlotte Hornets (then named the Bobcats) in 2006 and bought a controlling interest in 2010, before selling his majority stake in 2023.', ' Widely considered to be one of the greatest players of all time,[9][10][11] he was integral in popularizing basketball and the NBA around the world in the 1980s and 1990s,[12] becoming a global cultural icon.[13]\\n\\nJordan played college basketball with the North Carolina Tar Heels.', ' Citing physical and mental exhaustion from basketball and superstardom, Jordan abruptly retired before the 1993–94 NBA season to play Minor League Baseball in the Chicago White Sox organization.', ' The sponsor is responsible for retaining a local copy of all submitted data and the corresponding transaction IDs.', ' In 1999, Jordan was named the 20th century\\'s greatest North American athlete by ESPN and was second to Babe Ruth on the Associated Press\\' list of athletes of the century.[5] Jordan was twice inducted into the Naismith Memorial Basketball Hall of Fame, once in 2009 for his individual career,[18] and in 2010 as part of the 1992 United States men\\'s Olympic basketball team (\"The Dream Team\").[19] He became a member of the United States Olympic Hall of Fame in 2009,[20] an individual member of the FIBA Hall of Fame in 2015 and a \"Dream Team\" member in 2017.[21][22] Jordan was named to the NBA 75th Anniversary Team in 2021.[23] The trophy for the NBA Most Valuable Player Award is named in his honor.']\n"
     ]
    }
   ],
   "source": [
    "# Perform searches (over threshold)\n",
    "threshold = 0.65\n",
    "keyword_query = \"basketball team\"\n",
    "semantic_results = vector_store.keyword_search_threshold(keyword_query, threshold)\n",
    "print(semantic_results)"
   ]
  },
  {
   "cell_type": "code",
   "execution_count": 269,
   "id": "33cc5a9c-6bcb-4a10-9325-9ac5e9ffb311",
   "metadata": {},
   "outputs": [
    {
     "name": "stdout",
     "output_type": "stream",
     "text": [
      "[]\n"
     ]
    }
   ],
   "source": [
    "# Perform searches (over threshold)\n",
    "threshold = 0.80\n",
    "keyword_query = \"Bulls\"\n",
    "semantic_results = vector_store.keyword_search_threshold(keyword_query, threshold)\n",
    "print(semantic_results)"
   ]
  },
  {
   "cell_type": "code",
   "execution_count": 271,
   "id": "bc31b323-fcef-415e-88c0-7b7147cae463",
   "metadata": {},
   "outputs": [
    {
     "name": "stdout",
     "output_type": "stream",
     "text": [
      "[' As a freshman, he was a member of the Tar Heels\\' national championship team in 1982.[5] Jordan joined the Bulls in 1984 as the third overall draft pick[5][14] and emerged as a league star, entertaining crowds with his prolific scoring while gaining a reputation as one of the best defensive players.[15] His leaping ability, demonstrated by performing slam dunks from the free-throw line in Slam Dunk Contests, earned him the nicknames \"Air Jordan\" and \"His Airness\".[5] Jordan won his first NBA title with the Bulls in 1991 and followed that with titles in 1992 and 1993, securing a three-peat.']\n"
     ]
    }
   ],
   "source": [
    "# Perform searches (over threshold)\n",
    "threshold = 0.75\n",
    "keyword_query = \"Bulls\"\n",
    "semantic_results = vector_store.keyword_search_threshold(keyword_query, threshold)\n",
    "print(semantic_results)"
   ]
  },
  {
   "cell_type": "code",
   "execution_count": 272,
   "id": "b74bf221-43ae-4a8b-bbea-e86b2513fa75",
   "metadata": {},
   "outputs": [
    {
     "name": "stdout",
     "output_type": "stream",
     "text": [
      "[' As a freshman, he was a member of the Tar Heels\\' national championship team in 1982.[5] Jordan joined the Bulls in 1984 as the third overall draft pick[5][14] and emerged as a league star, entertaining crowds with his prolific scoring while gaining a reputation as one of the best defensive players.[15] His leaping ability, demonstrated by performing slam dunks from the free-throw line in Slam Dunk Contests, earned him the nicknames \"Air Jordan\" and \"His Airness\".[5] Jordan won his first NBA title with the Bulls in 1991 and followed that with titles in 1992 and 1993, securing a three-peat.', ' Citing physical and mental exhaustion from basketball and superstardom, Jordan abruptly retired before the 1993–94 NBA season to play Minor League Baseball in the Chicago White Sox organization.', \" He returned to the Bulls in 1995 and led them to three more championships in 1996, 1997, and 1998, as well as a then-record 72 regular season wins in the 1995–96 NBA season.[5] Jordan retired for the second time in 1999, returning for two NBA seasons from 2001 to 2003 as a member of the Washington Wizards.[5][14] He was selected to play for the United States national team during his college and NBA careers, winning four gold medals—at the 1983 Pan American Games, 1984 Summer Olympics, 1992 Tournament of the Americas and 1992 Summer Olympics—while also being undefeated.[16]\\n\\nJordan's individual accolades include six NBA Finals Most Valuable Player (MVP) awards, ten NBA scoring titles (both all-time records), five NBA MVP awards, 10 All-NBA First Team designations, nine All-Defensive First Team honors, fourteen NBA All-Star Game selections, three NBA All-Star Game MVP awards, and three NBA steals titles.[14] He holds the NBA records for career regular season scoring average (30.1 points per game) and career playoff scoring average (33.4 points per game).[17] He is one of only eight players to achieve the basketball Triple Crown.\", ' Widely considered to be one of the greatest players of all time,[9][10][11] he was integral in popularizing basketball and the NBA around the world in the 1980s and 1990s,[12] becoming a global cultural icon.[13]\\n\\nJordan played college basketball with the North Carolina Tar Heels.', ' He became part-owner and head of basketball operations for the Charlotte Hornets (then named the Bobcats) in 2006 and bought a controlling interest in 2010, before selling his majority stake in 2023.', ' He played 15 seasons in the NBA between 1984-2003, winning six NBA championships with the Chicago Bulls.']\n"
     ]
    }
   ],
   "source": [
    "# Perform searches (over threshold)\n",
    "threshold = 0.70\n",
    "keyword_query = \"Bulls\"\n",
    "semantic_results = vector_store.keyword_search_threshold(keyword_query, threshold)\n",
    "print(semantic_results)"
   ]
  },
  {
   "cell_type": "code",
   "execution_count": 273,
   "id": "9dac4fb8-b802-4cc9-b6d8-650924c1065c",
   "metadata": {},
   "outputs": [
    {
     "name": "stdout",
     "output_type": "stream",
     "text": [
      "[]\n"
     ]
    }
   ],
   "source": [
    "# Perform searches (over threshold)\n",
    "threshold = 0.80\n",
    "keyword_query = \"Michael Jordan\"\n",
    "semantic_results = vector_store.keyword_search_threshold(keyword_query, threshold)\n",
    "print(semantic_results)"
   ]
  },
  {
   "cell_type": "code",
   "execution_count": 274,
   "id": "d8999a11-2ab9-49f3-9ccf-6d70af6a8029",
   "metadata": {},
   "outputs": [
    {
     "name": "stdout",
     "output_type": "stream",
     "text": [
      "[]\n"
     ]
    }
   ],
   "source": [
    "# Perform searches (over threshold)\n",
    "threshold = 0.75\n",
    "keyword_query = \"Michael Jordan\"\n",
    "semantic_results = vector_store.keyword_search_threshold(keyword_query, threshold)\n",
    "print(semantic_results)"
   ]
  },
  {
   "cell_type": "code",
   "execution_count": 275,
   "id": "dd17ee3a-c1b2-4a9a-a16d-3953283091ea",
   "metadata": {},
   "outputs": [
    {
     "name": "stdout",
     "output_type": "stream",
     "text": [
      "[' In 2014, he became the first billionaire player in NBA history.[26] In 2016, President Barack Obama awarded Jordan the Presidential Medal of Freedom.[27] As of 2025, his net worth is estimated at $3.8 billion by Forbes,[28] making him one of the richest celebrities.', ' Widely considered to be one of the greatest players of all time,[9][10][11] he was integral in popularizing basketball and the NBA around the world in the 1980s and 1990s,[12] becoming a global cultural icon.[13]\\n\\nJordan played college basketball with the North Carolina Tar Heels.', ' In 1999, Jordan was named the 20th century\\'s greatest North American athlete by ESPN and was second to Babe Ruth on the Associated Press\\' list of athletes of the century.[5] Jordan was twice inducted into the Naismith Memorial Basketball Hall of Fame, once in 2009 for his individual career,[18] and in 2010 as part of the 1992 United States men\\'s Olympic basketball team (\"The Dream Team\").[19] He became a member of the United States Olympic Hall of Fame in 2009,[20] an individual member of the FIBA Hall of Fame in 2015 and a \"Dream Team\" member in 2017.[21][22] Jordan was named to the NBA 75th Anniversary Team in 2021.[23] The trophy for the NBA Most Valuable Player Award is named in his honor.', \" He returned to the Bulls in 1995 and led them to three more championships in 1996, 1997, and 1998, as well as a then-record 72 regular season wins in the 1995–96 NBA season.[5] Jordan retired for the second time in 1999, returning for two NBA seasons from 2001 to 2003 as a member of the Washington Wizards.[5][14] He was selected to play for the United States national team during his college and NBA careers, winning four gold medals—at the 1983 Pan American Games, 1984 Summer Olympics, 1992 Tournament of the Americas and 1992 Summer Olympics—while also being undefeated.[16]\\n\\nJordan's individual accolades include six NBA Finals Most Valuable Player (MVP) awards, ten NBA scoring titles (both all-time records), five NBA MVP awards, 10 All-NBA First Team designations, nine All-Defensive First Team honors, fourteen NBA All-Star Game selections, three NBA All-Star Game MVP awards, and three NBA steals titles.[14] He holds the NBA records for career regular season scoring average (30.1 points per game) and career playoff scoring average (33.4 points per game).[17] He is one of only eight players to achieve the basketball Triple Crown.\", \"\\n\\nOne of the most effectively marketed athletes ever, Jordan made many product endorsements.[12][24] He fueled the success of Nike's Air Jordan sneakers, which were introduced in 1984 and remain popular.[25] Jordan starred as himself in the live-action/animation hybrid film Space Jam (1996) and was the focus of the Emmy-winning documentary series The Last Dance (2020).\", ' As a freshman, he was a member of the Tar Heels\\' national championship team in 1982.[5] Jordan joined the Bulls in 1984 as the third overall draft pick[5][14] and emerged as a league star, entertaining crowds with his prolific scoring while gaining a reputation as one of the best defensive players.[15] His leaping ability, demonstrated by performing slam dunks from the free-throw line in Slam Dunk Contests, earned him the nicknames \"Air Jordan\" and \"His Airness\".[5] Jordan won his first NBA title with the Bulls in 1991 and followed that with titles in 1992 and 1993, securing a three-peat.', ' He became part-owner and head of basketball operations for the Charlotte Hornets (then named the Bobcats) in 2006 and bought a controlling interest in 2010, before selling his majority stake in 2023.']\n"
     ]
    }
   ],
   "source": [
    "# Perform searches (over threshold)\n",
    "threshold = 0.7\n",
    "keyword_query = \"Michael Jordan\"\n",
    "semantic_results = vector_store.keyword_search_threshold(keyword_query, threshold)\n",
    "print(semantic_results)"
   ]
  },
  {
   "cell_type": "code",
   "execution_count": 276,
   "id": "177f6eeb-cd7b-48e9-8471-0e2398fe756a",
   "metadata": {},
   "outputs": [
    {
     "name": "stdout",
     "output_type": "stream",
     "text": [
      "[' In 2014, he became the first billionaire player in NBA history.[26] In 2016, President Barack Obama awarded Jordan the Presidential Medal of Freedom.[27] As of 2025, his net worth is estimated at $3.8 billion by Forbes,[28] making him one of the richest celebrities.', ' Widely considered to be one of the greatest players of all time,[9][10][11] he was integral in popularizing basketball and the NBA around the world in the 1980s and 1990s,[12] becoming a global cultural icon.[13]\\n\\nJordan played college basketball with the North Carolina Tar Heels.', ' In 1999, Jordan was named the 20th century\\'s greatest North American athlete by ESPN and was second to Babe Ruth on the Associated Press\\' list of athletes of the century.[5] Jordan was twice inducted into the Naismith Memorial Basketball Hall of Fame, once in 2009 for his individual career,[18] and in 2010 as part of the 1992 United States men\\'s Olympic basketball team (\"The Dream Team\").[19] He became a member of the United States Olympic Hall of Fame in 2009,[20] an individual member of the FIBA Hall of Fame in 2015 and a \"Dream Team\" member in 2017.[21][22] Jordan was named to the NBA 75th Anniversary Team in 2021.[23] The trophy for the NBA Most Valuable Player Award is named in his honor.', \" He returned to the Bulls in 1995 and led them to three more championships in 1996, 1997, and 1998, as well as a then-record 72 regular season wins in the 1995–96 NBA season.[5] Jordan retired for the second time in 1999, returning for two NBA seasons from 2001 to 2003 as a member of the Washington Wizards.[5][14] He was selected to play for the United States national team during his college and NBA careers, winning four gold medals—at the 1983 Pan American Games, 1984 Summer Olympics, 1992 Tournament of the Americas and 1992 Summer Olympics—while also being undefeated.[16]\\n\\nJordan's individual accolades include six NBA Finals Most Valuable Player (MVP) awards, ten NBA scoring titles (both all-time records), five NBA MVP awards, 10 All-NBA First Team designations, nine All-Defensive First Team honors, fourteen NBA All-Star Game selections, three NBA All-Star Game MVP awards, and three NBA steals titles.[14] He holds the NBA records for career regular season scoring average (30.1 points per game) and career playoff scoring average (33.4 points per game).[17] He is one of only eight players to achieve the basketball Triple Crown.\", \"\\n\\nOne of the most effectively marketed athletes ever, Jordan made many product endorsements.[12][24] He fueled the success of Nike's Air Jordan sneakers, which were introduced in 1984 and remain popular.[25] Jordan starred as himself in the live-action/animation hybrid film Space Jam (1996) and was the focus of the Emmy-winning documentary series The Last Dance (2020).\", ' As a freshman, he was a member of the Tar Heels\\' national championship team in 1982.[5] Jordan joined the Bulls in 1984 as the third overall draft pick[5][14] and emerged as a league star, entertaining crowds with his prolific scoring while gaining a reputation as one of the best defensive players.[15] His leaping ability, demonstrated by performing slam dunks from the free-throw line in Slam Dunk Contests, earned him the nicknames \"Air Jordan\" and \"His Airness\".[5] Jordan won his first NBA title with the Bulls in 1991 and followed that with titles in 1992 and 1993, securing a three-peat.', ' He became part-owner and head of basketball operations for the Charlotte Hornets (then named the Bobcats) in 2006 and bought a controlling interest in 2010, before selling his majority stake in 2023.', ' Jordan is a co-owner of 23XI Racing in the NASCAR Cup Series.', ' Citing physical and mental exhaustion from basketball and superstardom, Jordan abruptly retired before the 1993–94 NBA season to play Minor League Baseball in the Chicago White Sox organization.', '\\n\\nMichael Jeffrey Jordan (born February 17, 1963), also known by his initials MJ,[8] is an American businessman, former professional basketball and baseball player, who is a minority owner of the Charlotte Hornets of the National Basketball Association (NBA).']\n"
     ]
    }
   ],
   "source": [
    "# Perform searches (over threshold)\n",
    "threshold = 0.65\n",
    "keyword_query = \"Michael Jordan\"\n",
    "semantic_results = vector_store.keyword_search_threshold(keyword_query, threshold)\n",
    "print(semantic_results)"
   ]
  },
  {
   "cell_type": "code",
   "execution_count": null,
   "id": "29d6cdb5-50cc-436e-baaf-06ee40e21b51",
   "metadata": {},
   "outputs": [],
   "source": []
  }
 ],
 "metadata": {
  "kernelspec": {
   "display_name": "Python 3 (ipykernel)",
   "language": "python",
   "name": "python3"
  },
  "language_info": {
   "codemirror_mode": {
    "name": "ipython",
    "version": 3
   },
   "file_extension": ".py",
   "mimetype": "text/x-python",
   "name": "python",
   "nbconvert_exporter": "python",
   "pygments_lexer": "ipython3",
   "version": "3.13.7"
  }
 },
 "nbformat": 4,
 "nbformat_minor": 5
}
